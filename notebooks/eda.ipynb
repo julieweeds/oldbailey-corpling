{
 "cells": [
  {
   "cell_type": "markdown",
   "metadata": {},
   "source": [
    "# Exploratory Data Analysis\n",
    "\n",
    "Seem to have lost initial words.ipynb where EDA was carried out.  This is replacement"
   ]
  },
  {
   "cell_type": "code",
   "execution_count": 1,
   "metadata": {
    "collapsed": true
   },
   "outputs": [],
   "source": [
    "import pandas as pd\n",
    "import matplotlib.pyplot as plt\n",
    "%matplotlib inline\n"
   ]
  },
  {
   "cell_type": "code",
   "execution_count": 2,
   "metadata": {},
   "outputs": [
    {
     "name": "stderr",
     "output_type": "stream",
     "text": [
      "/Users/juliewe/miniconda3/lib/python3.6/site-packages/IPython/core/interactiveshell.py:2787: DtypeWarning: Columns (16) have mixed types. Specify dtype option on import or set low_memory=False.\n",
      "  if self.run_code(code, result):\n"
     ]
    }
   ],
   "source": [
    "worddatafile=\"../../voa/OBV2/obv_words_v2_28-01-2017.tsv\"\n",
    "trialdatafile=\"../../voa/OBV2/obv_defendants_trials.tsv\"\n",
    "\n",
    "worddata=pd.DataFrame.from_csv(worddatafile,sep='\\t')\n",
    "trialdata=pd.DataFrame.from_csv(trialdatafile,sep='\\t')"
   ]
  },
  {
   "cell_type": "code",
   "execution_count": 3,
   "metadata": {},
   "outputs": [
    {
     "data": {
      "text/html": [
       "<div>\n",
       "<table border=\"1\" class=\"dataframe\">\n",
       "  <thead>\n",
       "    <tr style=\"text-align: right;\">\n",
       "      <th></th>\n",
       "      <th>sess_date</th>\n",
       "      <th>year</th>\n",
       "      <th>obo_trial</th>\n",
       "      <th>obo_deftid</th>\n",
       "      <th>obc_u_no</th>\n",
       "      <th>obc_event</th>\n",
       "      <th>obc_speaker</th>\n",
       "      <th>obc_sex</th>\n",
       "      <th>obc_hiscoLabel</th>\n",
       "      <th>obc_hiscoCode</th>\n",
       "      <th>obc_class</th>\n",
       "      <th>obc_role</th>\n",
       "      <th>obv_role</th>\n",
       "      <th>words</th>\n",
       "      <th>obv_words_type</th>\n",
       "      <th>words_count</th>\n",
       "      <th>defendant</th>\n",
       "    </tr>\n",
       "    <tr>\n",
       "      <th>obv2wid</th>\n",
       "      <th></th>\n",
       "      <th></th>\n",
       "      <th></th>\n",
       "      <th></th>\n",
       "      <th></th>\n",
       "      <th></th>\n",
       "      <th></th>\n",
       "      <th></th>\n",
       "      <th></th>\n",
       "      <th></th>\n",
       "      <th></th>\n",
       "      <th></th>\n",
       "      <th></th>\n",
       "      <th></th>\n",
       "      <th></th>\n",
       "      <th></th>\n",
       "      <th></th>\n",
       "    </tr>\n",
       "  </thead>\n",
       "  <tbody>\n",
       "    <tr>\n",
       "      <th>1</th>\n",
       "      <td>17800112</td>\n",
       "      <td>1780</td>\n",
       "      <td>t17800112-1</td>\n",
       "      <td>NaN</td>\n",
       "      <td>1</td>\n",
       "      <td>17800112-1</td>\n",
       "      <td>17800112-0042</td>\n",
       "      <td>m</td>\n",
       "      <td>Working Proprietor (Guest House)</td>\n",
       "      <td>51040.0</td>\n",
       "      <td>higher (1-5)</td>\n",
       "      <td>NaN</td>\n",
       "      <td>wv</td>\n",
       "      <td>I live at No. 7, in Great Suffolk-street, Char...</td>\n",
       "      <td>s</td>\n",
       "      <td>40</td>\n",
       "      <td>MARY DYER</td>\n",
       "    </tr>\n",
       "    <tr>\n",
       "      <th>2</th>\n",
       "      <td>17800112</td>\n",
       "      <td>1780</td>\n",
       "      <td>t17800112-1</td>\n",
       "      <td>NaN</td>\n",
       "      <td>2</td>\n",
       "      <td>17800112-2</td>\n",
       "      <td>17800112-?LAW</td>\n",
       "      <td>m</td>\n",
       "      <td>Lawyer</td>\n",
       "      <td>12110.0</td>\n",
       "      <td>higher (1-5)</td>\n",
       "      <td>Lawyer</td>\n",
       "      <td>lj</td>\n",
       "      <td>Was that strange woman the prisoner?</td>\n",
       "      <td>q</td>\n",
       "      <td>6</td>\n",
       "      <td>MARY DYER</td>\n",
       "    </tr>\n",
       "    <tr>\n",
       "      <th>3</th>\n",
       "      <td>17800112</td>\n",
       "      <td>1780</td>\n",
       "      <td>t17800112-1</td>\n",
       "      <td>NaN</td>\n",
       "      <td>3</td>\n",
       "      <td>17800112-3</td>\n",
       "      <td>17800112-0042</td>\n",
       "      <td>m</td>\n",
       "      <td>Working Proprietor (Guest House)</td>\n",
       "      <td>51040.0</td>\n",
       "      <td>higher (1-5)</td>\n",
       "      <td>NaN</td>\n",
       "      <td>wv</td>\n",
       "      <td>Yes; she said she only wanted a pint of purl.</td>\n",
       "      <td>a</td>\n",
       "      <td>10</td>\n",
       "      <td>MARY DYER</td>\n",
       "    </tr>\n",
       "    <tr>\n",
       "      <th>4</th>\n",
       "      <td>17800112</td>\n",
       "      <td>1780</td>\n",
       "      <td>t17800112-1</td>\n",
       "      <td>NaN</td>\n",
       "      <td>4</td>\n",
       "      <td>17800112-4</td>\n",
       "      <td>17800112-?LAW</td>\n",
       "      <td>m</td>\n",
       "      <td>Lawyer</td>\n",
       "      <td>12110.0</td>\n",
       "      <td>higher (1-5)</td>\n",
       "      <td>Lawyer</td>\n",
       "      <td>lj</td>\n",
       "      <td>Do you keep a public-house?</td>\n",
       "      <td>q</td>\n",
       "      <td>5</td>\n",
       "      <td>MARY DYER</td>\n",
       "    </tr>\n",
       "    <tr>\n",
       "      <th>5</th>\n",
       "      <td>17800112</td>\n",
       "      <td>1780</td>\n",
       "      <td>t17800112-1</td>\n",
       "      <td>NaN</td>\n",
       "      <td>5</td>\n",
       "      <td>17800112-5</td>\n",
       "      <td>17800112-0042</td>\n",
       "      <td>m</td>\n",
       "      <td>Working Proprietor (Guest House)</td>\n",
       "      <td>51040.0</td>\n",
       "      <td>higher (1-5)</td>\n",
       "      <td>NaN</td>\n",
       "      <td>wv</td>\n",
       "      <td>No, a private house. I sent for a constable, a...</td>\n",
       "      <td>a</td>\n",
       "      <td>16</td>\n",
       "      <td>MARY DYER</td>\n",
       "    </tr>\n",
       "  </tbody>\n",
       "</table>\n",
       "</div>"
      ],
      "text/plain": [
       "         sess_date  year    obo_trial obo_deftid  obc_u_no   obc_event  \\\n",
       "obv2wid                                                                  \n",
       "1         17800112  1780  t17800112-1        NaN         1  17800112-1   \n",
       "2         17800112  1780  t17800112-1        NaN         2  17800112-2   \n",
       "3         17800112  1780  t17800112-1        NaN         3  17800112-3   \n",
       "4         17800112  1780  t17800112-1        NaN         4  17800112-4   \n",
       "5         17800112  1780  t17800112-1        NaN         5  17800112-5   \n",
       "\n",
       "           obc_speaker obc_sex                    obc_hiscoLabel  \\\n",
       "obv2wid                                                            \n",
       "1        17800112-0042       m  Working Proprietor (Guest House)   \n",
       "2        17800112-?LAW       m                            Lawyer   \n",
       "3        17800112-0042       m  Working Proprietor (Guest House)   \n",
       "4        17800112-?LAW       m                            Lawyer   \n",
       "5        17800112-0042       m  Working Proprietor (Guest House)   \n",
       "\n",
       "         obc_hiscoCode     obc_class obc_role obv_role  \\\n",
       "obv2wid                                                  \n",
       "1              51040.0  higher (1-5)      NaN       wv   \n",
       "2              12110.0  higher (1-5)   Lawyer       lj   \n",
       "3              51040.0  higher (1-5)      NaN       wv   \n",
       "4              12110.0  higher (1-5)   Lawyer       lj   \n",
       "5              51040.0  higher (1-5)      NaN       wv   \n",
       "\n",
       "                                                     words obv_words_type  \\\n",
       "obv2wid                                                                     \n",
       "1        I live at No. 7, in Great Suffolk-street, Char...              s   \n",
       "2                     Was that strange woman the prisoner?              q   \n",
       "3            Yes; she said she only wanted a pint of purl.              a   \n",
       "4                              Do you keep a public-house?              q   \n",
       "5        No, a private house. I sent for a constable, a...              a   \n",
       "\n",
       "        words_count  defendant  \n",
       "obv2wid                         \n",
       "1                40  MARY DYER  \n",
       "2                 6  MARY DYER  \n",
       "3                10  MARY DYER  \n",
       "4                 5  MARY DYER  \n",
       "5                16  MARY DYER  "
      ]
     },
     "execution_count": 3,
     "metadata": {},
     "output_type": "execute_result"
    }
   ],
   "source": [
    "worddata.head()"
   ]
  },
  {
   "cell_type": "code",
   "execution_count": 20,
   "metadata": {},
   "outputs": [
    {
     "name": "stdout",
     "output_type": "stream",
     "text": [
      "9820165\n"
     ]
    }
   ],
   "source": [
    "sum=0\n",
    "for thing in worddata['words_count']:\n",
    "    try:\n",
    "        count=int(thing)\n",
    "    except:\n",
    "        pass\n",
    "    #print(count,type(count))\n",
    "    sum+=count\n",
    "print(sum)"
   ]
  },
  {
   "cell_type": "code",
   "execution_count": 4,
   "metadata": {
    "collapsed": true
   },
   "outputs": [],
   "source": [
    "nonlegal=pd.concat([worddata[worddata['obv_role']=='wv'],worddata[worddata['obv_role']=='def']])\n",
    "female=nonlegal[nonlegal['obc_sex']=='f']\n",
    "male=nonlegal[nonlegal['obc_sex']=='m']"
   ]
  },
  {
   "cell_type": "code",
   "execution_count": 5,
   "metadata": {},
   "outputs": [
    {
     "data": {
      "text/html": [
       "<div>\n",
       "<table border=\"1\" class=\"dataframe\">\n",
       "  <thead>\n",
       "    <tr style=\"text-align: right;\">\n",
       "      <th></th>\n",
       "      <th>sess_date</th>\n",
       "      <th>year</th>\n",
       "      <th>obo_trial</th>\n",
       "      <th>obo_deftid</th>\n",
       "      <th>obc_u_no</th>\n",
       "      <th>obc_event</th>\n",
       "      <th>obc_speaker</th>\n",
       "      <th>obc_sex</th>\n",
       "      <th>obc_hiscoLabel</th>\n",
       "      <th>obc_hiscoCode</th>\n",
       "      <th>obc_class</th>\n",
       "      <th>obc_role</th>\n",
       "      <th>obv_role</th>\n",
       "      <th>words</th>\n",
       "      <th>obv_words_type</th>\n",
       "      <th>words_count</th>\n",
       "      <th>defendant</th>\n",
       "    </tr>\n",
       "    <tr>\n",
       "      <th>obv2wid</th>\n",
       "      <th></th>\n",
       "      <th></th>\n",
       "      <th></th>\n",
       "      <th></th>\n",
       "      <th></th>\n",
       "      <th></th>\n",
       "      <th></th>\n",
       "      <th></th>\n",
       "      <th></th>\n",
       "      <th></th>\n",
       "      <th></th>\n",
       "      <th></th>\n",
       "      <th></th>\n",
       "      <th></th>\n",
       "      <th></th>\n",
       "      <th></th>\n",
       "      <th></th>\n",
       "    </tr>\n",
       "  </thead>\n",
       "  <tbody>\n",
       "    <tr>\n",
       "      <th>1</th>\n",
       "      <td>17800112</td>\n",
       "      <td>1780</td>\n",
       "      <td>t17800112-1</td>\n",
       "      <td>NaN</td>\n",
       "      <td>1</td>\n",
       "      <td>17800112-1</td>\n",
       "      <td>17800112-0042</td>\n",
       "      <td>m</td>\n",
       "      <td>Working Proprietor (Guest House)</td>\n",
       "      <td>51040.0</td>\n",
       "      <td>higher (1-5)</td>\n",
       "      <td>NaN</td>\n",
       "      <td>wv</td>\n",
       "      <td>I live at No. 7, in Great Suffolk-street, Char...</td>\n",
       "      <td>s</td>\n",
       "      <td>40</td>\n",
       "      <td>MARY DYER</td>\n",
       "    </tr>\n",
       "    <tr>\n",
       "      <th>3</th>\n",
       "      <td>17800112</td>\n",
       "      <td>1780</td>\n",
       "      <td>t17800112-1</td>\n",
       "      <td>NaN</td>\n",
       "      <td>3</td>\n",
       "      <td>17800112-3</td>\n",
       "      <td>17800112-0042</td>\n",
       "      <td>m</td>\n",
       "      <td>Working Proprietor (Guest House)</td>\n",
       "      <td>51040.0</td>\n",
       "      <td>higher (1-5)</td>\n",
       "      <td>NaN</td>\n",
       "      <td>wv</td>\n",
       "      <td>Yes; she said she only wanted a pint of purl.</td>\n",
       "      <td>a</td>\n",
       "      <td>10</td>\n",
       "      <td>MARY DYER</td>\n",
       "    </tr>\n",
       "    <tr>\n",
       "      <th>5</th>\n",
       "      <td>17800112</td>\n",
       "      <td>1780</td>\n",
       "      <td>t17800112-1</td>\n",
       "      <td>NaN</td>\n",
       "      <td>5</td>\n",
       "      <td>17800112-5</td>\n",
       "      <td>17800112-0042</td>\n",
       "      <td>m</td>\n",
       "      <td>Working Proprietor (Guest House)</td>\n",
       "      <td>51040.0</td>\n",
       "      <td>higher (1-5)</td>\n",
       "      <td>NaN</td>\n",
       "      <td>wv</td>\n",
       "      <td>No, a private house. I sent for a constable, a...</td>\n",
       "      <td>a</td>\n",
       "      <td>16</td>\n",
       "      <td>MARY DYER</td>\n",
       "    </tr>\n",
       "    <tr>\n",
       "      <th>7</th>\n",
       "      <td>17800112</td>\n",
       "      <td>1780</td>\n",
       "      <td>t17800112-1</td>\n",
       "      <td>NaN</td>\n",
       "      <td>7</td>\n",
       "      <td>17800112-7</td>\n",
       "      <td>17800112-0042</td>\n",
       "      <td>m</td>\n",
       "      <td>Working Proprietor (Guest House)</td>\n",
       "      <td>51040.0</td>\n",
       "      <td>higher (1-5)</td>\n",
       "      <td>NaN</td>\n",
       "      <td>wv</td>\n",
       "      <td>No.</td>\n",
       "      <td>a</td>\n",
       "      <td>1</td>\n",
       "      <td>MARY DYER</td>\n",
       "    </tr>\n",
       "    <tr>\n",
       "      <th>10</th>\n",
       "      <td>17800112</td>\n",
       "      <td>1780</td>\n",
       "      <td>t17800112-1</td>\n",
       "      <td>NaN</td>\n",
       "      <td>10</td>\n",
       "      <td>17800112-10</td>\n",
       "      <td>17800112-0042</td>\n",
       "      <td>m</td>\n",
       "      <td>Working Proprietor (Guest House)</td>\n",
       "      <td>51040.0</td>\n",
       "      <td>higher (1-5)</td>\n",
       "      <td>NaN</td>\n",
       "      <td>wv</td>\n",
       "      <td>Never in my life.</td>\n",
       "      <td>a</td>\n",
       "      <td>4</td>\n",
       "      <td>MARY DYER</td>\n",
       "    </tr>\n",
       "  </tbody>\n",
       "</table>\n",
       "</div>"
      ],
      "text/plain": [
       "         sess_date  year    obo_trial obo_deftid  obc_u_no    obc_event  \\\n",
       "obv2wid                                                                   \n",
       "1         17800112  1780  t17800112-1        NaN         1   17800112-1   \n",
       "3         17800112  1780  t17800112-1        NaN         3   17800112-3   \n",
       "5         17800112  1780  t17800112-1        NaN         5   17800112-5   \n",
       "7         17800112  1780  t17800112-1        NaN         7   17800112-7   \n",
       "10        17800112  1780  t17800112-1        NaN        10  17800112-10   \n",
       "\n",
       "           obc_speaker obc_sex                    obc_hiscoLabel  \\\n",
       "obv2wid                                                            \n",
       "1        17800112-0042       m  Working Proprietor (Guest House)   \n",
       "3        17800112-0042       m  Working Proprietor (Guest House)   \n",
       "5        17800112-0042       m  Working Proprietor (Guest House)   \n",
       "7        17800112-0042       m  Working Proprietor (Guest House)   \n",
       "10       17800112-0042       m  Working Proprietor (Guest House)   \n",
       "\n",
       "         obc_hiscoCode     obc_class obc_role obv_role  \\\n",
       "obv2wid                                                  \n",
       "1              51040.0  higher (1-5)      NaN       wv   \n",
       "3              51040.0  higher (1-5)      NaN       wv   \n",
       "5              51040.0  higher (1-5)      NaN       wv   \n",
       "7              51040.0  higher (1-5)      NaN       wv   \n",
       "10             51040.0  higher (1-5)      NaN       wv   \n",
       "\n",
       "                                                     words obv_words_type  \\\n",
       "obv2wid                                                                     \n",
       "1        I live at No. 7, in Great Suffolk-street, Char...              s   \n",
       "3            Yes; she said she only wanted a pint of purl.              a   \n",
       "5        No, a private house. I sent for a constable, a...              a   \n",
       "7                                                      No.              a   \n",
       "10                                       Never in my life.              a   \n",
       "\n",
       "        words_count  defendant  \n",
       "obv2wid                         \n",
       "1                40  MARY DYER  \n",
       "3                10  MARY DYER  \n",
       "5                16  MARY DYER  \n",
       "7                 1  MARY DYER  \n",
       "10                4  MARY DYER  "
      ]
     },
     "execution_count": 5,
     "metadata": {},
     "output_type": "execute_result"
    }
   ],
   "source": [
    "male.head()"
   ]
  },
  {
   "cell_type": "code",
   "execution_count": 6,
   "metadata": {
    "collapsed": true
   },
   "outputs": [],
   "source": [
    "male_utterances_by_year=male.groupby('year')['obc_event'].nunique()"
   ]
  },
  {
   "cell_type": "code",
   "execution_count": 7,
   "metadata": {},
   "outputs": [
    {
     "data": {
      "text/plain": [
       "year\n",
       "1780    2946\n",
       "1781    2449\n",
       "1782    1634\n",
       "1783    1264\n",
       "1784     410\n",
       "1785    1240\n",
       "1786     996\n",
       "1787    2151\n",
       "1790     824\n",
       "1791    2413\n",
       "1792    1798\n",
       "1793    2421\n",
       "1794    1282\n",
       "1795    2953\n",
       "1796    1209\n",
       "1797    2283\n",
       "1798    1607\n",
       "1800    4507\n",
       "1802    2555\n",
       "1803    2817\n",
       "1804     785\n",
       "1805    1373\n",
       "1806    1117\n",
       "1807     725\n",
       "1808     658\n",
       "1809     532\n",
       "1810    2082\n",
       "1811     506\n",
       "1812    3137\n",
       "1813    2088\n",
       "        ... \n",
       "1843    3486\n",
       "1845    1448\n",
       "1846     284\n",
       "1848     308\n",
       "1849     837\n",
       "1850    1517\n",
       "1851     757\n",
       "1852    1626\n",
       "1853    1214\n",
       "1854    1397\n",
       "1855     299\n",
       "1857     632\n",
       "1859     284\n",
       "1860     410\n",
       "1861    1253\n",
       "1862    2198\n",
       "1864     672\n",
       "1865     600\n",
       "1866     486\n",
       "1867    1019\n",
       "1868     785\n",
       "1869     698\n",
       "1870    1276\n",
       "1871    1900\n",
       "1872    1380\n",
       "1873     411\n",
       "1874     326\n",
       "1875     185\n",
       "1878     407\n",
       "1880    2268\n",
       "Name: obc_event, dtype: int64"
      ]
     },
     "execution_count": 7,
     "metadata": {},
     "output_type": "execute_result"
    }
   ],
   "source": [
    "male_utterances_by_year"
   ]
  },
  {
   "cell_type": "code",
   "execution_count": 8,
   "metadata": {},
   "outputs": [
    {
     "name": "stdout",
     "output_type": "stream",
     "text": [
      "{1780: 453985, 1790: 543530, 1800: 498349, 1810: 634008, 1820: 671786, 1830: 1096151, 1840: 796071, 1850: 756298, 1860: 854920, 1870: 737546, 1880: 341268}\n",
      "7383912\n"
     ]
    }
   ],
   "source": [
    "male_years_words=male.ix[:,['year','words']]\n",
    "maletotaldict={}\n",
    "for row in male_years_words.itertuples():\n",
    "    #print(row[1],row[2])\n",
    "    tokens=row[2].split(' ')\n",
    "    decade=int(row[1]/10)*10\n",
    "    maletotaldict[decade]=maletotaldict.get(decade,0)+len(tokens)\n",
    "print(maletotaldict)\n",
    "\n",
    "print(sum(maletotaldict.values()))"
   ]
  },
  {
   "cell_type": "code",
   "execution_count": 9,
   "metadata": {},
   "outputs": [
    {
     "data": {
      "text/plain": [
       "year\n",
       "1780    1070\n",
       "1781     532\n",
       "1782     420\n",
       "1783     181\n",
       "1785     237\n",
       "1786     337\n",
       "1787     411\n",
       "1790     413\n",
       "1791     397\n",
       "1792     252\n",
       "1793     375\n",
       "1794     467\n",
       "1795     989\n",
       "1796     259\n",
       "1797     748\n",
       "1798     358\n",
       "1800     997\n",
       "1802     516\n",
       "1803     635\n",
       "1804     184\n",
       "1805     374\n",
       "1806     323\n",
       "1807      90\n",
       "1808     189\n",
       "1809     195\n",
       "1810     542\n",
       "1811     193\n",
       "1812     980\n",
       "1813     391\n",
       "1814     119\n",
       "        ... \n",
       "1843     794\n",
       "1845     341\n",
       "1846      53\n",
       "1848      70\n",
       "1849     147\n",
       "1850     301\n",
       "1851     193\n",
       "1852     395\n",
       "1853     210\n",
       "1854     339\n",
       "1855      51\n",
       "1857     187\n",
       "1859      32\n",
       "1860     116\n",
       "1861     224\n",
       "1862     433\n",
       "1864     191\n",
       "1865     119\n",
       "1866     125\n",
       "1867     220\n",
       "1868     134\n",
       "1869      69\n",
       "1870     255\n",
       "1871     399\n",
       "1872     325\n",
       "1873      62\n",
       "1874      41\n",
       "1875      58\n",
       "1878      37\n",
       "1880     383\n",
       "Name: obc_event, dtype: int64"
      ]
     },
     "execution_count": 9,
     "metadata": {},
     "output_type": "execute_result"
    }
   ],
   "source": [
    "female_utterances_by_year=female.groupby('year')['obc_event'].nunique()\n",
    "female_utterances_by_year"
   ]
  },
  {
   "cell_type": "code",
   "execution_count": 10,
   "metadata": {},
   "outputs": [
    {
     "name": "stdout",
     "output_type": "stream",
     "text": [
      "{1780: 116136, 1790: 116122, 1800: 106212, 1810: 128089, 1820: 147269, 1830: 267641, 1840: 202578, 1850: 195408, 1860: 183332, 1870: 146718, 1880: 46417}\n",
      "1655922\n"
     ]
    }
   ],
   "source": [
    "female_years_words=female.ix[:,['year','words']]\n",
    "femaletotaldict={}\n",
    "for row in female_years_words.itertuples():\n",
    "    #print(row[1],row[2])\n",
    "    tokens=row[2].split(' ')\n",
    "    decade=int(row[1]/10)*10\n",
    "    femaletotaldict[decade]=femaletotaldict.get(decade,0)+len(tokens)\n",
    "print(femaletotaldict)\n",
    "print(sum(femaletotaldict.values()))"
   ]
  },
  {
   "cell_type": "code",
   "execution_count": 23,
   "metadata": {},
   "outputs": [
    {
     "data": {
      "image/png": "[encoded data removed]",
      "text/plain": [
       "<matplotlib.figure.Figure at 0x10fc849b0>"
      ]
     },
     "metadata": {},
     "output_type": "display_data"
    }
   ],
   "source": [
    "import numpy as np\n",
    "years=range(1780,1890,10)\n",
    "ms=[]\n",
    "fs=[]\n",
    "labels=[]\n",
    "for y in years:\n",
    "    ms.append(maletotaldict.get(y,0))\n",
    "    fs.append(femaletotaldict.get(y,0))\n",
    "    labels.append(str(y)+'s')\n",
    "toplot=[ms,fs]\n",
    "    \n",
    "width=0.35\n",
    "N=len(years)    \n",
    "ind=np.arange(N)\n",
    "fig,ax=plt.subplots(figsize=(14,7))\n",
    "colors=['b','r']\n",
    "rectset=[]\n",
    "for i,plotset in enumerate(toplot):\n",
    "    rectset.append(ax.bar(ind+(i-0.5)*width,plotset,width,color=colors[i]))\n",
    "\n",
    "#for rects in rectset:\n",
    "#    for rect in rects:\n",
    "#        height = rect.get_height()\n",
    "#        ax.text(rect.get_x() + rect.get_width() / 2., height + 1,\n",
    "#        '%1.0f' % height,ha='center', va='bottom')    \n",
    "    \n",
    "ax.set_xticks(ind)\n",
    "ax.set_xticklabels(labels)\n",
    "ax.legend(['Male Nonlegal Speakers','Female Nonlegal Speakers'],fontsize=20)\n",
    "ax.set_xlabel('Decade',fontsize=20)\n",
    "ax.set_ylabel(\"Approximate Number of Words\",fontsize=20)\n",
    "ax.set_title('Number of Words in OBVC by Year and Gender for Nonlegal Speakers',fontsize=20)\n",
    "plt.show()  \n"
   ]
  },
  {
   "cell_type": "code",
   "execution_count": 14,
   "metadata": {},
   "outputs": [
    {
     "name": "stdout",
     "output_type": "stream",
     "text": [
      "118269 118269\n"
     ]
    }
   ],
   "source": [
    "male_joined=pd.merge(male,trialdata,on=['obo_trial','year'])\n",
    "male_select=male_joined.ix[:,['year','deft_offcat','words']]\n",
    "female_joined=pd.merge(female,trialdata,on=['obo_trial','year'])\n",
    "female_select=female_joined.ix[:,['year','deft_offcat','words']]\n",
    "\n",
    "print(len(male),len(male_joined))"
   ]
  },
  {
   "cell_type": "code",
   "execution_count": 15,
   "metadata": {},
   "outputs": [
    {
     "name": "stdout",
     "output_type": "stream",
     "text": [
      "{'theft': 4238906, 'violentTheft': 359008, 'royalOffences': 410452, 'miscellaneous': 118122, 'damage': 115368, 'breakingPeace': 470734, 'kill': 645020, 'deception': 984159, 'sexual': 42143}\n",
      "{'theft': 871982, 'violentTheft': 76165, 'damage': 22118, 'breakingPeace': 143111, 'royalOffences': 145480, 'kill': 227715, 'deception': 115116, 'sexual': 35256, 'miscellaneous': 18979}\n",
      "7383912\n",
      "1655922\n"
     ]
    }
   ],
   "source": [
    "maleoffdict={}\n",
    "for row in male_select.itertuples():\n",
    "    offence=row[2]\n",
    "    tokens=row[3].split(' ')\n",
    "    #print(tokens)\n",
    "    maleoffdict[offence]=maleoffdict.get(offence,0)+len(tokens)\n",
    "    #break\n",
    "femaleoffdict={}\n",
    "for row in female_select.itertuples():\n",
    "    offence=row[2]\n",
    "    tokens=row[3].split(' ')\n",
    "    #print(tokens)\n",
    "    femaleoffdict[offence]=femaleoffdict.get(offence,0)+len(tokens)\n",
    "    #break\n",
    "print(maleoffdict)\n",
    "print(femaleoffdict)\n",
    "\n",
    "print(sum(maleoffdict.values()))\n",
    "print(sum(femaleoffdict.values()))"
   ]
  },
  {
   "cell_type": "code",
   "execution_count": 22,
   "metadata": {},
   "outputs": [
    {
     "data": {
      "image/png": "[encoded data removed]",
      "text/plain": [
       "<matplotlib.figure.Figure at 0x110cb66a0>"
      ]
     },
     "metadata": {},
     "output_type": "display_data"
    }
   ],
   "source": [
    "xs=maleoffdict.keys()\n",
    "ms=[]\n",
    "fs=[]\n",
    "for x in xs:\n",
    "    ms.append(maleoffdict.get(x,0))\n",
    "    fs.append(femaleoffdict.get(x,0))\n",
    "toplot=[ms,fs]\n",
    "    \n",
    "width=0.35\n",
    "N=len(xs)    \n",
    "ind=np.arange(N)\n",
    "fig,ax=plt.subplots(figsize=(14,7))\n",
    "colors=['b','r']\n",
    "rectset=[]\n",
    "for i,plotset in enumerate(toplot):\n",
    "    rectset.append(ax.bar(ind+(i-0.5)*width,plotset,width,color=colors[i]))\n",
    "\n",
    "#for rects in rectset:\n",
    "#    for rect in rects:\n",
    "#        height = rect.get_height()\n",
    "#        ax.text(rect.get_x() + rect.get_width() / 2., height + 1,\n",
    "#        '%1.0f' % height,ha='center', va='bottom')    \n",
    "    \n",
    "ax.set_xticks(ind)\n",
    "ax.set_xticklabels(xs)\n",
    "ax.legend(['Male Nonlegal Speakers','Female Nonlegal Speakers'],fontsize=20)\n",
    "ax.set_xlabel('Offence Type',fontsize=20)\n",
    "ax.set_ylabel(\"Approximate Number of Words\",fontsize=20)\n",
    "ax.set_title('Number of Words in OBVC by Offence and Gender for Nonlegal Speakers',fontsize=20)\n",
    "plt.show()  \n"
   ]
  },
  {
   "cell_type": "code",
   "execution_count": 25,
   "metadata": {},
   "outputs": [
    {
     "name": "stdout",
     "output_type": "stream",
     "text": [
      "{1780: 85673, 1781: 53098, 1782: 44035, 1783: 29341, 1785: 25669, 1786: 20471, 1787: 50703, 1790: 20832, 1791: 77500, 1792: 59313, 1793: 48509, 1794: 26689, 1795: 56867, 1796: 41558, 1797: 48062, 1798: 33134, 1800: 109577, 1802: 76246, 1803: 64749, 1804: 12953, 1805: 34803, 1806: 33164, 1807: 21921, 1808: 20378, 1809: 24213, 1810: 68870, 1811: 17467, 1812: 82785, 1813: 64807, 1814: 16271, 1815: 87382, 1816: 22915, 1817: 77538, 1818: 35073, 1820: 64858, 1821: 125440, 1822: 61031, 1823: 48844, 1825: 36322, 1826: 46959, 1827: 99008, 1829: 33501, 1830: 49702, 1832: 51450, 1834: 36533, 1835: 247251, 1836: 149218, 1837: 84379, 1838: 103807, 1839: 91263, 1841: 155912, 1842: 15243, 1843: 175321, 1845: 86360, 1846: 11411, 1848: 13666, 1849: 49672, 1850: 69685, 1851: 32996, 1852: 66045, 1853: 38157, 1854: 31773, 1855: 16720, 1857: 16920, 1859: 11633, 1860: 25303, 1861: 48467, 1862: 80525, 1864: 25535, 1865: 23602, 1866: 15196, 1867: 24491, 1868: 22554, 1869: 20127, 1870: 30144, 1871: 58398, 1872: 36295, 1873: 19829, 1874: 15912, 1875: 11447, 1878: 16427, 1880: 51008}\n",
      "{1780: 28969, 1781: 16943, 1782: 10442, 1783: 7177, 1785: 5501, 1786: 3677, 1787: 13363, 1790: 2709, 1791: 12287, 1792: 12579, 1793: 10643, 1794: 9349, 1795: 17995, 1796: 7166, 1797: 11594, 1798: 4951, 1800: 20152, 1802: 13402, 1803: 16084, 1804: 2963, 1805: 9193, 1806: 8690, 1807: 3137, 1808: 4543, 1809: 4624, 1810: 18678, 1811: 4106, 1812: 16589, 1813: 10846, 1814: 3287, 1815: 14320, 1816: 4472, 1817: 14205, 1818: 7609, 1820: 12821, 1821: 21973, 1822: 16081, 1823: 11556, 1825: 8662, 1826: 11357, 1827: 21331, 1829: 7154, 1830: 9959, 1832: 9389, 1834: 11257, 1835: 51503, 1836: 35285, 1837: 20267, 1838: 20924, 1839: 20580, 1841: 39170, 1842: 3418, 1843: 39601, 1845: 19865, 1846: 2293, 1848: 2453, 1849: 8537, 1850: 14013, 1851: 8889, 1852: 9356, 1853: 6900, 1854: 7595, 1855: 2157, 1857: 2626, 1859: 1948, 1860: 1586, 1861: 6979, 1862: 8810, 1864: 8531, 1865: 2193, 1866: 1296, 1867: 4975, 1868: 1275, 1869: 1978, 1870: 4195, 1871: 7167, 1872: 1493, 1873: 1416, 1874: 1777, 1875: 1054, 1878: 158, 1880: 5934}\n"
     ]
    }
   ],
   "source": [
    "myoffence='theft'\n",
    "maletheftdict={}\n",
    "for row in male_select.itertuples():\n",
    "    year=row[1]\n",
    "    offence=row[2]\n",
    "    tokens=row[3].split(' ')\n",
    "    if offence==myoffence:\n",
    "        maletheftdict[year]=maletheftdict.get(year,0)+len(tokens)\n",
    "femaletheftdict={}\n",
    "for row in female_select.itertuples():\n",
    "    year=row[1]\n",
    "    offence=row[2]\n",
    "    tokens=row[3].split(' ')\n",
    "    if offence==myoffence:\n",
    "        femaletheftdict[year]=femaletheftdict.get(year,0)+len(tokens)\n",
    "print(maletheftdict)\n",
    "print(femaletheftdict)"
   ]
  },
  {
   "cell_type": "code",
   "execution_count": 26,
   "metadata": {},
   "outputs": [
    {
     "data": {
      "image/png": "[encoded data removed]",
      "text/plain": [
       "<matplotlib.figure.Figure at 0x110c041d0>"
      ]
     },
     "metadata": {},
     "output_type": "display_data"
    }
   ],
   "source": [
    "years=range(1800,1821,1)\n",
    "ms=[]\n",
    "fs=[]\n",
    "labels=[]\n",
    "for y in years:\n",
    "    ms.append(maletheftdict.get(y,0))\n",
    "    fs.append(femaletheftdict.get(y,0))\n",
    "    labels.append(str(y))\n",
    "toplot=[ms,fs]\n",
    "    \n",
    "width=0.35\n",
    "N=len(years)    \n",
    "ind=np.arange(N)\n",
    "fig,ax=plt.subplots(figsize=(14,7))\n",
    "colors=['b','r']\n",
    "rectset=[]\n",
    "for i,plotset in enumerate(toplot):\n",
    "    rectset.append(ax.bar(ind+(i-0.5)*width,plotset,width,color=colors[i]))\n",
    "\n",
    "#for rects in rectset:\n",
    "#    for rect in rects:\n",
    "#        height = rect.get_height()\n",
    "#        ax.text(rect.get_x() + rect.get_width() / 2., height + 1,\n",
    "#        '%1.0f' % height,ha='center', va='bottom')    \n",
    "    \n",
    "ax.set_xticks(ind)\n",
    "ax.set_xticklabels(labels)\n",
    "ax.legend(['Male Nonlegal Speakers','Female Nonlegal Speakers'],fontsize=20)\n",
    "ax.set_xlabel('Year',fontsize=20)\n",
    "ax.set_ylabel(\"Approximate Number of Words\",fontsize=20)\n",
    "ax.set_title('Number of Words in OBVC by Year and Gender for Nonlegal Speakers in Theft Trials',fontsize=20)\n",
    "plt.show()  \n"
   ]
  },
  {
   "cell_type": "code",
   "execution_count": 105,
   "metadata": {},
   "outputs": [
    {
     "name": "stdout",
     "output_type": "stream",
     "text": [
      "935970\n",
      "189721\n"
     ]
    }
   ],
   "source": [
    "print(sum(ms))\n",
    "print(sum(fs))"
   ]
  },
  {
   "cell_type": "code",
   "execution_count": null,
   "metadata": {
    "collapsed": true
   },
   "outputs": [],
   "source": []
  }
 ],
 "metadata": {
  "kernelspec": {
   "display_name": "Python 3",
   "language": "python",
   "name": "python3"
  },
  "language_info": {
   "codemirror_mode": {
    "name": "ipython",
    "version": 3
   },
   "file_extension": ".py",
   "mimetype": "text/x-python",
   "name": "python",
   "nbconvert_exporter": "python",
   "pygments_lexer": "ipython3",
   "version": "3.6.0"
  }
 },
 "nbformat": 4,
 "nbformat_minor": 2
}
