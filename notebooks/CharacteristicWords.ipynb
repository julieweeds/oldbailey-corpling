{
 "cells": [
  {
   "cell_type": "markdown",
   "metadata": {},
   "source": [
    "# Characteristic Words\n",
    "\n",
    "A notebook to explore the distribution of characterising / high frequency / function words in different corpora."
   ]
  },
  {
   "cell_type": "code",
   "execution_count": 1,
   "metadata": {
    "collapsed": true
   },
   "outputs": [],
   "source": [
    "import spacy\n",
    "import pandas as pd\n",
    "import matplotlib.pyplot as plt\n",
    "import numpy as np\n",
    "%matplotlib inline\n",
    "import time\n",
    "from collections import defaultdict\n",
    "import operator,math\n",
    "from gensim.models import Word2Vec\n",
    "import math\n",
    "\n",
    "import nlp_tools"
   ]
  },
  {
   "cell_type": "markdown",
   "metadata": {},
   "source": [
    "Functions to find the high frequency (ranked higher than k) distribution for a corpus and display the very highest frequency words (ranked higher than cutoff)"
   ]
  },
  {
   "cell_type": "code",
   "execution_count": 2,
   "metadata": {
    "collapsed": true
   },
   "outputs": [],
   "source": [
    "#For a given set of corpora, find the frequency distribution of the k highest frequency words\n",
    "#Output total size of corpus and sorted list of term, frequency pairs\n",
    "\n",
    "def find_hfw_dist(corpora,k=100000):\n",
    "    #add worddicts for individual corpora\n",
    "    #sort and output highest frequency words\n",
    "    #visualise\n",
    "    \n",
    "    sumdict={}\n",
    "    corpussize=0\n",
    "    for acorpus in corpora:\n",
    "        for(key,value) in acorpus.allworddict.items():\n",
    "            sumdict[key.lower()]=sumdict.get(key.lower(),0)+value\n",
    "            corpussize+=value\n",
    "      \n",
    "    print(\"Size of corpus is {}\".format(corpussize))\n",
    "    candidates=sorted(sumdict.items(),key=operator.itemgetter(1),reverse=True)\n",
    "    #print(candidates[:50])\n",
    "    #print(len(sumdict))\n",
    "    #print(sumdict)\n",
    "    return corpussize,candidates[:k]\n",
    "        \n",
    "  "
   ]
  },
  {
   "cell_type": "code",
   "execution_count": 3,
   "metadata": {
    "collapsed": true
   },
   "outputs": [],
   "source": [
    "#display the most frequent words in 1 or 2 high frequency word distributions\n",
    "\n",
    "def display(hfw,cutoff=10,words=[],hfb=None,leg=None):\n",
    "    width=0.7\n",
    "    corpussize=hfw[0]\n",
    "    if words==[]:\n",
    "        todisplay=hfw[1][:cutoff]\n",
    "    else:\n",
    "        todisplay=[(x,y) for (x,y) in hfw[1] if x in words]\n",
    "        cutoff=len(words)\n",
    "    barvalues=sorted(todisplay,key=operator.itemgetter(0),reverse=False)\n",
    "    #print(barvalues)\n",
    "    xs,ys=[*zip(*barvalues)]\n",
    "    ps=[y/corpussize for y in ys]\n",
    "    \n",
    "    toplot=[ps]\n",
    "    if hfb!=None:\n",
    "        width=0.35\n",
    "        corpussizeb=hfb[0]\n",
    "        if words==[]:\n",
    "            todisplayb=hfb[1][:cutoff]\n",
    "        else:\n",
    "            todisplayb=[(x,y) for (x,y) in hfb[1] if x in words]\n",
    "        barb=sorted(todisplayb,key=operator.itemgetter(0),reverse=False)\n",
    "        \n",
    "        xb,yb=[*zip(*barb)]\n",
    "        pb=[y/corpussizeb for y in yb]\n",
    "        \n",
    "        toplot.append(pb)\n",
    "        \n",
    "    \n",
    "    N=len(xs)\n",
    "    ind=np.arange(N)\n",
    "    fig,ax=plt.subplots(figsize=(cutoff,cutoff/4))\n",
    "    \n",
    "    rects1=ax.bar(ind,ps,width,color='r')\n",
    "    if hfb!=None:\n",
    "        rects2=ax.bar(ind+width,pb,width,color='b')\n",
    "        if leg==None:\n",
    "            ax.legend((rects1,rects2),(\"Dist1\",\"Dist2\"))\n",
    "        else:\n",
    "            ax.legend((rects1,rects2),leg)\n",
    "    ax.set_xticks(ind)\n",
    "    ax.set_xticklabels(xs)\n",
    "    ax.set_xlabel('High Frequency Words')\n",
    "    ax.set_ylabel('Probability')\n",
    "    \n",
    "    \n",
    "    return xs\n",
    "    \n"
   ]
  },
  {
   "cell_type": "markdown",
   "metadata": {
    "collapsed": true
   },
   "source": [
    "# Differences Between Female and Male Non-Legal Speech in 1800-1820\n",
    "\n",
    "We are interested in the period 1800-1820.  We are interested in non-legal speech (witness and defendants) in 'theft' trials (which make up the bulk of the trials).  These are split into female and male (by speaker)"
   ]
  },
  {
   "cell_type": "code",
   "execution_count": 5,
   "metadata": {},
   "outputs": [
    {
     "name": "stdout",
     "output_type": "stream",
     "text": [
      "Loading sourcefiles\n",
      "Running basic analysis\n",
      "Analysing 100%. Chunks of size 488\n",
      "Completed 488 docs (10.006151322534345% complete)\n",
      "Completed 976 docs (20.01230264506869% complete)\n",
      "Completed 1464 docs (30.018453967603033% complete)\n",
      "Completed 1952 docs (40.02460529013738% complete)\n",
      "Completed 2440 docs (50.03075661267172% complete)\n",
      "Completed 2928 docs (60.03690793520607% complete)\n",
      "Completed 3416 docs (70.04305925774041% complete)\n",
      "Completed 3904 docs (80.04921058027476% complete)\n",
      "Completed 4392 docs (90.05536190280911% complete)\n",
      "Number of documents is 4877\n",
      "Loading sourcefiles\n",
      "Running basic analysis\n",
      "Analysing 100%. Chunks of size 2228\n",
      "Completed 2228 docs (10.000897746655895% complete)\n",
      "Completed 4456 docs (20.00179549331179% complete)\n",
      "Completed 6684 docs (30.00269323996768% complete)\n",
      "Completed 8912 docs (40.00359098662358% complete)\n",
      "Completed 11140 docs (50.004488733279466% complete)\n",
      "Completed 13368 docs (60.00538647993536% complete)\n",
      "Completed 15596 docs (70.00628422659126% complete)\n",
      "Completed 17824 docs (80.00718197324716% complete)\n",
      "Completed 20052 docs (90.00807971990304% complete)\n",
      "Number of documents is 22278\n"
     ]
    }
   ],
   "source": [
    "p=100\n",
    "nlp=spacy.load('en')\n",
    "female_nonlegal=['corpus_1800_1820_theft_f_def','corpus_1800_1820_theft_f_wv']\n",
    "male_nonlegal=['corpus_1800_1820_theft_m_def','corpus_1800_1820_theft_m_wv']\n",
    "\n",
    "female_corpus=nlp_tools.corpus(female_nonlegal,nlp,prop=p,ner=False)\n",
    "male_corpus=nlp_tools.corpus(male_nonlegal,nlp,prop=p,ner=False)"
   ]
  },
  {
   "cell_type": "markdown",
   "metadata": {},
   "source": [
    "Lets look at the top 20 most frequent words across the whole corpus (i.e., males and males taken together)."
   ]
  },
  {
   "cell_type": "code",
   "execution_count": 6,
   "metadata": {},
   "outputs": [
    {
     "name": "stdout",
     "output_type": "stream",
     "text": [
      "Size of corpus is 1364054\n"
     ]
    },
    {
     "data": {
      "image/png": "[encoded data removed]",
      "text/plain": [
       "<matplotlib.figure.Figure at 0x121d82fd0>"
      ]
     },
     "metadata": {},
     "output_type": "display_data"
    }
   ],
   "source": [
    "hfw_theft=find_hfw_dist([male_corpus,female_corpus],k=100000)\n",
    "function_words_theft=display(hfw_theft,cutoff=20)"
   ]
  },
  {
   "cell_type": "markdown",
   "metadata": {},
   "source": [
    "Now lets compare the distributions of these words for males and females."
   ]
  },
  {
   "cell_type": "code",
   "execution_count": 7,
   "metadata": {},
   "outputs": [
    {
     "name": "stdout",
     "output_type": "stream",
     "text": [
      "Size of corpus is 229558\n",
      "Size of corpus is 1134496\n"
     ]
    },
    {
     "data": {
      "image/png": "[encoded data removed]",
      "text/plain": [
       "<matplotlib.figure.Figure at 0x121bb7c18>"
      ]
     },
     "metadata": {},
     "output_type": "display_data"
    }
   ],
   "source": [
    "hff_theft=find_hfw_dist([female_corpus])\n",
    "hfm_theft=find_hfw_dist([male_corpus])\n",
    "some_words=display(hff_theft,words=function_words_theft,hfb=hfm_theft,leg=['Female speakers','Male speakers'])"
   ]
  },
  {
   "cell_type": "markdown",
   "metadata": {},
   "source": [
    "There are minimal differences between the distributions. 'of', 'to', 'him','he' and 'the' appear more often for male speakers.  Some punctuation and 'my' appears more often for female speakers."
   ]
  },
  {
   "cell_type": "markdown",
   "metadata": {},
   "source": [
    "We want to be able to find the characteristic words for a corpus (i.e., words which occur more often than one would expect by chance).  We can do this using PMI and/or likelihood lift ratio - but it is conventional in work on comparing corpora to use log-likelihood-ratio (LLR (Dunning, 1993)) as this is less biased towards low frequency events than PMI and doesn't require any parameters to be set."
   ]
  },
  {
   "cell_type": "code",
   "execution_count": 11,
   "metadata": {
    "collapsed": true
   },
   "outputs": [],
   "source": [
    "def makedict(alist):\n",
    "    adict={}\n",
    "    for (key,value) in alist:\n",
    "        adict[key]=adict.get(key,0)+value\n",
    "    return adict\n",
    "        \n",
    "\n",
    "def pmi(wordfreq,refwordfreq,corpussize,refcorpussize):\n",
    "    if wordfreq*refcorpussize*refwordfreq*corpussize==0:\n",
    "        score=0\n",
    "#        print(wordfreq,refwordfreq,corpussize,refcorpussize)\n",
    "    else:\n",
    "        score=np.log((wordfreq*refcorpussize)/(refwordfreq*corpussize))\n",
    "    return score\n",
    "\n",
    "\n",
    "def rev_pmi(wordfreq,refwordfreq,corpussize,refcorpussize):\n",
    "    return pmi(refwordfreq-wordfreq, refwordfreq,refcorpussize-corpussize,refcorpussize)\n",
    "        \n",
    "def llr(wordfreq,refwordfreq,corpussize,refcorpussize):\n",
    "    #print(wordfreq,refwordfreq,corpussize,refcorpussize)\n",
    "    mypmi=pmi(wordfreq,refwordfreq,corpussize,refcorpussize)\n",
    "    myrevpmi=rev_pmi(wordfreq,refwordfreq,corpussize,refcorpussize)\n",
    "    #myrevpmi2=rev_pmi2(wordfreq,refwordfreq,corpussize,refcorpussize)\n",
    "    #print(mypmi,myrevpmi,myrevpmi2)\n",
    "    llr_score=2*(wordfreq*mypmi+(refwordfreq-wordfreq)*myrevpmi)\n",
    "    if pmi(wordfreq,refwordfreq,corpussize,refcorpussize)<0:\n",
    "        return -llr_score\n",
    "    else:\n",
    "        return llr_score\n",
    "    \n",
    "def likelihoodlift(wordfreq,refwordfreq,corpussize,refcorpussize,alpha):\n",
    "    beta=0\n",
    "    if alpha==1:\n",
    "        return math.log(wordfreq/corpussize)\n",
    "    elif alpha==0:\n",
    "        return pmi(wordfreq,refwordfreq,corpussize,refcorpussize)\n",
    "    else:\n",
    "        return(alpha*math.log(beta+(wordfreq/corpussize))+(1-alpha)*pmi(wordfreq,refwordfreq,corpussize,refcorpussize))\n",
    "\n",
    "def mysurprise(wf,rwf,cs,rcs,measure,params):\n",
    "    if measure=='pmi':\n",
    "        return pmi(wf,rwf,cs,rcs)\n",
    "    elif measure=='llr':\n",
    "        return llr(wf,rwf,cs,rcs)\n",
    "    elif measure =='likelihoodlift':\n",
    "        return likelihoodlift(wf,rwf,cs,rcs,params.get('alpha',0.5))\n",
    "    else:\n",
    "        print(\"Unknown measure of surprise\")\n",
    "\n",
    "def improved_compute_surprises(corpusA,corpusB,measure,params={}):\n",
    "    (corpusAsize,wordlistA)=corpusA\n",
    "    (corpusBsize,wordlistB)=corpusB\n",
    "    if 'threshold' in params.keys():\n",
    "        threshold=params['threshold']\n",
    "    else:\n",
    "        threshold=len(wordlistA)\n",
    "    #dictA=makedict(wordlistA)\n",
    "    dictB=makedict(wordlistB)\n",
    "    \n",
    "    scores=[]\n",
    "   # print(wordlistA[:threshold])\n",
    "    for(term,freq) in wordlistA[:threshold]:\n",
    "        scores.append((term,mysurprise(freq,dictB.get(term,freq+1),corpusAsize,corpusBsize,measure,params)))\n",
    "    sortedscores=sorted(scores,key=operator.itemgetter(1),reverse=True)\n",
    "    k=200\n",
    "    print(\"Top {} terms are \".format(k))\n",
    "    print(sortedscores[:k])\n",
    "    rank=0\n",
    "    if measure==\"llr\":\n",
    "        for (term,score) in sortedscores:\n",
    "            if score>10.828:\n",
    "                rank+=1\n",
    "            else:\n",
    "                break\n",
    "        print(\"{} significantly characterising terms\".format(rank))\n",
    "    return(sortedscores[:rank])"
   ]
  },
  {
   "cell_type": "markdown",
   "metadata": {},
   "source": [
    "We can use the LLR to compute the most characteristic words for males and for females.  Any with a score over 10.828 are statistically significant at the 0.1% level.  We display the top 20."
   ]
  },
  {
   "cell_type": "code",
   "execution_count": 12,
   "metadata": {},
   "outputs": [
    {
     "name": "stdout",
     "output_type": "stream",
     "text": [
      "Top 200 terms are \n",
      "[('him', 442.41345870034957), ('his', 247.77749750521707), ('he', 206.13168490977932), ('am', 120.27857259305301), ('horse', 119.3751563997788), ('officer', 108.64030115681004), ('mr.', 101.06793804018218), ('custody', 97.285799304172585), ('produce', 87.890490623532742), ('constable', 86.154282250474409), ('warehouse', 80.68591129094581), ('searched', 76.681281301105855), ('from', 73.52285795469777), ('by', 72.40681987038954), ('apprehended', 68.346152231433365), ('messrs.', 68.009932678737769), ('charge', 67.197441891234945), ('office', 66.954402580793769), ('sheep', 64.313009188703461), ('took', 63.204389881960196), ('clerk', 61.807390502893426), ('of', 60.210455319237667), ('watch', 60.043153234982867), ('lead', 58.189767627411406), ('pigs', 56.01888518387976), ('book', 54.584336398890741), ('yards', 54.134900868249801), ('pocket', 53.195395622472148), ('bag', 50.785337882316227), ('stable', 49.650122040041637), ('watchman', 48.160023550359398), ('hundred', 47.395880821068005), ('found', 46.201706745647812), ('breeches', 45.128015769883113), ('waistcoat', 42.785812302878249), ('mare', 42.561636127621988), ('cart', 42.255311512352222), ('post', 42.207583710821169), ('premises', 40.19300430285508), ('boat', 39.06445109179294), ('co.', 38.697256212548517), ('shopman', 38.414793559496175), ('partner', 38.090314853198009), ('waggon', 37.430398134458038), ('watchhouse', 37.133672866431944), ('company', 36.643321734692989), ('skin', 36.117439131711947), ('bottles', 36.113608095657675), ('sack', 35.294513646141326), ('pawnbroker', 34.883262628181896), ('coat', 34.398972844828251), ('prisoner', 33.653333699034704), ('timber', 33.537622050875385), ('prosecutor', 33.458408465991255), ('seals', 31.993520249572938), ('skins', 31.950820206268709), ('seized', 31.806699230136214), ('this', 30.778485847788943), ('produces', 30.714304907246717), ('upon', 29.282166012840577), ('which', 28.947117400893433), ('-', 28.686337037210251), ('ship', 28.088892878310716), ('secured', 27.595158906054962), ('stables', 27.272351997415146), ('shoulder', 27.221520543869936), ('an', 26.869741835791757), (')', 26.685794399900288), ('goods', 26.191621361338797), ('horses', 26.087693278031796), ('part', 25.606079959730856), ('quantity', 25.469275807439026), ('information', 25.399164406670309), ('wharf', 25.376186021583017), ('claimed', 24.852020472870954), ('cask', 24.802747348266063), ('hay', 24.486379252046024), ('running', 24.313122128608981), ('(', 24.279655673057363), ('others', 24.250642153976948), ('patrol', 23.970548558611519), ('bridle', 23.586899024791478), ('men', 23.545620662165987), ('pursued', 23.389496356183656), ('lad', 23.140466207521797), ('maker', 22.938195211012491), ('compter', 22.535622074337425), ('building', 22.271243684234499), ('duty', 22.234029026356389), ('to', 22.194966455944041), ('pounds', 21.986533088550544), ('wine', 21.785860484418347), ('hat', 21.39129773513136), ('writing', 21.052618794688392), ('pavement', 21.007081943954908), ('examination', 21.007081943954908), ('bank', 20.943693357780582), ('felt', 20.646376460028691), ('harness', 20.638536646692543), ('police', 20.635127406578121), ('marked', 20.603729807166452), ('iron', 20.544078497800975), ('examined', 20.481918698525604), ('bench', 20.269991349430178), ('right', 19.913156976636571), ('stock', 19.800758518295837), ('consequence', 19.748437946770707), ('stolen', 19.724643325095776), ('foreman', 19.202351793594197), ('jumped', 19.191458919542068), ('partnership', 19.1855089414492), ('stopped', 19.142739067304788), ('sacks', 18.851083567768327), ('threw', 18.786221786652575), ('apprentice', 18.201085623544333), ('fleet', 18.187981615482713), ('near', 18.116498072866058), ('directed', 18.075807156876685), ('dated', 18.058719565855974), ('high', 17.909755722393133), ('cry', 17.891101414649949), ('order', 17.85070748997196), ('side', 17.823891148848659), ('searching', 17.787105906948256), ('accompting', 17.783826817390334), ('hold', 17.758196627374886), ('received', 17.705439431826605), ('along', 17.516689358797684), ('coach', 17.344927505064433), ('doubt', 17.317216916914461), ('gateway', 17.155484873357686), ('chaise', 17.155484873357686), ('coffee', 17.005690613079533), ('that', 16.9539186417922), ('excise', 16.953083674068875), ('locks', 16.953083674068875), ('smithfield', 16.768520034425904), ('thames', 16.750873290272111), ('towards', 16.640116789350436), ('cellar', 16.625770402234515), ('ducks', 16.584538376806506), ('street', 16.547368440372139), ('counting', 16.535164898844045), ('carman', 16.535164898844045), ('twenty', 16.477264943873088), ('drew', 16.449750817361966), ('account', 16.336729604823208), ('rattle', 16.218910906614916), ('appear', 16.143618062884176), ('corn', 16.143618062884176), ('cut', 15.975660769228135), ('merchant', 15.849822491576864), ('brice', 15.847447782281774), ('tools', 15.761522855774663), ('way', 15.735384029180928), ('bow', 15.720597568915707), ('bills', 15.563165796875271), ('mark', 15.525236629302391), ('ostler', 15.478902485019407), ('corresponded', 15.478902485019407), ('acknowledged', 15.475891728386992), ('keeper', 15.463851798907843), ('notes', 15.442906833520041), ('pointed', 15.247137413024388), ('seal', 15.191129080645325), ('barge', 15.110357187757041), ('general', 14.961011784787878), ('on', 14.883349046918113), ('casks', 14.801719496086204), ('2nd', 14.801719496086204), ('wool', 14.801719496086204), ('hill', 14.801414154808555), ('informed', 14.773985074976707), ('permit', 14.741811890494674), ('chain', 14.588618500177663), ('concealed', 14.483074098569585), ('hand', 14.410978980333098), ('board', 14.406965446125426), ('quay', 14.373266593232307), ('fob', 14.373266593232307), ('sugar', 14.226910315155088), ('magistrate', 14.222898699464167), ('warrant', 14.221554216218848), ('warehouses', 13.801373775024439), ('fowls', 13.801373775024439), ('partners', 13.801373775024439), ('overtook', 13.727555767093769), ('paper', 13.627223481112772), ('there', 13.62656233204379), ('collared', 13.548389392751147), ('porter', 13.499791296766944), ('delivered', 13.489207004103925), ('england', 13.469194117896834), ('warehouseman', 13.469194117896834), ('hamper', 13.267630701445206), ('ever', 13.045583173343097), ('discovered', 12.946630596729962), ('carrier', 12.89908540418284), ('pledged', 12.766746481770767), ('we', 12.556827226864613)]\n",
      "249 significantly characterising terms\n"
     ]
    }
   ],
   "source": [
    "malewords=improved_compute_surprises(hfm_theft,hfw_theft,'llr')"
   ]
  },
  {
   "cell_type": "code",
   "execution_count": 13,
   "metadata": {},
   "outputs": [
    {
     "name": "stdout",
     "output_type": "stream",
     "text": [
      "Top 200 terms are \n",
      "[('she', 1378.6769317520202), ('husband', 1326.1722992681334), ('her', 804.06119645394415), ('room', 383.67579299361728), ('my', 300.64932306616288), ('things', 297.02346878436123), ('stairs', 257.28848971434888), ('mrs.', 222.35574749522294), ('bed', 210.01246078779934), ('mother', 207.44411610896091), ('wife', 200.56508914608366), ('sister', 196.84483870168481), ('gown', 177.73961563817798), ('widow', 163.14080717564579), ('mistress', 161.38503427960887), ('missed', 157.64131411614881), ('door', 146.60052779464883), ('daughter', 141.47340999843641), ('child', 138.51830797502379), ('kitchen', 128.41475077138244), ('lodged', 116.08849941816047), ('woman', 114.05514151478411), ('left', 106.16562681379514), ('came', 100.16310735166235), ('sheet', 97.639169029203785), ('home', 96.834281671150052), ('parlour', 89.53826175401079), ('gowns', 86.139544363421322), ('out', 83.329302094377908), ('cloak', 82.01319282315221), ('weeks', 81.995715176717269), ('counterpane', 81.725004554489374), ('locked', 81.140179109613769), ('wash', 78.985582449186353), ('me', 78.513817640708908), ('went', 77.362088053260095), ('sheets', 75.614089275234406), ('washing', 71.757995021231693), ('open', 69.546052934407101), ('no', 67.344837494678643), ('floor', 64.011467629157323), ('live', 63.363201435911549), ('children', 60.304321435139201), ('shawl', 59.056453457416609), ('lodge', 58.592954115441586), ('let', 55.004875113293082), ('apron', 54.182993808493336), ('drawer', 54.152292889838961), ('when', 53.282052725045048), ('table', 50.651944059888748), ('gone', 50.513967562028796), ('petticoat', 49.354669533298818), ('keeps', 47.346174854112604), ('week', 44.584794989599402), ('indictment', 44.431593252631046), ('drawers', 44.266831382495951), ('gave', 42.330383431198015), ('shirts', 42.102530298779797), ('lodging', 41.706732790436135), ('yes', 41.374297571579518), ('washed', 40.862502277244687), ('pair', 40.276934905773857), ('furnished', 39.492791224593176), ('lived', 39.094766148656873), ('spoons', 36.83349767083844), ('returned', 36.556421683008551), ('ago', 36.502801063470983), ('mangle', 36.087078546484612), ('frightened', 35.456414841728375), ('murphy', 35.379182088137902), ('rent', 34.694998221834076), ('milk', 34.203621684728688), ('aunt', 33.97829897599712), ('bonnet', 33.823178119503645), ('never', 33.437718803004032), ('single', 33.399063253389727), ('fortnight', 33.04704735179336), (';', 33.029749850772077), ('next', 32.438979294979674), ('hour', 32.202262178137843), ('articles', 31.870631260562661), ('care', 31.771349730812787), ('pail', 31.472813967088488), ('lives', 31.136720369544079), ('not', 30.880344796325915), ('spoon', 30.828726930157046), ('nobody', 29.923483725611433), ('unfortunate', 29.421624897694848), ('shift', 28.815710688005105), ('ironing', 28.78002756027972), ('lodgers', 28.678051940794695), ('dry', 28.678051940794695), ('hians', 28.512971298873463), ('tea', 27.581087886690156), ('servant', 26.439774342486857), ('girl', 26.13200293138808), ('mangler', 25.564835705325251), ('tablecloth', 25.403779461580339), ('pillow', 24.996434295118291), (\"'s\", 24.592063259908684), ('before', 24.409915433531438), ('\\n', 24.378026953358471), ('know', 23.878356186011757), ('all', 23.841609913281019), ('mantle', 23.812334908099285), ('pawn', 23.072011606792287), ('shifts', 22.425521136928161), ('barton', 22.090001512787165), ('lodger', 21.911139985138121), ('up', 21.645015310143862), ('priestly', 21.384728474155096), ('fringe', 21.384728474155096), ('veal', 21.384728474155096), ('searles', 21.384728474155096), ('candlestick', 21.049376532443759), ('return', 20.39949134476349), ('go', 20.290036369000489), ('aprons', 19.883343774316685), ('caps', 19.655208030295956), ('wide', 19.655208030295956), ('quilt', 19.579646807053347), ('seen', 19.576063888907257), ('shopwoman', 19.28907260367366), ('acquaintance', 19.207943060933932), ('thing', 18.886317056186044), ('mentioned', 18.867434423018004), ('bolster', 18.732152038743028), ('pledge', 18.633010011076401), ('would', 18.529082319018897), ('thread', 18.430588187199145), ('get', 18.278596271695932), ('guinea', 18.186303724033166), ('curtains', 18.05915393550827), ('everitt', 17.820607061795915), ('stars', 17.820607061795915), ('pinafore', 17.820607061795915), ('betty', 17.820607061795915), ('anne', 17.820607061795915), ('daughters', 17.820607061795915), ('sarah', 17.505163260936129), ('thorn', 17.502987887293234), ('satin', 17.502987887293234), ('tray', 17.401169810726529), ('did', 17.284269104652225), ('place', 17.199420919761579), ('house', 17.171796119932338), ('sure', 16.964317343874043), ('housekeeper', 16.911589059751822), ('day', 16.862951124647196), ('used', 16.816523210955999), ('married', 16.755723933311437), ('is', 16.666923994751727), ('years', 16.576364318422009), ('apartment', 16.52352367589668), ('4', 16.392317901911362), ('because', 16.350137590356056), ('half', 16.212426122019281), ('caddys', 16.151228898001229), ('clothes', 16.143086664734852), ('dimmock', 16.011645315379738), ('pillows', 16.011645315379738), ('months', 15.988826087846142), ('fastened', 15.724284794654402), ('washerwoman', 15.670635484710191), ('blankets', 15.600631302893355), ('shilling', 15.575203041744942), ('bolted', 15.466096498979926), ('gloucester', 15.186221453172347), ('fire', 15.145126680145147), ('herself', 14.916601822867467), ('baby', 14.710812448847424), ('hung', 14.600087527102772), ('blanket', 14.4638099134512), ('elizabeth', 14.397615544674508), ('willes', 14.256485649436732), ('errands', 14.256485649436732), ('thorngate', 14.256485649436732), ('tippets', 14.256485649436732), ('pratley', 14.256485649436732), ('matron', 14.256485649436732), ('trayner', 14.256485649436732), ('rau', 14.256485649436732), ('collard', 14.256485649436732), ('maid', 14.232897449174253), ('very', 14.040557071536341), ('pawnbrokers', 14.026929646586446), ('passage', 14.018136474044091), ('nights', 13.96266275581581), ('cleaning', 13.92093584858122), ('latched', 13.858959744187121), ('grease', 13.837199737203511), ('line', 13.782919748453089), ('prosecutrix', 13.713638598611215), ('cap', 13.499555919221123), ('workhouse', 13.478622075548317), ('ill', 13.340961718267042), ('chairing', 13.124456754778894), ('threepence', 13.124456754778894), ('mangled', 13.124456754778894), ('leave', 13.001787186882083)]\n",
      "233 significantly characterising terms\n"
     ]
    }
   ],
   "source": [
    "femalewords=improved_compute_surprises(hff_theft,hfw_theft,'llr',params={})"
   ]
  },
  {
   "cell_type": "code",
   "execution_count": 14,
   "metadata": {
    "collapsed": true
   },
   "outputs": [],
   "source": [
    "#write to file\n",
    "femalefile='female_words_llr'\n",
    "malefile='male_words_llr'\n",
    "with open(femalefile,'w') as femstream:\n",
    "    for (term,score) in femalewords:\n",
    "        femstream.write(\"{}\\t{}\\n\".format(term,score))\n",
    "        \n",
    "with open(malefile,'w') as manstream:\n",
    "    for(term,score) in malewords:\n",
    "        manstream.write(\"{}\\t{}\\n\".format(term,score))"
   ]
  },
  {
   "cell_type": "markdown",
   "metadata": {},
   "source": [
    "For comparison, we can use the likelihood-lift ratio - however now we need to set alpha to decide the weight of likelihood and lift respectively."
   ]
  },
  {
   "cell_type": "code",
   "execution_count": 15,
   "metadata": {},
   "outputs": [
    {
     "name": "stdout",
     "output_type": "stream",
     "text": [
      "Top 200 terms are \n",
      "[('pigs', 0.093251736779198999), ('sheep', 0.090983563412672289), ('co.', 0.089552535072311465), ('skin', 0.088862606357441948), ('timber', 0.088121526635904723), ('stables', 0.08605358250277792), ('mare', 0.08513742292855607), ('post', 0.085012709093228514), ('bridle', 0.084601762404332953), ('pavement', 0.083443444249081733), ('examination', 0.083443444249081733), ('harness', 0.083266448478087729), ('bench', 0.083086263423060927), ('dated', 0.081931134551842491), ('excise', 0.081299345535627177), ('locks', 0.081299345535627177), ('ducks', 0.081079556468439423), ('messrs.', 0.081037666741268555), ('seals', 0.080709755288103688), ('brice', 0.08062493272767185), ('ostler', 0.080389627753569906), ('corresponded', 0.080389627753569906), ('barge', 0.080148652237779311), ('permit', 0.079901726111875584), ('quay', 0.079648548032032696), ('fob', 0.079648548032032696), ('boat', 0.079055675655483854), ('horse', 0.078866920811500971), ('hamper', 0.078848120955297335), ('carrier', 0.07856641218563036), ('livery', 0.078276536816897835), ('wholesale', 0.078276536816897835), ('manufactory', 0.078276536816897835), ('hogshead', 0.07797800718540103), ('majesty', 0.07797800718540103), ('deposed', 0.07797800718540103), ('brewhouse', 0.07797800718540103), ('amount', 0.077670290598733496), ('morgan', 0.077670290598733496), ('evidence', 0.077352803615587704), ('fenchurch', 0.077352803615587704), ('aslett', 0.077352803615587704), ('firm', 0.077352803615587704), ('bars', 0.077352803615587704), ('brushes', 0.077352803615587704), ('waggoner', 0.077024905387357789), ('wharf', 0.076837727675913681), ('masters', 0.076685889870600973), ('lime', 0.076685889870600973), ('cord', 0.076334976672488272), ('walsh', 0.076334976672488272), ('rode', 0.075971300230779526), ('hunt', 0.075971300230779526), ('driver', 0.075971300230779526), ('flap', 0.075971300230779526), ('resistance', 0.075971300230779526), ('correspond', 0.075971300230779526), ('exchequer', 0.075971300230779526), ('sprung', 0.075593896950951048), ('dials', 0.075593896950951048), ('quality', 0.075593896950951048), ('slaughter', 0.075593896950951048), ('produce', 0.075526310486481035), ('ride', 0.075201689819418244), ('chests', 0.075201689819418244), ('kerslake', 0.075201689819418244), ('butt', 0.075201689819418244), ('skins', 0.075166687013875674), ('lining', 0.074793469874215687), ('trust', 0.074793469874215687), ('j.', 0.074793469874215687), ('building', 0.074534903118903428), ('partner', 0.074468965793285713), ('brace', 0.07436787373002772), ('builder', 0.07436787373002772), ('willan', 0.07436787373002772), ('appears', 0.07436787373002772), ('clerks', 0.07436787373002772), ('communicated', 0.07436787373002772), ('waggon', 0.074093405786130037), ('party', 0.073923356104319382), ('sailors', 0.073923356104319382), ('cannon', 0.073923356104319382), ('solicitor', 0.073923356104319382), ('carcase', 0.073923356104319382), ('sharp', 0.073458155947970449), ('cornhill', 0.073458155947970449), ('agent', 0.073458155947970449), ('match', 0.073458155947970449), ('cabin', 0.073458155947970449), ('nose', 0.073458155947970449), ('hotel', 0.073458155947970449), ('margaret', 0.073458155947970449), ('trusses', 0.073458155947970449), ('lb', 0.073458155947970449), ('residing', 0.073458155947970449), ('bottles', 0.073317521878381781), ('lead', 0.073264764646796279), ('finchley', 0.072970254306276128), ('contains', 0.072970254306276128), ('fisher', 0.072970254306276128), ('bride', 0.072970254306276128), ('matthew', 0.072970254306276128), ('vessel', 0.072970254306276128), ('conveyed', 0.072970254306276128), ('laced', 0.072970254306276128), ('hostler', 0.072970254306276128), ('nutmegs', 0.072457321362400628), ('merchants', 0.072457321362400628), ('block', 0.072457321362400628), ('rubbed', 0.072457321362400628), ('yarn', 0.072457321362400628), ('stamp', 0.072457321362400628), ('seed', 0.072457321362400628), ('filled', 0.072457321362400628), ('warehouse', 0.072073600629340359), ('rascal', 0.071916649149697878), ('cakes', 0.071916649149697878), ('riding', 0.071916649149697878), ('files', 0.071916649149697878), ('buttons', 0.071916649149697878), ('richards', 0.071916649149697878), ('harvey', 0.071916649149697878), ('scrivener', 0.071916649149697878), ('watling', 0.071916649149697878), ('twist', 0.071916649149697878), ('count', 0.071916649149697878), ('holloway', 0.071916649149697878), ('discover', 0.071916649149697878), ('marsh', 0.071916649149697878), ('bale', 0.071916649149697878), ('deck', 0.071916649149697878), ('sprang', 0.071916649149697878), ('diamonds', 0.071916649149697878), ('narrow', 0.071916649149697878), ('jumped', 0.071793350786156993), ('sacks', 0.071455095349192921), ('bay', 0.071345065011298392), ('division', 0.071345065011298392), ('barracks', 0.071345065011298392), ('lately', 0.071345065011298392), ('direct', 0.071345065011298392), ('packages', 0.071345065011298392), ('beyond', 0.071345065011298392), ('cage', 0.071345065011298392), ('agree', 0.071345065011298392), ('accident', 0.071345065011298392), ('russel', 0.071345065011298392), ('gang', 0.071345065011298392), ('wheels', 0.071345065011298392), ('hunting', 0.071345065011298392), ('employer', 0.071345065011298392), ('deficiency', 0.071345065011298392), ('sealed', 0.071345065011298392), ('w.', 0.071345065011298392), ('seat', 0.071345065011298392), ('workshop', 0.071345065011298392), ('rescue', 0.071345065011298392), ('bullock', 0.071345065011298392), ('companions', 0.071345065011298392), ('hodges', 0.071345065011298392), ('southampton', 0.071345065011298392), ('cumberland', 0.071345065011298392), ('solder', 0.071345065011298392), ('streets', 0.07073881879313404), ('probably', 0.07073881879313404), ('objection', 0.07073881879313404), ('rule', 0.07073881879313404), ('proprietor', 0.07073881879313404), ('auction', 0.07073881879313404), ('balance', 0.07073881879313404), ('fence', 0.07073881879313404), ('pearce', 0.07073881879313404), ('fielding', 0.07073881879313404), ('appointed', 0.07073881879313404), ('rice', 0.07073881879313404), ('doctor', 0.07073881879313404), ('windmill', 0.07073881879313404), ('dyot', 0.07073881879313404), ('correctly', 0.07073881879313404), ('lawn', 0.070093433581758333), ('started', 0.070093433581758333), ('rid', 0.070093433581758333), ('apprehending', 0.070093433581758333), ('introduced', 0.070093433581758333), ('constables', 0.070093433581758333), ('stones', 0.070093433581758333), ('limbrick', 0.070093433581758333), ('bryen', 0.070093433581758333), ('ealing', 0.070093433581758333), ('screws', 0.070093433581758333), ('duck', 0.070093433581758333), ('corresponds', 0.070093433581758333), ('scale', 0.070093433581758333), ('perceive', 0.070093433581758333), ('stocks', 0.070093433581758333), ('handwriting', 0.070093433581758333), ('toll', 0.070093433581758333), ('drapers', 0.070093433581758333), ('indigo', 0.070093433581758333)]\n"
     ]
    },
    {
     "data": {
      "text/plain": [
       "[]"
      ]
     },
     "execution_count": 15,
     "metadata": {},
     "output_type": "execute_result"
    }
   ],
   "source": [
    "improved_compute_surprises(hfm_theft,hfw_theft,'likelihoodlift',params={'alpha':0.01})"
   ]
  },
  {
   "cell_type": "code",
   "execution_count": 16,
   "metadata": {},
   "outputs": [
    {
     "name": "stdout",
     "output_type": "stream",
     "text": [
      "Top 200 terms are \n",
      "[('husband', 0.8302755518323004), ('widow', 0.63518442358665927), ('hians', 0.5774076897431033), ('priestly', 0.54863948249792505), ('fringe', 0.54863948249792505), ('veal', 0.54863948249792505), ('searles', 0.54863948249792505), ('mangle', 0.54591576364773675), ('everitt', 0.53040732681852965), ('stars', 0.53040732681852965), ('pinafore', 0.53040732681852965), ('betty', 0.53040732681852965), ('anne', 0.53040732681852965), ('daughters', 0.53040732681852965), ('willes', 0.50809297168710876), ('errands', 0.50809297168710876), ('thorngate', 0.50809297168710876), ('tippets', 0.50809297168710876), ('pratley', 0.50809297168710876), ('matron', 0.50809297168710876), ('trayner', 0.50809297168710876), ('rau', 0.50809297168710876), ('collard', 0.50809297168710876), ('patient', 0.47932476444193051), ('calverley', 0.47932476444193051), ('lemoine', 0.47932476444193051), ('sad', 0.47932476444193051), ('catlin', 0.47932476444193051), ('weather', 0.47932476444193051), ('barr', 0.47932476444193051), ('brereton', 0.47932476444193051), ('stitch', 0.47932476444193051), ('suppers', 0.47932476444193051), ('bedel', 0.47932476444193051), ('skirts', 0.47932476444193051), ('fetton', 0.47932476444193051), ('38101', 0.47932476444193051), ('37291', 0.47932476444193051), ('37300', 0.47932476444193051), ('milliner', 0.47932476444193051), ('vyse', 0.47932476444193051), ('suter', 0.47932476444193051), ('robart', 0.47932476444193051), ('harrington', 0.47932476444193051), ('longhurst', 0.47932476444193051), ('oddy', 0.47932476444193051), ('bayne', 0.47932476444193051), ('baines', 0.47932476444193051), ('flynn', 0.47932476444193051), ('ironing', 0.45890438665810707), ('shopwoman', 0.44387629711858034), ('madam', 0.43877825363111422), ('gossiping', 0.43877825363111422), ('baptized', 0.43877825363111422), ('deamer', 0.43877825363111422), ('fame', 0.43877825363111422), ('petitioner', 0.43877825363111422), ('earnestly', 0.43877825363111422), ('rix', 0.43877825363111422), ('huguenin', 0.43877825363111422), ('godmother', 0.43877825363111422), ('edges', 0.43877825363111422), ('weaveress', 0.43877825363111422), ('household', 0.43877825363111422), ('cohabit', 0.43877825363111422), ('threepences', 0.43877825363111422), ('employs', 0.43877825363111422), ('catharina', 0.43877825363111422), ('rowley', 0.43877825363111422), ('milton', 0.43877825363111422), ('jewess', 0.43877825363111422), ('boarders', 0.43877825363111422), ('gabitis', 0.43877825363111422), ('rollinson', 0.43877825363111422), ('britt', 0.43877825363111422), ('peppercorn', 0.43877825363111422), ('brockwell', 0.43877825363111422), ('barron', 0.43877825363111422), ('alstrom', 0.43877825363111422), ('bradshaw', 0.43877825363111422), ('rake', 0.43877825363111422), ('chip', 0.43877825363111422), ('wareroom', 0.43877825363111422), ('sofa', 0.43877825363111422), ('dictment', 0.43877825363111422), ('raymond', 0.43877825363111422), ('lakin', 0.43877825363111422), ('keefe', 0.43877825363111422), ('a\\\\\\\\', 0.43877825363111422), ('oakingham', 0.43877825363111422), ('infant', 0.43877825363111422), ('beaufet', 0.43877825363111422), ('walduck', 0.43877825363111422), ('fishers', 0.43877825363111422), ('lush', 0.43877825363111422), ('marriage', 0.43877825363111422), ('shave', 0.43877825363111422), ('waiscoat', 0.43877825363111422), ('memorandom', 0.43877825363111422), ('colton', 0.43877825363111422), ('glimmering', 0.43877825363111422), ('gillett', 0.43877825363111422), ('waterfield', 0.43877825363111422), ('fitzpatrick', 0.43877825363111422), ('burke', 0.43877825363111422), ('sheeby', 0.43877825363111422), ('denyear', 0.43877825363111422), ('sideways', 0.43877825363111422), ('beretto', 0.43877825363111422), ('evenings', 0.43877825363111422), ('riddell', 0.43877825363111422), ('gracia', 0.43877825363111422), ('lizard', 0.43877825363111422), ('haberdashery', 0.43877825363111422), ('franson', 0.43877825363111422), ('sultana', 0.43877825363111422), ('adalid', 0.43877825363111422), ('blinkow', 0.43877825363111422), ('grandfather', 0.43877825363111422), ('buffett', 0.43877825363111422), ('walling', 0.43877825363111422), ('ephraim', 0.43877825363111422), ('carby', 0.43877825363111422), ('han', 0.43877825363111422), ('woodstock', 0.43877825363111422), ('dure', 0.43877825363111422), ('orton', 0.43877825363111422), ('nugent', 0.43877825363111422), ('jelly', 0.43877825363111422), ('linders', 0.43877825363111422), ('hoard', 0.43877825363111422), ('richter', 0.43877825363111422), ('mulls', 0.43877825363111422), ('sprig', 0.43877825363111422), ('dockwray', 0.43877825363111422), ('redhead', 0.43877825363111422), ('harker', 0.43877825363111422), (\"\\\\don't\", 0.43877825363111422), ('rickman', 0.43877825363111422), ('chawner', 0.43877825363111422), ('money.\\\\', 0.43877825363111422), ('cribbin', 0.43877825363111422), ('blaker', 0.43877825363111422), ('mangler', 0.43563264375996491), ('murphy', 0.42751865542753342), ('dimmock', 0.4099038706533924), ('pillows', 0.4099038706533924), ('sister', 0.36981044242822791), ('sincere', 0.36946353557511946), ('harvesting', 0.36946353557511946), ('hopping', 0.36946353557511946), ('with\\\\\\\\', 0.36946353557511946), ('asting', 0.36946353557511946), ('freedom', 0.36946353557511946), ('clymer', 0.36946353557511946), ('payter', 0.36946353557511946), ('believes', 0.36946353557511946), ('strumpet', 0.36946353557511946), ('potatos', 0.36946353557511946), ('blackguardly', 0.36946353557511946), ('westminsterbridge', 0.36946353557511946), ('cockerton', 0.36946353557511946), ('discorderly', 0.36946353557511946), ('bedfurniture', 0.36946353557511946), ('boutevile', 0.36946353557511946), ('lungs', 0.36946353557511946), ('gardeners', 0.36946353557511946), ('rotten', 0.36946353557511946), ('matilda', 0.36946353557511946), ('denies', 0.36946353557511946), ('dandelion', 0.36946353557511946), ('asparagus', 0.36946353557511946), ('jealous', 0.36946353557511946), ('steakes', 0.36946353557511946), ('ilicit', 0.36946353557511946), ('mays', 0.36946353557511946), ('witnessed', 0.36946353557511946), ('fortunes', 0.36946353557511946), ('doings', 0.36946353557511946), ('pillars', 0.36946353557511946), ('faults', 0.36946353557511946), ('commissions', 0.36946353557511946), ('doubly', 0.36946353557511946), ('profitable', 0.36946353557511946), ('lament', 0.36946353557511946), ('prostitution', 0.36946353557511946), ('existence', 0.36946353557511946), ('pursuaded', 0.36946353557511946), ('darvells', 0.36946353557511946), ('sheweth', 0.36946353557511946), ('courtship', 0.36946353557511946), ('aggravating', 0.36946353557511946), ('refrain', 0.36946353557511946), ('transgress', 0.36946353557511946), ('prostitntes', 0.36946353557511946), ('tollhouse', 0.36946353557511946), ('hopwood', 0.36946353557511946), ('flasks', 0.36946353557511946), (\"poole's\", 0.36946353557511946), (\"turk's\", 0.36946353557511946)]\n"
     ]
    },
    {
     "data": {
      "text/plain": [
       "[]"
      ]
     },
     "execution_count": 16,
     "metadata": {},
     "output_type": "execute_result"
    }
   ],
   "source": [
    "improved_compute_surprises(hff_theft,hfw_theft,'likelihoodlift',params={'alpha':0.1})"
   ]
  },
  {
   "cell_type": "markdown",
   "metadata": {},
   "source": [
    "\n",
    "## Different Periods Corresponding to Different Scribes\n"
   ]
  },
  {
   "cell_type": "markdown",
   "metadata": {},
   "source": [
    "We also have 3 subperiods within the 1800-1820 period which correspond to 3 different scribes / publishers."
   ]
  },
  {
   "cell_type": "code",
   "execution_count": 17,
   "metadata": {},
   "outputs": [
    {
     "name": "stdout",
     "output_type": "stream",
     "text": [
      "Loading sourcefiles\n",
      "Running basic analysis\n",
      "Analysing 100%. Chunks of size 1048\n",
      "Completed 1048 docs (10.008595167605769% complete)\n",
      "Completed 2096 docs (20.017190335211538% complete)\n",
      "Completed 3144 docs (30.025785502817303% complete)\n",
      "Completed 4192 docs (40.034380670423076% complete)\n",
      "Completed 5240 docs (50.042975838028845% complete)\n",
      "Completed 6288 docs (60.05157100563461% complete)\n",
      "Completed 7336 docs (70.06016617324038% complete)\n",
      "Completed 8384 docs (80.06876134084615% complete)\n",
      "Completed 9432 docs (90.07735650845191% complete)\n",
      "Number of documents is 10471\n",
      "Loading sourcefiles\n",
      "Running basic analysis\n",
      "Analysing 100%. Chunks of size 1281\n",
      "Completed 1281 docs (10.0078125% complete)\n",
      "Completed 2562 docs (20.015625% complete)\n",
      "Completed 3843 docs (30.0234375% complete)\n",
      "Completed 5124 docs (40.03125% complete)\n",
      "Completed 6405 docs (50.0390625% complete)\n",
      "Completed 7686 docs (60.046875% complete)\n",
      "Completed 8967 docs (70.0546875% complete)\n",
      "Completed 10248 docs (80.0625% complete)\n",
      "Completed 11529 docs (90.0703125% complete)\n",
      "Number of documents is 12800\n",
      "Loading sourcefiles\n",
      "Running basic analysis\n",
      "Analysing 100%. Chunks of size 518\n",
      "Completed 518 docs (10.017404757300328% complete)\n",
      "Completed 1036 docs (20.034809514600656% complete)\n",
      "Completed 1554 docs (30.052214271900986% complete)\n",
      "Completed 2072 docs (40.06961902920131% complete)\n",
      "Completed 2590 docs (50.087023786501646% complete)\n",
      "Completed 3108 docs (60.10442854380197% complete)\n",
      "Completed 3626 docs (70.1218333011023% complete)\n",
      "Completed 4144 docs (80.13923805840263% complete)\n",
      "Completed 4662 docs (90.15664281570295% complete)\n",
      "Number of documents is 5171\n"
     ]
    }
   ],
   "source": [
    "p1_nonlegal=['corpus_theft_def_1800_1805','corpus_theft_wv_1800_1805']\n",
    "p2_nonlegal=['corpus_theft_def_1806_1815','corpus_theft_wv_1806_1815']\n",
    "p3_nonlegal=['corpus_theft_def_1816_1820','corpus_theft_wv_1816_1820']\n",
    "\n",
    "p1_corpus=nlp_tools.corpus(p1_nonlegal,nlp,prop=p,ner=False)\n",
    "p2_corpus=nlp_tools.corpus(p2_nonlegal,nlp,prop=p,ner=False)\n",
    "p3_corpus=nlp_tools.corpus(p3_nonlegal,nlp,prop=p,ner=False)\n",
    "\n"
   ]
  },
  {
   "cell_type": "code",
   "execution_count": 18,
   "metadata": {},
   "outputs": [
    {
     "name": "stdout",
     "output_type": "stream",
     "text": [
      "Loading sourcefiles\n",
      "Running basic analysis\n",
      "Analysing 100%. Chunks of size 2845\n",
      "Completed 2845 docs (10.00281274171999% complete)\n",
      "Completed 5690 docs (20.00562548343998% complete)\n",
      "Completed 8535 docs (30.008438225159974% complete)\n",
      "Completed 11380 docs (40.01125096687996% complete)\n",
      "Completed 14225 docs (50.014063708599956% complete)\n",
      "Completed 17070 docs (60.01687645031995% complete)\n",
      "Completed 19915 docs (70.01968919203995% complete)\n",
      "Completed 22760 docs (80.02250193375993% complete)\n",
      "Completed 25605 docs (90.02531467547992% complete)\n",
      "Number of documents is 28442\n"
     ]
    }
   ],
   "source": [
    "theft_corpus=nlp_tools.corpus(p1_nonlegal+p2_nonlegal+p3_nonlegal,nlp,prop=p,ner=False)"
   ]
  },
  {
   "cell_type": "code",
   "execution_count": 19,
   "metadata": {
    "collapsed": true
   },
   "outputs": [],
   "source": [
    "def autolabel(rects,ax):\n",
    "    \"\"\"\n",
    "    Attach a text label above each bar displaying its height\n",
    "    \"\"\"\n",
    "    \n",
    "    for rect in rects:\n",
    "        height = rect.get_height()\n",
    "\n",
    "        ax.text(rect.get_x() + rect.get_width()/2., height*1.1,\n",
    "                '%1.1f' % height,\n",
    "                ha='center', va='bottom')\n",
    "\n",
    "def display_list(hfw_list,cutoff=10,words=[],leg=None,title=None):\n",
    "    width=0.7/len(hfw_list)\n",
    "    toplot=[]\n",
    "    for hfw in hfw_list:\n",
    "        corpussize=hfw[0]\n",
    "        if words==[]:\n",
    "            todisplay=hfw[1][:cutoff]\n",
    "        else:\n",
    "            todisplay=[(x,y) for (x,y) in hfw[1] if x in words]\n",
    "            cutoff=len(words)\n",
    "        barvalues=sorted(todisplay,key=operator.itemgetter(0),reverse=False)\n",
    "        #print(barvalues)\n",
    "        xs,ys=[*zip(*barvalues)]\n",
    "        ps=[y*100/corpussize for y in ys]\n",
    "    \n",
    "        toplot.append(ps)\n",
    "        \n",
    "    N=cutoff\n",
    "    ind=np.arange(N)\n",
    "    fig,ax=plt.subplots(figsize=(2*cutoff,cutoff/2))\n",
    "    rectset=[]\n",
    "    colors=['r','b','y','g']\n",
    "    for i,ps in enumerate(toplot):\n",
    "        rectset.append(ax.bar(ind+i*width,ps,width,color=colors[i]))\n",
    "    \n",
    "    if leg!=None:\n",
    "        ax.legend(rectset,leg)\n",
    "    ax.set_xticks(ind)\n",
    "    ax.set_xticklabels(xs)\n",
    "    ax.set_xlabel('High Frequency Words')\n",
    "    ax.set_ylabel('Probability')\n",
    "    ax.set_ylim(0,10)\n",
    "    for rects in rectset:\n",
    "        autolabel(rects,ax)\n",
    "    if title!=None:\n",
    "        ax.set_title(title)\n",
    "    \n",
    "    return xs\n",
    "    \n"
   ]
  },
  {
   "cell_type": "markdown",
   "metadata": {},
   "source": [
    "We can look at the high frequency words across the whole corpus (which approximates the male+female combination in the last section - this is slightly larger, due presumably to some utterances not being labelled as either female or male)."
   ]
  },
  {
   "cell_type": "code",
   "execution_count": 20,
   "metadata": {},
   "outputs": [
    {
     "name": "stdout",
     "output_type": "stream",
     "text": [
      "Size of corpus is 1437948\n"
     ]
    },
    {
     "data": {
      "image/png": "[encoded data removed]",
      "text/plain": [
       "<matplotlib.figure.Figure at 0x1b6d63b70>"
      ]
     },
     "metadata": {},
     "output_type": "display_data"
    }
   ],
   "source": [
    "k=100000\n",
    "hfperiods_theft=find_hfw_dist([p1_corpus,p2_corpus,p3_corpus],k=k)\n",
    "function_words_theft=display_list([hfperiods_theft],cutoff=20)"
   ]
  },
  {
   "cell_type": "code",
   "execution_count": 21,
   "metadata": {},
   "outputs": [
    {
     "name": "stdout",
     "output_type": "stream",
     "text": [
      "Size of corpus is 457201\n",
      "Size of corpus is 645170\n",
      "Size of corpus is 335577\n"
     ]
    },
    {
     "data": {
      "image/png": "[encoded data removed]",
      "text/plain": [
       "<matplotlib.figure.Figure at 0x1b7f5ca58>"
      ]
     },
     "metadata": {},
     "output_type": "display_data"
    }
   ],
   "source": [
    "\n",
    "hfp1_theft=find_hfw_dist([p1_corpus],k=k)\n",
    "hfp2_theft=find_hfw_dist([p2_corpus],k=k)\n",
    "hfp3_theft=find_hfw_dist([p3_corpus],k=k)\n",
    "some_words=display_list([hfp1_theft,hfp2_theft,hfp3_theft],words=function_words_theft,leg=['1800-1805','1806-1815','1816-1820'],title=\"High Frequency Word Distributions for Non_legal Speakers in Theft Cases Split by Transcription Period\")"
   ]
  },
  {
   "cell_type": "markdown",
   "metadata": {},
   "source": [
    "Comparing the different corpora, we see that there is a much greater use of ; in the first period and correspondingly, a greater use of . in the later periods.  We also see an increasing use of 'the' throughout the 3 periods and a corresponding decreasing use of 'a'."
   ]
  },
  {
   "cell_type": "code",
   "execution_count": 22,
   "metadata": {},
   "outputs": [
    {
     "name": "stdout",
     "output_type": "stream",
     "text": [
      "Top 200 terms are \n",
      "[(';', 3736.4459269388681), (':', 1458.3110734165061), (')', 535.47959448109157), ('produces', 530.32124722672199), ('yes', 515.21522455675699), ('upon', 496.84528575502861), (',', 465.13217105454351), ('but', 426.45499019329975), ('(', 423.54348473500437), ('\\n', 322.17064959274239), ('no', 258.00405378714368), ('and', 163.73581618256003), ('can', 158.97184658715787), ('very', 142.91152194763004), ('identified', 130.08427272509815), ('then', 124.25862856385481), (\"n't\", 120.89555955690639), ('till', 118.54000666498337), ('warehouses', 93.409897803113921), ('say', 89.595204090119978), ('not', 81.4050756633834), ('mr.', 78.009115488388602), ('deposed', 77.917749486003274), ('letters', 73.68320582164344), ('aslett', 71.042653943120641), ('belonging', 61.802438445077328), ('lying', 61.613630307425815), ('jennings', 59.584161371649564), ('or', 58.41762074071454), ('guinea', 57.534001655679816), ('broke', 56.440430401385626), ('bar', 55.941445826758894), ('same', 51.649922780556921), ('wigzell', 50.417367314472713), ('knowlys', 50.417367314472713), ('produced', 47.658682373075976), ('guilty', 47.053428545584666), ('cloaths', 46.899412566949877), ('desired', 45.595445585492655), ('by', 44.890374611967559), ('know', 44.035102916547885), ('counsel', 42.83494291734965), ('which', 42.442087443796197), ('canister', 41.250573257295855), ('have', 40.266958801144995), ('sugar', 37.21135713347968), ('a', 35.439551492148212), ('any', 34.51167486811309), ('chalfont', 34.375477714413215), ('stirrups', 34.375477714413215), ('has', 34.269224651451651), ('bank', 33.655085773775198), ('abbott', 33.118226686957094), ('tuesday', 32.534380575960384), ('bligh', 32.083779200118997), ('again', 31.842427034343501), ('delivered', 30.953967757514391), ('be', 30.848848546295102), ('excise', 30.798328947852752), ('division', 29.826077342650063), ('little', 29.771847332900393), ('-', 29.656240735360143), ('post', 29.578518471221358), ('aged', 29.005488081243946), ('tobacco', 28.898419057152694), ('thing', 28.835409765589333), ('recollect', 28.5678575968575), ('years', 28.420488846762069), ('bags', 28.114741813345752), ('producing', 27.970508922681518), ('darby', 27.500382171530568), ('shawe', 27.500382171530568), ('cloak', 26.651943280945673), ('quay', 26.071053581078271), ('do', 26.047335317179574), ('sheep', 26.037070978827138), ('clarke', 25.948817211632896), ('guineas', 25.652917116182536), ('gun', 25.548144227758122), ('soldier', 25.463646175501523), ('compter', 25.293876964408163), ('sorter', 25.208683657236357), ('permit', 24.482202638018318), ('bond', 24.362965739249191), ('known', 24.050343965971038), ('frequently', 23.698916927874997), ('shovel', 23.590950172169912), ('hogshead', 23.215732836655629), ('back', 23.069440229388533), ('bottoms', 22.916985142942142), ('lord', 22.0768966228446), ('fielding', 21.557765440274991), ('those', 21.390936200518865), ('it', 21.385229086847971), ('knowledge', 21.286235898848311), ('mark', 21.262977743142542), ('receiver', 21.214774172623603), ('chaise', 21.18052811336976), ('examined', 21.014654239713579), ('portsmouth', 20.992180234062815), ('much', 20.94972475536126), ('district', 20.625286628647928), ('peake', 20.625286628647928), ('justly', 20.625286628647928), ('alstone', 20.625286628647928), ('parkin', 20.625286628647928), ('always', 20.514320678397908), ('d', 20.437326939291232), ('certainly', 20.328769491496608), ('exchequer', 20.288022451851425), ('swear', 20.009971099159216), ('ill', 19.71562016405764), ('suffolk', 19.542478069360186), ('hemp', 19.542478069360186), ('general', 19.511151926916757), ('to', 19.249321010820267), ('seed', 19.203218118393004), ('1799', 19.089935764069484), ('coffee', 19.040063711144825), ('letter', 19.040063711144825), ('sometimes', 18.883574341657436), ('such', 18.734003575897745), ('honest', 18.730213499811157), ('b', 18.355532628006415), ('taps', 18.333588114353713), ('troughton', 18.333588114353713), ('browne', 18.333588114353713), ('yerraway', 18.333588114353713), ('quays', 18.333588114353713), ('woodman', 18.333588114353713), ('vice', 18.333588114353713), ('tilden', 18.333588114353713), ('robus', 18.333588114353713), ('vignette', 18.333588114353713), ('newland', 18.333588114353713), ('50l', 18.320996344746849), ('knapp', 18.320996344746849), ('sort', 18.007547236347555), ('sworn', 17.858666726323786), ('wednesday', 17.791518891168089), ('coals', 17.757367292690006), ('roberts', 17.677606380521816), ('dated', 17.173986559403232), ('never', 17.074434795413566), ('nunn', 16.980306701439886), ('1802', 16.980306701439886), ('bills', 16.842081391391716), ('best', 16.711647899980932), ('books', 16.595619236244062), ('month', 16.581096697534235), ('consequence', 16.267225854022129), ('clerk', 16.220754178093074), ('solder', 16.075618834767365), ('marryat', 16.041889600059498), ('bottling', 16.041889600059498), ('dartford', 16.041889600059498), ('drewee', 16.041889600059498), ('pring', 16.041889600059498), ('kingsbury', 16.041889600059498), ('purvis', 16.041889600059498), ('champante', 16.041889600059498), ('grains', 16.041889600059498), ('houston', 16.041889600059498), ('pooley', 16.041889600059498), ('banbury', 16.041889600059498), ('lantern', 16.041889600059498), ('sills', 16.041889600059498), ('glynn', 16.041889600059498), ('galls', 16.041889600059498), ('copers', 16.041889600059498), ('powdich', 16.041889600059498), ('mayor', 15.866387431653198), ('tippet', 15.708650430565793), ('elder', 15.698825092318209), ('mentioned', 15.266668979684376), ('october', 15.257915182762829), ('impossible', 15.081128954102269), ('fourteen', 15.057317977068188), ('duty', 14.99304584751529), ('platform', 14.888942860999943), ('condition', 14.888942860999943), ('malt', 14.888942860999943), ('webster', 14.888942860999943), ('fork', 14.784256565927882), ('jacobs', 14.784256565927882), ('indigo', 14.784256565927882), ('you', 14.693741162777741), ('believe', 14.651840727397584), ('received', 14.570469368583147), ('comrade', 14.303127971596453), ('rick', 14.303127971596453), ('defence', 14.271318868671191), ('necessary', 14.271318868671191), ('bag', 14.208558377607844), ('think', 14.168242469161839), ('savage', 14.009660846267419), ('number', 13.987809294892671), ('use', 13.758133348283138), ('jewry', 13.75723339568081), ('fight', 13.75723339568081)]\n",
      "316 significantly characterising terms\n"
     ]
    }
   ],
   "source": [
    "p1words=improved_compute_surprises(hfp1_theft,hfperiods_theft,'llr')"
   ]
  },
  {
   "cell_type": "code",
   "execution_count": 23,
   "metadata": {},
   "outputs": [
    {
     "name": "stdout",
     "output_type": "stream",
     "text": [
      "Top 200 terms are \n",
      "[('.', 1188.2542208353316), ('that', 595.63791351958457), ('this', 361.16105063123439), ('watchhouse', 361.04109272201583), ('shillings', 325.25121290530706), ('pound', 323.71231016977401), ('these', 232.74063307056878), ('is', 186.85639452039993), ('until', 150.56950296369607), ('my', 145.97370780803021), ('skins', 145.01423064631334), ('are', 140.78725933345993), ('march', 109.3731415084502), ('..', 93.444239496933136), ('produce', 92.842213932836671), ('22nd', 86.199168500444273), ('i', 82.815135019869103), ('catched', 80.24963560620354), ('pounds', 80.171227216870506), ('they', 77.863989237244141), ('she', 76.3577474730007), ('2nd', 69.617574747120486), ('pawned', 67.43958886237742), ('all', 62.669575075207717), ('pence', 57.618724291540914), ('ratcliffe', 57.459119144001207), ('woman', 57.192554783466591), ('pieces', 56.989980272720942), ('halfpence', 55.110347114912358), ('throwed', 54.499179926583466), ('3rd', 51.787412309749499), ('shop', 49.114676209197683), ('young', 48.981449407157896), ('pot', 46.879205978816287), ('her', 45.418713919626498), ('mine', 44.92734960833323), ('untill', 44.881677586598151), ('drops', 44.881677586598151), ('the', 43.695487488564368), ('maberley', 43.278760529933933), ('pawnbrokers', 41.064409899189833), ('knives', 40.422561106148947), ('kerslake', 40.07292641660549), ('shoes', 40.046072934094013), ('of', 38.954897730082166), ('reeve', 38.906768169566448), ('pots', 38.333130110421479), ('tablecloth', 37.3115563816405), ('here', 36.34552501511169), ('perceived', 35.481646138578569), ('swinton', 35.072440925624946), ('husband', 34.680993625004277), ('coats', 34.471267802337053), ('officer', 34.072644190865475), ('dollars', 33.254138697429084), ('skin', 32.599538953857689), ('ribbon', 32.597900275281702), ('when', 32.575428290895218), ('missing', 31.72866421640768), ('hancock', 31.105098450827782), ('pint', 31.004890653176446), ('thousand', 30.914485706973171), ('....', 30.455424076620176), ('murphy', 30.455424076620176), ('walsh', 29.647716176450935), ('parish', 29.132196343631875), ('timber', 29.095324124739186), ('meaned', 28.852507019955954), ('scrivener', 28.852507019955954), ('callico', 28.852507019955954), ('flour', 28.317702311291633), ('nor', 27.633379307811907), ('value', 27.247300575450609), ('hundred', 26.969500927533559), ('two', 26.965431073822401), ('publican', 26.852299968397993), ('shilling', 26.568674520646198), ('key', 26.372276288495414), ('time', 25.962084764420041), ('box', 25.941688052272553), ('master', 25.64669132900454), ('accompt', 25.646672906627515), ('bin', 25.531820413457801), ('drawed', 25.208547977878162), ('mould', 25.208547977878162), ('carpet', 25.19552638439577), ('cotton', 25.177287765125428), ('partner', 25.156568878641295), ('lad', 25.055439441485028), ('brice', 24.311182299280844), ('horsekeeper', 24.043755849963297), ('bryen', 24.043755849963297), ('longman', 24.043755849963297), ('whether', 23.604769777801835), ('tap', 23.298122026323824), ('handkerchiefs', 23.297080931071889), ('shawl', 22.933817276364067), ('gin', 22.318600677809819), ('laying', 22.318600677809819), ('you', 21.219491877500815), ('clothes', 21.048212643884767), ('handkerchief', 20.911234974587501), ('lake', 20.837921736634854), ('hincks', 20.837921736634854), ('sow', 20.837921736634854), ('millis', 20.837921736634854), ('diamonds', 20.716318663759047), ('one', 20.422482822935081), ('searched', 20.255726495111503), ('brushes', 20.238327330738208), ('gentleman', 20.20494915536932), ('thirty', 20.195740431149638), ('yes', 19.908666264014357), ('elizabeth', 19.512067898181201), ('your', 19.443280994873547), ('likewise', 19.281084035484014), ('yours', 19.235004679970636), ('contract', 19.235004679970636), ('1809', 19.235004679970636), ('dimity', 19.231116607207063), ('price', 19.192773023227829), ('tablecloths', 19.148865310093349), ('taylor', 19.129911303146439), ('armstrong', 19.120990860496967), ('case', 19.051374045789373), ('eighteen', 18.508937555255322), ('altogether', 18.497499765984333), ('shirt', 18.403132106160896), ('came', 18.389411550756734), ('serving', 18.368724541607207), ('three', 18.303836850061685), ('laced', 18.230904657933827), ('matthews', 18.189515946650296), ('printed', 18.184748550869667), ('than', 18.136248312131144), ('took', 18.081032407310147), ('possession', 17.895843163084557), ('bankers', 17.755046078968022), ('broach', 17.702811253492385), ('linseed', 17.632087623306418), ('1805', 17.632087623306418), ('hearn', 17.632087623306418), ('1813', 17.632087623306418), ('five', 17.547889745364358), ('pair', 17.526379834026983), ('want', 17.289904270947183), ('weight', 17.203568149614817), ('were', 17.162735489914951), ('corn', 17.146584540177948), ('lodger', 17.119267278071916), ('ass', 17.040185714768416), ('room', 16.873909312686578), ('note', 16.794166617143631), ('mrs.', 16.625317489623285), ('ear', 16.581223814580312), ('sixpence', 16.539036025870331), ('paper', 16.518891188057538), ('name', 16.503694686052285), ('trott', 16.441197367153066), ('23rd', 16.441197367153066), ('replied', 16.350864404047975), ('kimber', 16.283796276277911), ('earth', 16.029170566642197), ('keen', 16.029170566642197), ('dignam', 16.029170566642197), ('inventory', 16.029170566642197), ('nicholas', 16.029170566642197), ('weatherfield', 16.029170566642197), ('wyegate', 16.029170566642197), ('1810', 16.029170566642197), ('exchecquer', 16.029170566642197), ('meux', 16.029170566642197), ('dodd', 16.029170566642197), ('rayson', 16.029170566642197), ('part', 15.962385067156703), ('whole', 15.832489970204591), ('snuff', 15.794964143417243), ('coat', 15.785458796467225), ('blankets', 15.707003221303488), ('kelly', 15.620833791255546), ('prisoners', 15.591013668557396), ('necks', 15.470434029914166), ('thread', 15.343522988575462), ('seller', 15.343522988575462), ('told', 15.331496923389949), ('print', 15.253065639117409), ('cut', 15.246780678510518), ('trusses', 15.200196512296476), ('contents', 15.00928299860092), ('apartment', 14.897247756725871), ('ham', 14.544971594150004), ('proceeded', 14.544971594150004), ('silk', 14.478603474027935), ('forty', 14.477775206272796), ('worth', 14.431709430826785), ('rainsdon', 14.426253509977977), ('clown', 14.426253509977977), ('hians', 14.426253509977977), ('knapsack', 14.426253509977977), ('eldridge', 14.426253509977977)]\n",
      "308 significantly characterising terms\n"
     ]
    }
   ],
   "source": [
    "p2words=improved_compute_surprises(hfp2_theft,hfperiods_theft,'llr')"
   ]
  },
  {
   "cell_type": "code",
   "execution_count": 24,
   "metadata": {},
   "outputs": [
    {
     "name": "stdout",
     "output_type": "stream",
     "text": [
      "Top 200 terms are \n",
      "[('-', 2218.0077723870936), ('\"', 897.47385030298506), (\"o'clock\", 571.71368170996516), ('.', 560.14901117095906), ('prisoner', 472.59994468538116), ('who', 429.13253345921351), ('secured', 393.84235088512639), ('live', 341.30685631712868), ('lives', 337.4935415771248), ('am', 335.49799739583023), ('?', 327.67370675460268), ('1l', 292.29101157895519), ('on', 202.67414144859981), ('pledged', 200.74821570966822), ('!', 198.11085779105562), ('him', 197.28599797597803), ('found', 186.73164560047496), ('july', 181.08350651068807), ('stated', 176.87225265908256), ('6d', 176.71512203767855), ('about', 168.59043575793567), ('ran', 160.15444276203664), ('which', 159.22046451565245), ('and', 140.92894519343963), ('s.', 129.48534416747788), ('august', 129.1025762556294), ('in', 127.10125684766263), ('prosecutor', 123.18297272962218), ('3s', 116.36568345384748), ('5l', 103.45699293677632), ('missed', 101.96463330007248), ('the', 99.76374786791348), ('l.', 88.742444693686338), ('november', 88.508368586467839), ('stopped', 87.598785894627383), ('with', 81.896938646379908), ('returned', 81.87905727572894), ('indictment', 81.538582066863384), ('saw', 79.596994754005095), ('alarm', 79.415420236166099), ('heard', 79.093860544082361), ('counting', 76.504307246114905), ('also', 74.70617399996587), ('he', 72.63441987770716), ('2l', 71.723090371232217), ('5s', 70.282156199828222), ('2s', 68.32054215207603), ('1s', 64.339777900418369), ('mr', 63.210798778640978), ('house', 61.654348917550237), ('\\\\you', 61.115079396692451), ('claimed', 60.899918425483932), ('10l', 59.504336111831641), ('3l', 59.153220790036926), ('charge', 54.138697337663388), ('door', 53.82074617622618), ('safe', 52.846114950912792), ('marylebone', 52.347958985189607), ('d.', 51.866468057606397), ('gave', 50.826993621442512), ('broken', 50.464060508732132), ('showed', 49.933473532107975), ('awoke', 49.607533298795452), ('his', 47.582354559179237), ('lbs', 46.563870016527581), ('mews', 46.493792452014013), ('collared', 46.204021335610165), ('reading', 45.466468930158833), ('street', 44.043675447909152), ('others', 44.026662362384954), ('us', 43.547469327344245), ('10s', 42.856035408499501), ('twist', 42.281489871449004), ('followed', 42.109452941749481), ('june', 41.954793698272439), ('watch', 41.63142018239472), ('30th', 41.477607064890627), ('spoken', 40.807915406793725), ('30l', 40.743386264461634), ('hostler', 39.363605332911092), ('skeleton', 39.363605332911092), ('sight', 38.752459167324503), ('said', 38.222836100400343), ('hung', 37.672009554339738), ('open', 35.997770807671003), ('past', 35.814707857840546), ('walking', 35.563741497437583), ('1', 35.30674473012251), ('correctly', 35.068929696656497), ('adolphus', 34.922902512395687), ('servant', 33.956466992774978), ('18s', 33.926993025861606), ('rabbits', 33.926993025861606), ('rescue', 33.648254255004815), ('robbery', 32.914383957787564), ('mile', 32.890121745734312), ('4l', 32.40148432836741), ('\\\\i', 32.40148432836741), ('watchman', 32.079327078350005), ('pledge', 31.605635846939627), ('january', 31.503187182781431), ('cry', 31.461283947993635), ('20th', 31.378213856424232), ('6s', 31.15973001844041), ('kemp', 31.149808356003398), ('8s', 30.956920070650746), ('7s', 30.956920070650746), ('area', 29.737175536831629), ('under', 29.699797235699748), ('locks', 29.36448589724079), ('sometime', 29.36448589724079), ('2d', 29.274086923837878), ('running', 29.181134446902945), ('funnel', 29.102418760329737), ('rae', 29.102418760329737), ('leighton', 29.102418760329737), ('stephens', 29.102418760329737), ('it.\\\\', 29.102418760329737), ('waterloo', 29.102418760329737), ('blackburn', 29.102418760329737), ('21st', 28.566357960056237), ('several', 28.329776504992026), ('road', 28.25758095241271), ('shutters', 28.19471727993519), ('next', 28.037754822981498), ('son', 27.591449069560582), ('distress', 27.306008171690259), ('thompson', 26.516795847150437), ('sure', 26.360177656999767), ('companion', 26.254523924372776), ('riots', 26.192176884296764), ('goulding', 26.192176884296764), ('thief!\\\\', 26.192176884296764), ('1st', 25.772135594060671), ('morrison', 25.660104608253889), ('procession', 25.660104608253889), ('pawnbroker', 25.615503360618405), ('certain', 25.472384093274464), ('crowd', 25.358756104060042), ('flap', 25.329063075361042), ('wife', 25.256164432781304), ('square', 25.191856939954079), ('cross', 24.769489032798326), ('webb', 24.755106558339769), ('patrol', 24.754316068737502), ('re', 24.220076777218139), ('morning', 24.080205700994838), ('6l', 23.985184998481376), ('\\\\stop', 23.985184998481376), ('pushed', 23.891356836297831), ('tabernacle', 23.79999335934221), ('22d', 23.51027425556255), ('lurking', 23.352536794225124), ('passed', 23.295890141473222), ('december', 23.289960307704575), ('abbotts', 23.28193500826379), ('quadrant', 23.28193500826379), ('\\\\here', 23.28193500826379), ('wilsden', 23.28193500826379), ('gregg', 23.28193500826379), ('public', 23.074064772454534), ('slack', 22.931932183885532), ('threw', 22.821823362041528), ('sword', 22.796156767824943), ('fell', 22.365507090361163), ('boards', 22.04866040425437), ('out', 21.930029947170624), ('satin', 21.913277196644756), ('spitalfields', 21.766614276617958), ('arm', 21.756209516884539), ('4s', 21.711713172415447), ('pursuing', 21.711713172415447), ('felt', 21.586025700931451), ('canal', 21.505352501967149), ('wheat', 21.505352501967149), ('leaving', 21.242442859512529), ('off', 21.181757113924874), ('hour', 21.156194095881744), ('tried', 21.046606113722774), ('27th', 20.910395523899602), ('ball', 20.715956092558095), ('saying', 20.592729785280675), ('prosecutrix', 20.546693330714625), ('met', 20.539399487616208), ('noah', 20.371693132230817), ('interpreter', 20.371693132230817), ('bourdillion', 20.371693132230817), ('poplin', 20.371693132230817), ('gas', 20.371693132230817), ('fan', 20.371693132230817), ('druce', 20.371693132230817), ('-the', 20.371693132230817), ('laking', 20.371693132230817), ('leominster', 20.371693132230817), ('\\\\what', 20.371693132230817), ('brooch', 20.371693132230817), (\"somers'-town\", 20.371693132230817), ('mounts', 20.371693132230817), ('1819', 20.371693132230817), ('wegmeyer', 20.371693132230817)]\n",
      "405 significantly characterising terms\n"
     ]
    }
   ],
   "source": [
    "p3words=improved_compute_surprises(hfp3_theft,hfperiods_theft,'llr')"
   ]
  },
  {
   "cell_type": "markdown",
   "metadata": {},
   "source": [
    "## Analysis of Characterising Terms\n",
    "\n",
    "Having derived a set of characterising terms for a subcorpus, we want to analyse them.  Basic analysis includes average frequency and POS tag distribution.  Further analysis includes clustering semantically.\n",
    "\n"
   ]
  },
  {
   "cell_type": "code",
   "execution_count": 25,
   "metadata": {
    "collapsed": true
   },
   "outputs": [],
   "source": [
    "def autolabel(rects,ax):\n",
    "    \"\"\"\n",
    "    Attach a text label above each bar displaying its height\n",
    "    \"\"\"\n",
    "    \n",
    "    for rect in rects:\n",
    "        height = rect.get_height()\n",
    "\n",
    "        ax.text(rect.get_x() + rect.get_width()/2., height*1.1,\n",
    "                '%1.1f' % height,\n",
    "                ha='center', va='bottom')\n",
    "        \n",
    "def improved_display_list(xvalues,yvalueslist,labels={}):\n",
    "    width=0.7/len(yvalueslist)      \n",
    "    N=len(xvalues)\n",
    "    ind=np.arange(N)\n",
    "    fig,ax=plt.subplots(figsize=(20,12))\n",
    "    rectset=[]\n",
    "    colors=['r','b','y','g']\n",
    "    for i,ps in enumerate(yvalueslist):\n",
    "        rectset.append(ax.bar(ind+i*width,ps,width,color=colors[i]))\n",
    "    \n",
    "    leg=labels.get('leg',None)\n",
    "    title=labels.get('title',None)\n",
    "    xlabel=labels.get('xlabel','Year')\n",
    "    ylabel=labels.get('ylabel','Probability')\n",
    "    ylim=labels.get('ylim',1)\n",
    "    if leg!=None:\n",
    "        ax.legend(rectset,leg)\n",
    "    ax.set_xticks(ind)\n",
    "    ax.set_xticklabels(xvalues)\n",
    "    ax.set_xlabel(xlabel)\n",
    "    ax.set_ylabel(ylabel)\n",
    "    ax.set_ylim(0,ylim)\n",
    "    for rects in rectset:\n",
    "        autolabel(rects,ax)\n",
    "    if title!=None:\n",
    "        ax.set_title(title)\n",
    "    plt.show()"
   ]
  },
  {
   "cell_type": "code",
   "execution_count": 26,
   "metadata": {
    "collapsed": true
   },
   "outputs": [],
   "source": [
    "#We have a corpus e.g., male_corpus and a set of characterising terms for that corpus e.g., malewords\n",
    "def find_pos(term,corpus):\n",
    "    pospos=['NOUN','VERB','ADJ','ADV','PUNCT']\n",
    "    counts={}\n",
    "    for apos in pospos:\n",
    "        counts[apos]=corpus.wordposdict.get((term,apos),0)\n",
    "    \n",
    "    total=sum(counts.values())\n",
    "    \n",
    "    gt=corpus.allworddict.get(term,0)\n",
    "    counts['OTHER']=gt-total\n",
    "    #print(term,gt,counts)\n",
    "    if gt>0:\n",
    "        poses=[(tag,weight/gt) for (tag,weight) in counts.items()]\n",
    "    else:\n",
    "        poses=[]\n",
    "    #print(term,poses)\n",
    "    return poses\n",
    "    \n",
    "def analyse(termset,corpus):\n",
    "    freqs=[]\n",
    "    somefreqs=[]\n",
    "    posdict={}\n",
    "    someposdict={}\n",
    "    threshold=20\n",
    "    for i,(term,relevance) in enumerate(termset):\n",
    "        freq=corpus.allworddict[term]\n",
    "        freqs.append(freq)\n",
    "        if i<threshold:\n",
    "            somefreqs.append(freq)\n",
    "        poses=find_pos(term,corpus)\n",
    "        for mypos,weight in poses:\n",
    "            posdict[mypos]=posdict.get(mypos,0)+weight\n",
    "            if i<threshold:\n",
    "                someposdict[mypos]=someposdict.get(mypos,0)+weight\n",
    "            \n",
    "        \n",
    "    freqarray=np.array(freqs)    \n",
    "    meanfreq=np.mean(freqarray)\n",
    "    sdfreq=np.std(freqarray)\n",
    "    meanprob=meanfreq/corpus.wordtotal\n",
    "    sdprob=sdfreq/corpus.wordtotal\n",
    "    print(\"Mean frequency is {}, sd is {}\".format(meanfreq,sdfreq))\n",
    "    print(\"Mean probability is {}, sd is {}\".format(meanprob,sdprob))\n",
    "    somefreqarray=np.array(somefreqs)\n",
    "    meansomefreq=np.mean(somefreqarray)\n",
    "    sdsomefreq=np.std(somefreqarray)\n",
    "    meansomeprob=meansomefreq/corpus.wordtotal\n",
    "    sdsomeprob=sdsomefreq/corpus.wordtotal\n",
    "    print(\"For top {} words, mean freq is {}, sd is {}\".format(threshold,meansomefreq,sdsomefreq))\n",
    "    print(\"For top {} words, mean prob is {}, sd is {}\".format(threshold,meansomeprob,sdsomeprob))\n",
    "    #print(posdict)\n",
    "    xvalues=posdict.keys()\n",
    "    totaly=sum(posdict.values())\n",
    "    totalz=sum(someposdict.values())\n",
    "    allvalues=[]\n",
    "    somevalues=[]\n",
    "    for x in xvalues:\n",
    "        allvalues.append(posdict.get(x,0))\n",
    "        somevalues.append(someposdict.get(x,0))\n",
    "    yvalues=[[100*y/totaly for y in allvalues],[100*z/totalz for z in somevalues]]\n",
    "    labels={'title':'Distribution of POS in Characterising Terms','xlabel':'Part of Speech','ylabel':'Proportion','leg':['Whole Set',\"Top {}-restricted Set\".format(threshold)],'ylim':100}\n",
    "    improved_display_list(xvalues,yvalues,labels)"
   ]
  },
  {
   "cell_type": "code",
   "execution_count": 27,
   "metadata": {},
   "outputs": [
    {
     "name": "stdout",
     "output_type": "stream",
     "text": [
      "Mean frequency is 1494.8835341365461, sd is 6578.963647962712\n",
      "Mean probability is 0.0010395949882308303, sd is 0.0045752444789121105\n",
      "For top 20 words, mean freq is 4346.0, sd is 6293.400034957257\n",
      "For top 20 words, mean prob is 0.0030223624220069153, sd is 0.004376653422068988\n"
     ]
    },
    {
     "data": {
      "image/png": "[encoded data removed]",
      "text/plain": [
       "<matplotlib.figure.Figure at 0x1b81899b0>"
      ]
     },
     "metadata": {},
     "output_type": "display_data"
    }
   ],
   "source": [
    "analyse(malewords,theft_corpus)"
   ]
  },
  {
   "cell_type": "code",
   "execution_count": 28,
   "metadata": {},
   "outputs": [
    {
     "name": "stdout",
     "output_type": "stream",
     "text": [
      "Mean frequency is 1115.9570815450643, sd is 3498.7043264361796\n",
      "Mean probability is 0.0007760761039655567, sd is 0.0024331229824974057\n",
      "For top 20 words, mean freq is 2177.15, sd is 3284.9888473935493\n",
      "For top 20 words, mean prob is 0.0015140672680792353, sd is 0.0022844976643060454\n"
     ]
    },
    {
     "data": {
      "image/png": "[encoded data removed]",
      "text/plain": [
       "<matplotlib.figure.Figure at 0x1b8a4acf8>"
      ]
     },
     "metadata": {},
     "output_type": "display_data"
    }
   ],
   "source": [
    "analyse(femalewords,theft_corpus)"
   ]
  },
  {
   "cell_type": "code",
   "execution_count": 29,
   "metadata": {},
   "outputs": [
    {
     "name": "stdout",
     "output_type": "stream",
     "text": [
      "Mean frequency is 1228.8291139240507, sd is 6453.708184077455\n",
      "Mean probability is 0.0008545713154606778, sd is 0.004488137390279381\n",
      "For top 20 words, mean freq is 10741.85, sd is 20985.234783711614\n",
      "For top 20 words, mean prob is 0.007470263180587893, sd is 0.014593875984188312\n"
     ]
    },
    {
     "data": {
      "image/png": "[encoded data removed]",
      "text/plain": [
       "<matplotlib.figure.Figure at 0x1b6d63c88>"
      ]
     },
     "metadata": {},
     "output_type": "display_data"
    }
   ],
   "source": [
    "analyse(p1words,theft_corpus)"
   ]
  },
  {
   "cell_type": "code",
   "execution_count": 30,
   "metadata": {},
   "outputs": [
    {
     "name": "stdout",
     "output_type": "stream",
     "text": [
      "Mean frequency is 1343.5454545454545, sd is 7551.381061087571\n",
      "Mean probability is 0.0009343491242697612, sd is 0.005251498010420106\n",
      "For top 20 words, mean freq is 8691.15, sd is 19224.024917469807\n",
      "For top 20 words, mean prob is 0.006044133723889876, sd is 0.013369068226020556\n"
     ]
    },
    {
     "data": {
      "image/png": "[encoded data removed]",
      "text/plain": [
       "<matplotlib.figure.Figure at 0x1b922ceb8>"
      ]
     },
     "metadata": {},
     "output_type": "display_data"
    }
   ],
   "source": [
    "analyse(p2words,theft_corpus)"
   ]
  },
  {
   "cell_type": "code",
   "execution_count": 31,
   "metadata": {},
   "outputs": [
    {
     "name": "stdout",
     "output_type": "stream",
     "text": [
      "Mean frequency is 1142.0074074074073, sd is 6129.372850720945\n",
      "Mean probability is 0.0007941924237923814, sd is 0.004262583105036444\n",
      "For top 20 words, mean freq is 7270.6, sd is 13167.25150667367\n",
      "For top 20 words, mean prob is 0.005056232909674063, sd is 0.00915697334442808\n"
     ]
    },
    {
     "data": {
      "image/png": "[encoded data removed]",
      "text/plain": [
       "<matplotlib.figure.Figure at 0x1b8342cf8>"
      ]
     },
     "metadata": {},
     "output_type": "display_data"
    }
   ],
   "source": [
    "analyse(p3words,theft_corpus)"
   ]
  },
  {
   "cell_type": "markdown",
   "metadata": {},
   "source": [
    "We can see that a much higher percentage of the characteristic words in the period corpora are punctuation and function words.  In the male/female splits, a higher percentage of the characteristic words are content words.  Looking at the most characterising words, it seems that there may be more characteristic nouns for females and more characteristic verbs for males but this would need further exploration."
   ]
  },
  {
   "cell_type": "markdown",
   "metadata": {},
   "source": [
    "## Word2Vec clustering\n"
   ]
  },
  {
   "cell_type": "code",
   "execution_count": 32,
   "metadata": {
    "collapsed": true
   },
   "outputs": [],
   "source": [
    "#from gensim.models import Word2Vec\n",
    "\n",
    "#parameters\n",
    "size=300\n",
    "min_count=10\n",
    "window=1\n",
    "sg=1 #1=use skip-gram, otherwise=cbow"
   ]
  },
  {
   "cell_type": "code",
   "execution_count": 33,
   "metadata": {},
   "outputs": [
    {
     "name": "stdout",
     "output_type": "stream",
     "text": [
      "Word2Vec model built with example vocabulary:\n",
      "['i', 'never', 'saw', 'the', 'woman', 'in', 'my', 'life', '.', '\\n']\n",
      "Time taken: 8.058069944381714s\n"
     ]
    }
   ],
   "source": [
    "start=time.time()\n",
    "theft_model=Word2Vec(theft_corpus.sentences,min_count=min_count,window=window,size=size,sg=sg,workers=4)\n",
    "vocab=list(theft_model.wv.vocab.keys())\n",
    "print(\"Word2Vec model built with example vocabulary:\")\n",
    "print(str(vocab[0:10]))\n",
    "end=time.time()\n",
    "print(\"Time taken: {}s\".format(str(end-start)))"
   ]
  },
  {
   "cell_type": "code",
   "execution_count": 34,
   "metadata": {},
   "outputs": [
    {
     "data": {
      "text/plain": [
       "[('..', 0.7483799457550049),\n",
       " ('?', 0.6416943669319153),\n",
       " ('....', 0.606925904750824),\n",
       " ('\\n', 0.543373703956604),\n",
       " ('a.', 0.5359265208244324),\n",
       " ('whilst', 0.45298704504966736),\n",
       " ('it.\\\\', 0.45258617401123047),\n",
       " ('attacked', 0.45245760679244995),\n",
       " ('amounting', 0.4468768537044525),\n",
       " ('aged', 0.4464248716831207)]"
      ]
     },
     "execution_count": 34,
     "metadata": {},
     "output_type": "execute_result"
    }
   ],
   "source": [
    "theft_model.wv.most_similar(['.'])"
   ]
  },
  {
   "cell_type": "code",
   "execution_count": 35,
   "metadata": {},
   "outputs": [
    {
     "data": {
      "text/plain": [
       "[('defendant', 0.6731184720993042),\n",
       " ('prosecutrix', 0.641255259513855),\n",
       " ('prosecutor', 0.629448652267456),\n",
       " ('langley', 0.5996298789978027),\n",
       " ('limbrick', 0.5777304172515869),\n",
       " ('lad', 0.5749109387397766),\n",
       " ('wyegate', 0.5744865536689758),\n",
       " ('gentleman', 0.5742286443710327),\n",
       " ('bar', 0.5715653300285339),\n",
       " ('lobby', 0.5697882175445557)]"
      ]
     },
     "execution_count": 35,
     "metadata": {},
     "output_type": "execute_result"
    }
   ],
   "source": [
    "theft_model.wv.most_similar(['prisoner'])"
   ]
  },
  {
   "cell_type": "code",
   "execution_count": 36,
   "metadata": {},
   "outputs": [
    {
     "data": {
      "text/plain": [
       "[('stable', 0.8068810105323792),\n",
       " ('pantry', 0.8059081435203552),\n",
       " ('passage', 0.7798969745635986),\n",
       " ('loft', 0.7754330039024353),\n",
       " ('brewhouse', 0.7533169388771057),\n",
       " ('cellar', 0.7507472038269043),\n",
       " ('garret', 0.748918890953064),\n",
       " ('bedroom', 0.7483941316604614),\n",
       " ('parlour', 0.7482156157493591),\n",
       " ('kitchen', 0.7450332641601562)]"
      ]
     },
     "execution_count": 36,
     "metadata": {},
     "output_type": "execute_result"
    }
   ],
   "source": [
    "theft_model.wv.most_similar(['warehouse'])"
   ]
  },
  {
   "cell_type": "code",
   "execution_count": 37,
   "metadata": {},
   "outputs": [
    {
     "data": {
      "text/plain": [
       "[('mother', 0.8049662113189697),\n",
       " ('father', 0.8024923801422119),\n",
       " ('sister', 0.799789547920227),\n",
       " ('mistress', 0.7970733642578125),\n",
       " ('daughter', 0.7930319309234619),\n",
       " ('aunt', 0.759781539440155),\n",
       " ('son', 0.728303074836731),\n",
       " ('master', 0.7273372411727905),\n",
       " ('uncle', 0.7141318321228027),\n",
       " ('cousin', 0.7132224440574646)]"
      ]
     },
     "execution_count": 37,
     "metadata": {},
     "output_type": "execute_result"
    }
   ],
   "source": [
    "theft_model.wv.most_similar(['husband'])"
   ]
  },
  {
   "cell_type": "code",
   "execution_count": 38,
   "metadata": {
    "collapsed": true
   },
   "outputs": [],
   "source": [
    "def nearest_neighbours(wordset,w2vmodel):\n",
    "    threshold=20\n",
    "    found=0\n",
    "    for i,(term,score) in enumerate(wordset):\n",
    "        try:\n",
    "            neighbours=w2vmodel.wv.most_similar([term])\n",
    "            found+=1\n",
    "            if i<threshold:\n",
    "                print(term,neighbours)\n",
    "        except:\n",
    "            print(\"{} not in vocab\".format(term))\n",
    "    \n",
    "    oov=100-(found*100/len(wordset))\n",
    "    print(\"Out of vocabulary: {}\".format(oov))\n",
    "    \n",
    "    "
   ]
  },
  {
   "cell_type": "code",
   "execution_count": 39,
   "metadata": {},
   "outputs": [
    {
     "name": "stdout",
     "output_type": "stream",
     "text": [
      "she [('he', 0.7412221431732178), ('moody', 0.5938887596130371), ('defendant', 0.5764707326889038), ('they', 0.567938506603241), ('readily', 0.5654587149620056), ('bligh', 0.5613709688186646), ('formerly', 0.5552041530609131), ('provided', 0.5526620149612427), ('unless', 0.551141083240509), ('husband', 0.5498078465461731)]\n",
      "husband [('mother', 0.8049662113189697), ('father', 0.8024923801422119), ('sister', 0.799789547920227), ('mistress', 0.7970733642578125), ('daughter', 0.7930319309234619), ('aunt', 0.759781539440155), ('son', 0.728303074836731), ('master', 0.7273372411727905), ('uncle', 0.7141318321228027), ('cousin', 0.7132224440574646)]\n",
      "her [('him', 0.6446456909179688), ('herself', 0.5729403495788574), ('langley', 0.5363460779190063), ('me', 0.5336166024208069), ('prisoners', 0.5332859754562378), ('bulky', 0.5276264548301697), ('us', 0.5256074666976929), ('his', 0.5199295282363892), ('refused', 0.5155174732208252), ('bail', 0.5148798227310181)]\n",
      "room [('kitchen', 0.7410447597503662), ('parlour', 0.7324796915054321), ('cellar', 0.7279225587844849), ('garret', 0.6732881665229797), ('cupboard', 0.6507678031921387), ('pantry', 0.6506980657577515), ('drawer', 0.6454321146011353), ('closet', 0.6295229196548462), ('loft', 0.6289977431297302), ('warehouse', 0.6288419961929321)]\n",
      "my [('your', 0.7000859975814819), ('our', 0.6487064361572266), ('his', 0.6278635263442993), ('their', 0.5631636381149292), ('prisoners', 0.5208247900009155), ('own', 0.5025091171264648), ('repair', 0.48624861240386963), ('unborn', 0.48062777519226074), ('inner', 0.47595083713531494), ('drawing', 0.4693043828010559)]\n",
      "things [('articles', 0.8274660110473633), ('goods', 0.7603410482406616), ('tools', 0.7550301551818848), ('ribbons', 0.7428430318832397), ('tickets', 0.7322664856910706), ('books', 0.7321528196334839), ('coals', 0.718297004699707), ('clothes', 0.7150945663452148), ('indictment', 0.6736445426940918), ('plate', 0.6732817888259888)]\n",
      "stairs [('ladder', 0.6811634302139282), ('steps', 0.6634441614151001), ('shutters', 0.6525487899780273), ('gateway', 0.6302893161773682), ('privy', 0.6297855973243713), ('garret', 0.6268782615661621), ('area', 0.6249111890792847), ('stooping', 0.6222603917121887), ('cellar', 0.6216450929641724), ('passage', 0.6212857961654663)]\n",
      "mrs. [('mr.', 0.8999441266059875), ('messrs.', 0.6939464807510376), ('thomas', 0.6584280729293823), ('sarah', 0.6388376355171204), ('robert', 0.5956292152404785), ('james', 0.5946353673934937), ('elizabeth', 0.5929527282714844), ('william', 0.5896296501159668), ('john', 0.5845781564712524), ('mary', 0.5772964358329773)]\n",
      "bed [('tap', 0.6478362083435059), ('club', 0.642692506313324), ('guard', 0.635009229183197), ('cloaths', 0.6188727617263794), ('boat', 0.6132379770278931), ('chair', 0.6131508350372314), ('privy', 0.6106849908828735), ('carriage', 0.6104097366333008), ('cupboard', 0.6058474779129028), ('cabin', 0.6025345921516418)]\n",
      "mother [('father', 0.8891646862030029), ('sister', 0.8609931468963623), ('mistress', 0.8585176467895508), ('aunt', 0.8181285262107849), ('husband', 0.8049662113189697), ('uncle', 0.7863737940788269), ('landlady', 0.786017656326294), ('brother', 0.7839112877845764), ('son', 0.767459511756897), ('daughter', 0.7643047571182251)]\n",
      "wife [('son', 0.7841553688049316), ('daughter', 0.7359104156494141), ('nephew', 0.7338785529136658), ('sister', 0.7271816730499268), ('mother', 0.7111903429031372), ('father', 0.7085705995559692), ('landlady', 0.6722608208656311), ('servant', 0.6698306202888489), ('captain', 0.6691693067550659), ('groom', 0.6691299676895142)]\n",
      "sister [('father', 0.8709357380867004), ('mother', 0.8609931468963623), ('aunt', 0.8346377015113831), ('daughter', 0.8326929807662964), ('son', 0.8229840993881226), ('nephew', 0.8225918412208557), ('mistress', 0.8191996812820435), ('uncle', 0.8169580698013306), ('husband', 0.799789547920227), ('cousin', 0.792998194694519)]\n",
      "gown [('shawl', 0.8930591940879822), ('shirt', 0.871565580368042), ('sheet', 0.8697565793991089), ('shift', 0.8691157698631287), ('cloak', 0.8563331365585327), ('counterpane', 0.8459624648094177), ('blanket', 0.8300549983978271), ('bonnet', 0.8151818513870239), ('handkerchief', 0.7976401448249817), ('cap', 0.7972716689109802)]\n",
      "widow [('tailor', 0.938597559928894), ('shoemaker', 0.9100710153579712), ('jeweller', 0.9017466306686401), ('hatter', 0.8962974548339844), ('poulterer', 0.8905935287475586), ('laundress', 0.8884514570236206), ('weaver', 0.8880051970481873), ('bricklayer', 0.8853524923324585), ('haberdasher', 0.8779175281524658), ('plumber', 0.8776978254318237)]\n",
      "mistress [('landlady', 0.8690633177757263), ('mother', 0.8585176467895508), ('father', 0.8271607756614685), ('aunt', 0.8263164162635803), ('landlord', 0.8196338415145874), ('sister', 0.8191996812820435), ('husband', 0.7970733642578125), ('master', 0.7854214906692505), ('pardon', 0.782867968082428), ('cousin', 0.7816416621208191)]\n",
      "missed [('lost', 0.7663045525550842), ('counted', 0.7278689742088318), ('discovered', 0.7168383002281189), ('missing', 0.6733055114746094), ('found', 0.6481945514678955), ('purchased', 0.6475106477737427), ('compared', 0.6464637517929077), ('measured', 0.6426668763160706), ('observed', 0.6369001865386963), ('packed', 0.6319128274917603)]\n",
      "door [('window', 0.8222020864486694), ('gate', 0.6873096227645874), ('windows', 0.6570676565170288), ('kitchen', 0.6355255842208862), ('parlour', 0.6351525187492371), ('shutter', 0.6159226894378662), ('cupboard', 0.6150373220443726), ('bolt', 0.6138600707054138), ('lock', 0.5947802662849426), ('shutters', 0.5942649245262146)]\n",
      "daughter [('son', 0.8711509704589844), ('nephew', 0.8426117300987244), ('sister', 0.8326929807662964), ('husband', 0.7930319309234619), ('aunt', 0.7835561037063599), ('mistress', 0.781366229057312), ('uncle', 0.7786681652069092), ('cousin', 0.7735844254493713), ('groom', 0.765937328338623), ('mother', 0.7643047571182251)]\n",
      "child [('lad', 0.6803685426712036), ('chairwoman', 0.6697982549667358), ('voice', 0.661651611328125), ('gentleman', 0.6600874066352844), ('hamper', 0.6587523221969604), ('pistol', 0.6585336923599243), ('comrade', 0.6570507884025574), ('sailor', 0.6565021276473999), ('uncle', 0.6480147838592529), ('honesty', 0.6475895047187805)]\n",
      "kitchen [('parlour', 0.874526858329773), ('cellar', 0.8663950562477112), ('garret', 0.8262215256690979), ('pantry', 0.8213559985160828), ('passage', 0.8039172887802124), ('cupboard', 0.8012832403182983), ('closet', 0.7956597208976746), ('stable', 0.7852953672409058), ('cabin', 0.7819721698760986), ('loft', 0.7774919271469116)]\n",
      "hians not in vocab\n",
      "priestly not in vocab\n",
      "fringe not in vocab\n",
      "veal not in vocab\n",
      "searles not in vocab\n",
      "shopwoman not in vocab\n",
      "everitt not in vocab\n",
      "stars not in vocab\n",
      "pinafore not in vocab\n",
      "betty not in vocab\n",
      "anne not in vocab\n",
      "daughters not in vocab\n",
      "caddys not in vocab\n",
      "dimmock not in vocab\n",
      "pillows not in vocab\n",
      "willes not in vocab\n",
      "errands not in vocab\n",
      "thorngate not in vocab\n",
      "tippets not in vocab\n",
      "pratley not in vocab\n",
      "matron not in vocab\n",
      "trayner not in vocab\n",
      "rau not in vocab\n",
      "collard not in vocab\n",
      "chairing not in vocab\n",
      "threepence not in vocab\n",
      "mangled not in vocab\n",
      "h not in vocab\n",
      "youngest not in vocab\n",
      "kentish not in vocab\n",
      "Out of vocabulary: 12.87553648068669\n"
     ]
    }
   ],
   "source": [
    "nearest_neighbours(femalewords,theft_model)"
   ]
  },
  {
   "cell_type": "code",
   "execution_count": 40,
   "metadata": {},
   "outputs": [
    {
     "name": "stdout",
     "output_type": "stream",
     "text": [
      "him [('me', 0.7047571539878845), ('her', 0.6446456909179688), ('us', 0.6299777030944824), ('langley', 0.6281955242156982), ('resisted', 0.5932115316390991), ('inquired', 0.5854138135910034), ('bail', 0.5768976211547852), ('rayson', 0.5717211961746216), ('meant', 0.5698522329330444), ('presently', 0.5696577429771423)]\n",
      "his [('their', 0.687963604927063), ('your', 0.6789782047271729), ('my', 0.6278635263442993), ('hid', 0.5426934361457825), ('repair', 0.5303051471710205), ('its', 0.5267015695571899), ('pretence', 0.525867223739624), ('prisoners', 0.5251446962356567), ('her', 0.5199294686317444), ('holding', 0.5131368637084961)]\n",
      "he [('she', 0.7412221431732178), ('moody', 0.635277509689331), ('defendant', 0.618132472038269), ('bligh', 0.6115201711654663), ('they', 0.597185492515564), (\"ma'am\", 0.5885469913482666), ('tom', 0.5825900435447693), ('brice', 0.5823519229888916), ('probably', 0.5740911364555359), ('jack', 0.5704175233840942)]\n",
      "am [('journeyman', 0.569075345993042), ('entire', 0.5568797588348389), ('keep', 0.5558657646179199), ('procured', 0.55487060546875), ('draper', 0.5543471574783325), ('builder', 0.5534650683403015), ('glazier', 0.5377236604690552), ('marine', 0.5242210626602173), ('auctioneer', 0.5228042006492615), ('hackney', 0.5194293260574341)]\n",
      "horse [('mare', 0.7023990154266357), ('harness', 0.6298328638076782), ('gelding', 0.6242867708206177), ('lamp', 0.6166868209838867), ('veil', 0.6160486936569214), ('funnel', 0.5929561853408813), ('stool', 0.5907885432243347), ('wheel', 0.5892777442932129), ('sword', 0.5859339833259583), ('trunk', 0.5847512483596802)]\n",
      "officer [('constable', 0.7737284898757935), ('patrol', 0.7174511551856995), ('officers', 0.7139211893081665), ('elder', 0.6873677968978882), ('armstrong', 0.6774837374687195), ('compter', 0.6685664057731628), ('watchman', 0.6586548089981079), ('watchhouse', 0.6574388742446899), ('limbrick', 0.6474581360816956), ('assault', 0.6459943056106567)]\n",
      "mr. [('mrs.', 0.8999441862106323), ('messrs.', 0.7219849824905396), ('thomas', 0.6709184646606445), ('william', 0.6286845207214355), ('robert', 0.6164369583129883), ('sarah', 0.6022698283195496), ('john', 0.600875973701477), ('james', 0.5805219411849976), ('richard', 0.5793043971061707), ('edward', 0.5772221088409424)]\n",
      "custody [('possession', 0.7751823663711548), ('watchhouse', 0.7503969669342041), ('charge', 0.7086576223373413), ('prison', 0.7042111158370972), ('presence', 0.7027379274368286), ('compter', 0.6830886006355286), ('apprehended', 0.6763939261436462), ('cage', 0.6713488101959229), ('neighbourhood', 0.667462170124054), ('detained', 0.656731903553009)]\n",
      "produce [('produces', 0.7669185400009155), ('produced', 0.6602323055267334), ('producing', 0.6399009823799133), ('containing', 0.6248867511749268), ('hunting', 0.620232343673706), ('diamond', 0.6058631539344788), ('repeating', 0.6057125329971313), ('silk', 0.5956073999404907), ('contains', 0.5949950218200684), ('cloths', 0.5943819284439087)]\n",
      "constable [('patrol', 0.8171358704566956), ('officer', 0.7737284898757935), ('watchman', 0.7697395086288452), ('beadle', 0.7200703024864197), ('patrole', 0.7063970565795898), ('coachman', 0.6797434091567993), ('headborough', 0.6762692928314209), ('armstrong', 0.66249680519104), ('watchhouse', 0.6600002646446228), ('serjeant', 0.6507666707038879)]\n",
      "warehouse [('stable', 0.8068810105323792), ('pantry', 0.8059081435203552), ('passage', 0.7798969745635986), ('loft', 0.7754330039024353), ('brewhouse', 0.7533169388771057), ('cellar', 0.7507472038269043), ('garret', 0.748918890953064), ('bedroom', 0.7483941316604614), ('parlour', 0.7482156157493591), ('kitchen', 0.7450332641601562)]\n",
      "searched [('searching', 0.727865993976593), ('detained', 0.6876355409622192), ('apprehended', 0.6400337219238281), ('seized', 0.6329724192619324), ('undressed', 0.6246494054794312), ('found', 0.620019793510437), ('opened', 0.6174018383026123), ('conveyed', 0.614700436592102), ('attended', 0.6142846941947937), ('watching', 0.6046196222305298)]\n",
      "from [('beyond', 0.5095897316932678), ('towards', 0.4934086203575134), ('through', 0.4829641580581665), ('off', 0.4723650813102722), ('tray', 0.43337881565093994), ('demanded', 0.4321378171443939), ('across', 0.42847275733947754), ('leaving', 0.42776980996131897), ('respecting', 0.42628276348114014), ('grease', 0.42603424191474915)]\n",
      "by [('against', 0.45159459114074707), ('behind', 0.4255557060241699), ('charging', 0.4123414158821106), ('opposite', 0.4122163653373718), ('beyond', 0.40984565019607544), ('alongside', 0.4086088538169861), ('ease', 0.39370274543762207), ('jaques', 0.39344877004623413), ('slack', 0.39339447021484375), ('matthews', 0.3919147849082947)]\n",
      "apprehended [('attended', 0.7139995098114014), ('detained', 0.7033186554908752), ('tuesday', 0.692615807056427), ('discharged', 0.6865869164466858), ('attending', 0.679419755935669), ('custody', 0.6763939261436462), ('present', 0.6734221577644348), ('apprehending', 0.6712343692779541), ('thursday', 0.6668161153793335), ('apprehend', 0.663532018661499)]\n",
      "messrs. [('thomas', 0.8210099935531616), ('robert', 0.8135188221931458), ('william', 0.787581205368042), ('edward', 0.7719876766204834), ('richard', 0.763688325881958), ('joseph', 0.7553699612617493), ('co.', 0.7388725876808167), ('henry', 0.7311735153198242), ('sarah', 0.729231595993042), ('benjamin', 0.7289981842041016)]\n",
      "charge [('custody', 0.7086576223373413), ('description', 0.6769277453422546), ('receipt', 0.6603673100471497), ('presence', 0.6571643948554993), ('evidence', 0.6516917943954468), ('prison', 0.6489782333374023), ('notice', 0.6271998882293701), ('ticket', 0.6221998333930969), ('pursuit', 0.6202735304832458), ('apprehending', 0.619969367980957)]\n",
      "office [('watchhouse', 0.7405308485031128), ('compter', 0.6786585450172424), ('garden', 0.6746919751167297), ('marlborough', 0.6457133293151855), ('officer', 0.6432327628135681), ('worship', 0.6408519744873047), ('borough', 0.6395262479782104), ('general', 0.6290538907051086), ('hospital', 0.6229075789451599), ('thames', 0.6198011040687561)]\n",
      "sheep [('pigs', 0.8450545072555542), ('fowls', 0.8061358332633972), ('casks', 0.8052360415458679), ('skins', 0.8005739450454712), ('diamonds', 0.7942352294921875), ('brushes', 0.7935848236083984), ('shawls', 0.781414270401001), ('prints', 0.7809029817581177), ('packages', 0.7770411968231201), ('places', 0.7729194760322571)]\n",
      "took [('conveyed', 0.7147711515426636), ('dragged', 0.6952314376831055), ('carried', 0.682938814163208), ('gave', 0.6800098419189453), ('snatched', 0.6651059985160828), ('fetched', 0.6642670631408691), ('catched', 0.6624016761779785), ('communicated', 0.6623553037643433), ('shewed', 0.6553788185119629), ('chucked', 0.650850772857666)]\n",
      "Out of vocabulary: 0.0\n"
     ]
    }
   ],
   "source": [
    "nearest_neighbours(malewords,theft_model)"
   ]
  },
  {
   "cell_type": "code",
   "execution_count": 41,
   "metadata": {},
   "outputs": [
    {
     "name": "stdout",
     "output_type": "stream",
     "text": [
      "; [(':', 0.6661173701286316), (',', 0.6037898063659668), ('untill', 0.5795877575874329), ('whilst', 0.5757938623428345), ('bligh', 0.5539565086364746), ('wyegate', 0.5455580353736877), ('moody', 0.5437320470809937), ('accordingly', 0.5362878441810608), ('persisted', 0.5331149101257324), ('joined', 0.5306950211524963)]\n",
      ": [(';', 0.6661173701286316), (',', 0.5398867130279541), ('....', 0.5023549795150757), ('..', 0.4936864376068115), ('friday', 0.48981791734695435), ('may.', 0.4823756814002991), ('preceding', 0.47902679443359375), ('barry', 0.46966326236724854), ('thursday', 0.46813246607780457), ('wednesday', 0.4676532745361328)]\n",
      ") [('producing', 0.7305973172187805), ('identified', 0.712422251701355), ('produces', 0.6928706169128418), ('repeating', 0.6726940870285034), ('claimed', 0.6571785807609558), ('produced', 0.6293554306030273), ('read', 0.6275597810745239), ('(', 0.6267099380493164), ('redeemed', 0.6072431802749634), ('....', 0.5752847194671631)]\n",
      "produces [('producing', 0.9276591539382935), ('repeating', 0.8928854465484619), ('produce', 0.7669184803962708), ('contains', 0.7479532957077026), ('redeemed', 0.733163595199585), ('memorandum', 0.7064465880393982), ('produced', 0.7010723352432251), ('prayer', 0.6953074932098389), ('yellow', 0.6941578388214111), (')', 0.6928704977035522)]\n",
      "yes [('hungry', 0.6670054197311401), ('sober', 0.6572298407554626), ('drunk', 0.6568067073822021), ('warm', 0.6517516374588013), ('accordingly', 0.6492816209793091), (\"ma'am\", 0.6385986804962158), ('hesitated', 0.6362977623939514), ('think', 0.633709192276001), ('absconded', 0.6330194473266602), ('ireland', 0.6322982907295227)]\n",
      "upon [('on', 0.6630216836929321), ('behind', 0.5138536095619202), ('underneath', 0.511821985244751), ('among', 0.5061658620834351), ('under', 0.49214187264442444), ('excited', 0.46974676847457886), ('sleeve', 0.4613324999809265), ('against', 0.46112215518951416), ('induce', 0.45546936988830566), ('real', 0.45320531725883484)]\n",
      ", [(';', 0.6037898063659668), (':', 0.5398867130279541), ('moody', 0.5286328792572021), ('wyegate', 0.5068480968475342), ('occupied', 0.5022612810134888), ('whilst', 0.4959558844566345), ('newberry', 0.49402865767478943), ('tipper', 0.49111220240592957), ('bedding', 0.49077022075653076), ('exchanged', 0.4862592816352844)]\n",
      "but [('because', 0.6801110506057739), ('saying', 0.6244497299194336), ('nor', 0.6042988300323486), ('except', 0.6035147905349731), ('although', 0.5986979007720947), ('unless', 0.5857605934143066), ('replied', 0.5784214735031128), ('besides', 0.5600647926330566), ('though', 0.5566460490226746), ('convinced', 0.5564415454864502)]\n",
      "( [('produced', 0.6725010275840759), ('produces', 0.6299941539764404), (')', 0.6267099380493164), ('identified', 0.6126235723495483), ('producing', 0.6046837568283081), ('besides', 0.5677247047424316), ('repeating', 0.5620831251144409), ('produce', 0.5603487491607666), ('signed', 0.5574313402175903), ('identical', 0.5516504049301147)]\n",
      "\n",
      " [('.', 0.5433736443519592), ('..', 0.5010700225830078), ('9d', 0.4926537573337555), ('....', 0.49135202169418335), ('a.', 0.48763230443000793), ('it.\\\\', 0.48741114139556885), ('10s', 0.46656784415245056), ('4l', 0.4638298749923706), ('surrendered', 0.4630897641181946), ('7s', 0.45877784490585327)]\n",
      "no [('whatever', 0.5794042348861694), ('least', 0.557722806930542), ('l.', 0.5499638915061951), ('s.', 0.543838620185852), ('distinctly', 0.5238534212112427), ('lbs', 0.522572934627533), ('any', 0.5176644921302795), ('yes', 0.5131720304489136), ('certainly', 0.5115421414375305), ('neither', 0.5082724690437317)]\n",
      "and [('but', 0.5138989090919495), ('bligh', 0.5083990097045898), ('glover', 0.49000000953674316), ('moody', 0.4831085801124573), ('instantly', 0.47595876455307007), (';', 0.4742293953895569), ('accordingly', 0.4648311138153076), ('likewise', 0.4647490978240967), ('untill', 0.46401047706604004), ('saying', 0.46285250782966614)]\n",
      "can [('dare', 0.774872362613678), ('could', 0.7582008242607117), ('positively', 0.696601152420044), ('shall', 0.6876263618469238), ('will', 0.6558353900909424), ('did', 0.6551110744476318), ('need', 0.6353203058242798), ('should', 0.6312587261199951), ('exactly', 0.6301103234291077), ('ca', 0.6248382925987244)]\n",
      "very [('too', 0.8018420934677124), ('so', 0.730182409286499), ('agitated', 0.6740520000457764), ('perfectly', 0.6731703281402588), ('confused', 0.6626514196395874), ('intoxicated', 0.6519865989685059), ('quite', 0.6513292789459229), ('pretty', 0.616880476474762), ('frightened', 0.6067392230033875), ('distressed', 0.5915480256080627)]\n",
      "identified [('deposed', 0.8202502727508545), ('produced', 0.818452000617981), ('claimed', 0.7794798612594604), ('redeemed', 0.760252833366394), ('owned', 0.7463431358337402), ('producing', 0.7332144379615784), ('repeating', 0.7287600636482239), ('sworn', 0.7286091446876526), ('acquitted', 0.7210353016853333), (')', 0.7124221324920654)]\n",
      "then [('immediately', 0.7381891012191772), ('instantly', 0.69026780128479), ('when', 0.6524158716201782), ('directly', 0.6391953229904175), ('accordingly', 0.6254215240478516), ('untill', 0.5891584157943726), ('bligh', 0.5877275466918945), ('presently', 0.5862511396408081), ('moody', 0.5799049139022827), ('scuffle', 0.5753035545349121)]\n",
      "n't [('rightly', 0.860236644744873), ('positively', 0.8437899351119995), ('pray', 0.8388897776603699), ('anybody', 0.8333841562271118), ('really', 0.8167359828948975), ('anything', 0.8124751448631287), ('hardly', 0.8087549209594727), ('declare', 0.8052463531494141), ('exact', 0.7964693307876587), ('\\\\i', 0.7830846905708313)]\n",
      "till [('until', 0.8287750482559204), ('untill', 0.6713073253631592), ('monday', 0.5514023303985596), ('arose', 0.542561411857605), ('sessions', 0.5423960089683533), ('morning', 0.5412819385528564), ('following', 0.5388838052749634), ('preceding', 0.5336294770240784), ('continued', 0.5334010124206543), ('remaining', 0.5327948331832886)]\n",
      "warehouses [('heads', 0.8278416395187378), ('stables', 0.8094520568847656), ('chambers', 0.8007444143295288), ('cornhill', 0.7991191148757935), ('cottage', 0.7985575199127197), ('dring', 0.79619300365448), ('quay', 0.7954932451248169), ('nag', 0.7953870296478271), ('names', 0.7950271368026733), ('firm', 0.7939434051513672)]\n",
      "say [('recollect', 0.8318053483963013), ('understand', 0.791506290435791), ('observe', 0.7795867919921875), ('perceive', 0.7656760811805725), ('deny', 0.7585607171058655), ('tell', 0.7583889961242676), ('swear', 0.751509428024292), ('identify', 0.75074303150177), ('mention', 0.7454032301902771), ('hear', 0.7443262338638306)]\n",
      "district not in vocab\n",
      "peake not in vocab\n",
      "justly not in vocab\n",
      "alstone not in vocab\n",
      "parkin not in vocab\n",
      "taps not in vocab\n",
      "troughton not in vocab\n",
      "browne not in vocab\n",
      "yerraway not in vocab\n",
      "quays not in vocab\n",
      "woodman not in vocab\n",
      "vice not in vocab\n",
      "tilden not in vocab\n",
      "robus not in vocab\n",
      "vignette not in vocab\n",
      "newland not in vocab\n",
      "marryat not in vocab\n",
      "bottling not in vocab\n",
      "dartford not in vocab\n",
      "drewee not in vocab\n",
      "pring not in vocab\n",
      "kingsbury not in vocab\n",
      "purvis not in vocab\n",
      "champante not in vocab\n",
      "grains not in vocab\n",
      "houston not in vocab\n",
      "pooley not in vocab\n",
      "banbury not in vocab\n",
      "lantern not in vocab\n",
      "sills not in vocab\n",
      "glynn not in vocab\n",
      "galls not in vocab\n",
      "copers not in vocab\n",
      "powdich not in vocab\n",
      "grover not in vocab\n",
      "distaff not in vocab\n",
      "l not in vocab\n",
      "badger not in vocab\n",
      "mincing not in vocab\n",
      "3000l not in vocab\n",
      "teller not in vocab\n",
      "1800 not in vocab\n",
      "woodsall not in vocab\n",
      "nealey not in vocab\n",
      "gibbons not in vocab\n",
      "syer not in vocab\n",
      "potato not in vocab\n",
      "fairer not in vocab\n",
      "monk not in vocab\n",
      "bish not in vocab\n",
      "m'allister not in vocab\n",
      "molt not in vocab\n",
      "turkies not in vocab\n",
      "bridport not in vocab\n",
      "deschamps not in vocab\n",
      "martyn not in vocab\n",
      "peas not in vocab\n",
      "slap not in vocab\n",
      "grater not in vocab\n",
      "pedder not in vocab\n",
      "soot not in vocab\n",
      "heifers not in vocab\n",
      "everitt not in vocab\n",
      "pantheon not in vocab\n",
      "250l not in vocab\n",
      "dalby not in vocab\n",
      "cato not in vocab\n",
      "rasps not in vocab\n",
      "whited not in vocab\n",
      "anne not in vocab\n",
      "gourd not in vocab\n",
      "decrease not in vocab\n",
      "moren not in vocab\n",
      "billiter not in vocab\n",
      "higgins not in vocab\n",
      "carpmeal not in vocab\n",
      "brasses not in vocab\n",
      "jevans not in vocab\n",
      "larkin not in vocab\n",
      "listed not in vocab\n",
      "eastern not in vocab\n",
      "messers not in vocab\n",
      "knott not in vocab\n",
      "joy not in vocab\n",
      "balch not in vocab\n",
      "despencer not in vocab\n",
      "horned not in vocab\n",
      "1801 not in vocab\n",
      "stayed not in vocab\n",
      "seddon not in vocab\n",
      "tablespoon not in vocab\n",
      "meyrick not in vocab\n",
      "carlton not in vocab\n",
      "directors not in vocab\n",
      "8000l not in vocab\n",
      "9140 not in vocab\n",
      "9550 not in vocab\n",
      "hoares not in vocab\n",
      "burrage not in vocab\n",
      "hodsell not in vocab\n",
      "Out of vocabulary: 31.64556962025317\n"
     ]
    }
   ],
   "source": [
    "nearest_neighbours(p1words,theft_model)"
   ]
  },
  {
   "cell_type": "code",
   "execution_count": 42,
   "metadata": {},
   "outputs": [
    {
     "name": "stdout",
     "output_type": "stream",
     "text": [
      ". [('..', 0.7483799457550049), ('?', 0.6416943669319153), ('....', 0.606925904750824), ('\\n', 0.543373703956604), ('a.', 0.5359265208244324), ('whilst', 0.45298704504966736), ('it.\\\\', 0.45258617401123047), ('attacked', 0.45245760679244995), ('amounting', 0.4468768537044525), ('aged', 0.4464248716831207)]\n",
      "that [('which', 0.5919324159622192), ('wrong', 0.5405300855636597), ('whoever', 0.5348094701766968), ('whether', 0.5247097015380859), ('persisted', 0.5230268836021423), ('whom', 0.5180702209472656), ('because', 0.5108938813209534), ('drunken', 0.5094345211982727), ('most', 0.5082739591598511), ('unless', 0.5060873627662659)]\n",
      "this [('the', 0.5042591094970703), ('identical', 0.4996032118797302), ('third', 0.4971873164176941), ('another', 0.49467065930366516), ('canvas', 0.48612695932388306), ('second', 0.4795188307762146), ('that', 0.4775157570838928), ('butter', 0.4753057360649109), ('hunting', 0.46675848960876465), ('print', 0.463672399520874)]\n",
      "watchhouse [('compter', 0.9001337885856628), ('custody', 0.7503968477249146), ('prison', 0.747022271156311), ('office', 0.7405307292938232), ('marlborough', 0.7385315895080566), ('guildhall', 0.7295582890510559), ('cage', 0.7181860208511353), ('borough', 0.6962556838989258), ('worship', 0.6931371092796326), ('toll', 0.6820446252822876)]\n",
      "shillings [('pence', 0.8708847165107727), ('pounds', 0.8611056208610535), ('guineas', 0.8213522434234619), ('dollars', 0.8016300797462463), ('ounces', 0.783014178276062), ('inches', 0.7690920829772949), ('sixpences', 0.7667011022567749), ('deficient', 0.7617141604423523), ('1l', 0.7595874071121216), ('dials', 0.7531499862670898)]\n",
      "pound [('10l', 0.8426909446716309), ('pounds', 0.8054496049880981), ('england', 0.8011177778244019), ('5l', 0.7836170196533203), ('request', 0.7681087851524353), ('pence', 0.767479419708252), ('thousand', 0.7583519220352173), ('2l', 0.7528877258300781), ('1l', 0.7513594031333923), ('50l', 0.748157799243927)]\n",
      "these [('those', 0.7940948009490967), ('various', 0.6516574621200562), ('several', 0.6433365345001221), ('different', 0.6392807364463806), ('rest', 0.6331287622451782), ('baskets', 0.6154412031173706), ('valuable', 0.6133338809013367), ('the\\\\\\\\', 0.6049981117248535), ('blankets', 0.6035456657409668), ('drops', 0.6006264090538025)]\n",
      "is [('keeps', 0.5948472023010254), ('belongs', 0.5323557257652283), ('makes', 0.5263567566871643), ('rented', 0.5122102499008179), ('has', 0.5117987394332886), ('knows', 0.5117414593696594), ('contains', 0.511380672454834), ('drunken', 0.5077785849571228), ('does', 0.5005537271499634), ('wrote', 0.49678751826286316)]\n",
      "until [('till', 0.8287750482559204), ('untill', 0.7961907386779785), ('discovered', 0.61058109998703), ('monday', 0.6037535667419434), ('preceding', 0.5884099006652832), ('when', 0.5866771936416626), ('following', 0.5857609510421753), ('arose', 0.585009753704071), ('continued', 0.581635594367981), ('instant', 0.5784835815429688)]\n",
      "my [('your', 0.7000859975814819), ('our', 0.6487064361572266), ('his', 0.6278635263442993), ('their', 0.5631636381149292), ('prisoners', 0.5208247900009155), ('own', 0.5025091171264648), ('repair', 0.48624861240386963), ('unborn', 0.48062777519226074), ('inner', 0.47595083713531494), ('drawing', 0.4693043828010559)]\n",
      "skins [('fowls', 0.8521262407302856), ('diamonds', 0.83950275182724), ('potatoes', 0.8061620593070984), ('books', 0.8053126931190491), ('screws', 0.8042365908622742), ('ducks', 0.8009575009346008), ('sheep', 0.800574004650116), ('numbers', 0.7973532676696777), ('shawls', 0.7955325841903687), ('watches', 0.79416424036026)]\n",
      "are [('were', 0.7018004655838013), ('partners', 0.5862656831741333), ('collected', 0.5521033406257629), ('rascal', 0.5401484966278076), ('valuable', 0.5391653776168823), ('characters', 0.5346673727035522), ('belonged', 0.5258870124816895), ('fancy', 0.5227940082550049), ('parts', 0.5208971500396729), ('those', 0.5180186629295349)]\n",
      "march [('june', 0.9464571475982666), ('february', 0.9452885389328003), ('october', 0.9440068006515503), ('january', 0.9416617155075073), ('july', 0.9359228610992432), ('april', 0.9357971549034119), ('september', 0.9353206157684326), ('december', 0.9281778335571289), ('november', 0.9239177107810974), ('august', 0.9227348566055298)]\n",
      ".. [('....', 0.8158472180366516), ('a.', 0.7732031941413879), ('.', 0.7483798265457153), ('p.', 0.7362768650054932), ('swain', 0.7021805644035339), ('h.', 0.6965417265892029), ('murphy', 0.6937180757522583), ('acquitted', 0.6898288726806641), ('46', 0.6892207860946655), ('p', 0.6882357597351074)]\n",
      "produce [('produces', 0.7669185400009155), ('produced', 0.6602323055267334), ('producing', 0.6399009823799133), ('containing', 0.6248867511749268), ('hunting', 0.620232343673706), ('diamond', 0.6058631539344788), ('repeating', 0.6057125329971313), ('silk', 0.5956073999404907), ('contains', 0.5949950218200684), ('cloths', 0.5943819284439087)]\n",
      "22nd [('30th', 0.9842033386230469), ('2nd', 0.9837146997451782), ('3rd', 0.9803357124328613), ('31st', 0.9780807495117188), ('2d', 0.9773005843162537), ('3d', 0.976731538772583), ('29th', 0.9738953113555908), ('6th', 0.9712059497833252), ('23d', 0.9704656600952148), ('4th', 0.9703841209411621)]\n",
      "i [('we', 0.6104936599731445), ('accordingly', 0.6024777293205261), ('bligh', 0.5922667980194092), ('presently', 0.5886576771736145), ('he', 0.5689539909362793), ('moody', 0.5664642453193665), ('really', 0.5622068643569946), ('soon', 0.5563998222351074), ('yesterday', 0.5490009188652039), ('ostler', 0.5402176976203918)]\n",
      "catched [('caught', 0.9205461144447327), ('seized', 0.8920827507972717), ('collared', 0.8419841527938843), ('overtook', 0.8060835599899292), ('watched', 0.7739441394805908), ('pursued', 0.7670931220054626), ('secured', 0.7635022401809692), ('challenged', 0.760964035987854), ('followed', 0.7609227895736694), ('taxed', 0.7603055238723755)]\n",
      "pounds [('pence', 0.8696117401123047), ('shillings', 0.8611056804656982), ('ounces', 0.83613121509552), ('guineas', 0.832360029220581), ('inches', 0.8243642449378967), ('dollars', 0.8234961032867432), ('pound', 0.8054496049880981), ('farthings', 0.8053797483444214), ('deficient', 0.80535888671875), ('bushels', 0.8004255294799805)]\n",
      "they [('we', 0.6651471853256226), ('\\\\you', 0.5993310809135437), ('he', 0.597185492515564), ('thieves', 0.5809687972068787), (\"ma'am\", 0.5712012052536011), ('she', 0.567938506603241), ('alike', 0.5640208721160889), ('\\\\i', 0.560259222984314), ('still', 0.5469923615455627), ('bligh', 0.5459651350975037)]\n",
      "rainsdon not in vocab\n",
      "clown not in vocab\n",
      "hians not in vocab\n",
      "knapsack not in vocab\n",
      "eldridge not in vocab\n",
      "moor's not in vocab\n",
      "dearman not in vocab\n",
      "1811 not in vocab\n",
      "receipts not in vocab\n",
      "berner not in vocab\n",
      "levi not in vocab\n",
      "sattin not in vocab\n",
      "kerr not in vocab\n",
      "grig not in vocab\n",
      "caddys not in vocab\n",
      "humbly not in vocab\n",
      "barclay not in vocab\n",
      "hamlet not in vocab\n",
      "pellise not in vocab\n",
      "egin not in vocab\n",
      "lengths not in vocab\n",
      "razors not in vocab\n",
      "doubled not in vocab\n",
      "medicine not in vocab\n",
      "mullett not in vocab\n",
      "reddle not in vocab\n",
      "strength not in vocab\n",
      "ealand not in vocab\n",
      "lustring not in vocab\n",
      "tacks not in vocab\n",
      "agreeable not in vocab\n",
      "gingerbread not in vocab\n",
      "threadneedle not in vocab\n",
      "wrapt not in vocab\n",
      "darton not in vocab\n",
      "dimmock not in vocab\n",
      "lemay not in vocab\n",
      "provision not in vocab\n",
      "ryegate not in vocab\n",
      "range not in vocab\n",
      "laths not in vocab\n",
      "teddington not in vocab\n",
      "locking not in vocab\n",
      "caledon not in vocab\n",
      "vickrey not in vocab\n",
      "dutton not in vocab\n",
      "manger not in vocab\n",
      "ashton not in vocab\n",
      "yoert not in vocab\n",
      "downes not in vocab\n",
      "veal not in vocab\n",
      "barkway not in vocab\n",
      "portfolio not in vocab\n",
      "hoade not in vocab\n",
      "crape not in vocab\n",
      "meadow not in vocab\n",
      "lug not in vocab\n",
      "marrian not in vocab\n",
      "Out of vocabulary: 18.831168831168824\n"
     ]
    }
   ],
   "source": [
    "nearest_neighbours(p2words,theft_model)"
   ]
  },
  {
   "cell_type": "code",
   "execution_count": 43,
   "metadata": {},
   "outputs": [
    {
     "name": "stdout",
     "output_type": "stream",
     "text": [
      "- [('lion', 0.519591748714447), ('cross', 0.5161571502685547), ('upper', 0.5052181482315063), ('square', 0.5017600059509277), ('falcon', 0.49804267287254333), ('red', 0.4940197467803955), ('cannon', 0.48661667108535767), ('cow', 0.48359420895576477), ('market', 0.47837620973587036), ('row', 0.478060781955719)]\n",
      "\" [('certainly', 0.6733809113502502), ('forgiveness', 0.662676990032196), ('pray', 0.6494996547698975), ('now', 0.6272869110107422), (\"ma'am\", 0.6195505857467651), ('fact', 0.6116979122161865), ('voluntarily', 0.611389696598053), ('affair', 0.6093842387199402), ('devil', 0.6082282662391663), ('oh', 0.6038591861724854)]\n",
      "o'clock [('dials', 0.6945585012435913), ('forenoon', 0.6931767463684082), ('afternoon', 0.6918802261352539), ('noon', 0.6678977012634277), ('nights', 0.6624467968940735), ('bells', 0.6602736115455627), ('evening', 0.6466845273971558), ('awoke', 0.6371479034423828), ('waked', 0.6361234188079834), ('sows', 0.6346038579940796)]\n",
      ". [('..', 0.7483799457550049), ('?', 0.6416943669319153), ('....', 0.606925904750824), ('\\n', 0.543373703956604), ('a.', 0.5359265208244324), ('whilst', 0.45298704504966736), ('it.\\\\', 0.45258617401123047), ('attacked', 0.45245760679244995), ('amounting', 0.4468768537044525), ('aged', 0.4464248716831207)]\n",
      "prisoner [('defendant', 0.6731184720993042), ('prosecutrix', 0.641255259513855), ('prosecutor', 0.629448652267456), ('langley', 0.5996298789978027), ('limbrick', 0.5777304172515869), ('lad', 0.5749109387397766), ('wyegate', 0.5744865536689758), ('gentleman', 0.5742286443710327), ('bar', 0.5715653300285339), ('lobby', 0.5697882175445557)]\n",
      "who [('elizabeth', 0.6073598861694336), ('whom', 0.5979188680648804), ('whose', 0.5874292254447937), ('young', 0.5750516653060913), ('davis', 0.5706075429916382), ('pritchard', 0.5560134649276733), ('edward', 0.5513859391212463), ('holmes', 0.5462279915809631), ('alexander', 0.5451053380966187), ('palmer', 0.5421212911605835)]\n",
      "secured [('pursued', 0.8356870412826538), ('collared', 0.8134014010429382), ('seized', 0.8102208375930786), ('overtook', 0.7961785197257996), ('caught', 0.7947673201560974), ('stopped', 0.7654807567596436), ('detained', 0.7652460932731628), ('catched', 0.7635022401809692), ('challenged', 0.7488779425621033), ('taxed', 0.7296895980834961)]\n",
      "live [('lives', 0.7881709337234497), ('lodge', 0.7379305362701416), ('residing', 0.722202479839325), ('reside', 0.7214603424072266), ('draper', 0.7006537318229675), ('partnership', 0.6513962745666504), ('highway', 0.6407710313796997), ('34', 0.6407343149185181), ('s', 0.636690616607666), ('tavern', 0.6331002712249756)]\n",
      "lives [('live', 0.7881709933280945), ('reside', 0.7743575572967529), ('residing', 0.7312113046646118), ('keeps', 0.7040420770645142), ('lived', 0.7018076181411743), ('rents', 0.6921256184577942), ('ann', 0.6748050451278687), ('lodges', 0.6632799506187439), ('34', 0.6595104336738586), ('45', 0.6586251258850098)]\n",
      "am [('journeyman', 0.569075345993042), ('entire', 0.5568797588348389), ('keep', 0.5558657646179199), ('procured', 0.55487060546875), ('draper', 0.5543471574783325), ('builder', 0.5534650683403015), ('glazier', 0.5377236604690552), ('marine', 0.5242210626602173), ('auctioneer', 0.5228042006492615), ('hackney', 0.5194293260574341)]\n",
      "? [('.', 0.6416943073272705), ('anybody', 0.5641708374023438), ('stripped', 0.5561529397964478), ('..', 0.5508336424827576), ('finish', 0.547454833984375), ('constantly', 0.5461283922195435), ('plenty', 0.5399105548858643), ('became', 0.5372651815414429), ('distinctly', 0.5334925651550293), ('o', 0.5332072973251343)]\n",
      "1l [('2l', 0.9403750896453857), ('5l', 0.9371240139007568), ('10l', 0.89659583568573), ('3s', 0.8806849718093872), ('20l', 0.8720807433128357), ('50l', 0.8570275902748108), ('thousand', 0.8316940069198608), ('sixpences', 0.8192211985588074), ('7s', 0.8119264841079712), ('30l', 0.8069280982017517)]\n",
      "on [('upon', 0.6630217432975769), ('dated', 0.5792859792709351), ('saturday', 0.5588864088058472), ('friday', 0.5564441084861755), ('tuesday', 0.5553192496299744), ('monday', 0.5399855375289917), ('regiment', 0.5244005918502808), ('underneath', 0.5237537622451782), ('thursday', 0.5235909223556519), ('preceding', 0.5198156833648682)]\n",
      "pledged [('pawned', 0.9319956302642822), ('sold', 0.698912501335144), ('purchased', 0.6741219162940979), ('redeemed', 0.6658080816268921), ('offering', 0.6513047218322754), ('bought', 0.6445790529251099), ('lent', 0.6420027613639832), ('marked', 0.6281038522720337), ('quilt', 0.6280694007873535), ('produces', 0.6138790845870972)]\n",
      "! [('\\\\stop', 0.7840665578842163), ('stop', 0.7535028457641602), ('cried', 0.7276257872581482), ('holloaed', 0.7218748331069946), ('murder', 0.7196152210235596), ('instantly', 0.7086732387542725), ('halloaed', 0.6857095956802368), ('sung', 0.6828204393386841), (\"ma'am\", 0.6784005165100098), ('oh', 0.672176718711853)]\n",
      "him [('me', 0.7047571539878845), ('her', 0.6446456909179688), ('us', 0.6299777030944824), ('langley', 0.6281955242156982), ('resisted', 0.5932115316390991), ('inquired', 0.5854138135910034), ('bail', 0.5768976211547852), ('rayson', 0.5717211961746216), ('meant', 0.5698522329330444), ('presently', 0.5696577429771423)]\n",
      "found [('discovered', 0.701945424079895), ('missed', 0.6481945514678955), ('opened', 0.6381992697715759), ('placed', 0.6353586912155151), ('searched', 0.620019793510437), ('observed', 0.6166445016860962), ('concealed', 0.5997945070266724), ('remaining', 0.5977180004119873), ('opening', 0.5951628088951111), ('pitched', 0.5906716585159302)]\n",
      "july [('january', 0.9663665294647217), ('august', 0.9614452719688416), ('october', 0.9600412845611572), ('june', 0.9533201456069946), ('december', 0.9527527689933777), ('september', 0.9523452520370483), ('april', 0.9507802724838257), ('november', 0.9459496736526489), ('february', 0.9435691833496094), ('march', 0.9359227418899536)]\n",
      "stated [('mentioned', 0.915545642375946), ('indictment', 0.7472695112228394), ('described', 0.7301679253578186), ('destroyed', 0.6883115768432617), ('died', 0.688183069229126), ('spent', 0.6836349964141846), ('spoken', 0.6769210696220398), ('canister', 0.6527577042579651), ('saved', 0.6527330875396729), ('sleeps', 0.6513205766677856)]\n",
      "6d [('4s', 0.9174054861068726), ('7s', 0.8961001634597778), ('10s', 0.8768380880355835), ('5s', 0.8656761646270752), ('1s', 0.8650857210159302), ('3s', 0.858555018901825), ('2s', 0.8428451418876648), ('50l', 0.8406198620796204), ('8s', 0.8384881019592285), ('14s', 0.8378962874412537)]\n",
      "riots not in vocab\n",
      "goulding not in vocab\n",
      "thief!\\ not in vocab\n",
      "abbotts not in vocab\n",
      "quadrant not in vocab\n",
      "\\here not in vocab\n",
      "wilsden not in vocab\n",
      "gregg not in vocab\n",
      "noah not in vocab\n",
      "interpreter not in vocab\n",
      "bourdillion not in vocab\n",
      "poplin not in vocab\n",
      "gas not in vocab\n",
      "fan not in vocab\n",
      "druce not in vocab\n",
      "-the not in vocab\n",
      "laking not in vocab\n",
      "leominster not in vocab\n",
      "\\what not in vocab\n",
      "brooch not in vocab\n",
      "somers'-town not in vocab\n",
      "mounts not in vocab\n",
      "1819 not in vocab\n",
      "wegmeyer not in vocab\n",
      "9s not in vocab\n",
      "1816 not in vocab\n",
      "m'daniel not in vocab\n",
      "fringe not in vocab\n",
      "falsely not in vocab\n",
      "flute not in vocab\n",
      "weir not in vocab\n",
      "20s not in vocab\n",
      "reasby not in vocab\n",
      "said,\\ not in vocab\n",
      "* not in vocab\n",
      "searles not in vocab\n",
      "toothpick not in vocab\n",
      "copthall not in vocab\n",
      "crick not in vocab\n",
      "\\this not in vocab\n",
      "whittle not in vocab\n",
      "1818 not in vocab\n",
      "vestry not in vocab\n",
      "burrows not in vocab\n",
      "ashore not in vocab\n",
      "lisson not in vocab\n",
      "fenton not in vocab\n",
      "romford not in vocab\n",
      "50s not in vocab\n",
      "shrubbery not in vocab\n",
      "snowhill not in vocab\n",
      "m'ginnis not in vocab\n",
      "\\mr not in vocab\n",
      "johnston not in vocab\n",
      "maidmant not in vocab\n",
      "7d not in vocab\n",
      "hambridge not in vocab\n",
      "schneider not in vocab\n",
      "you?\\ not in vocab\n",
      "backward not in vocab\n",
      "\\is not in vocab\n",
      "belsham not in vocab\n",
      "whiskey not in vocab\n",
      "deighton not in vocab\n",
      "\\that not in vocab\n",
      "woolcott not in vocab\n",
      "gambier not in vocab\n",
      "lewin not in vocab\n",
      "\\there not in vocab\n",
      "botelas not in vocab\n",
      "snell not in vocab\n",
      "surplice not in vocab\n",
      "binn not in vocab\n",
      "bernard not in vocab\n",
      "9l not in vocab\n",
      "8l not in vocab\n",
      "bellows not in vocab\n",
      "atkinson not in vocab\n",
      "scent not in vocab\n",
      "pye not in vocab\n",
      "gale not in vocab\n",
      "atkins not in vocab\n",
      "1/2 not in vocab\n",
      "ryder not in vocab\n",
      "pace not in vocab\n",
      "17s not in vocab\n",
      "flats not in vocab\n",
      "esthelby not in vocab\n",
      "rod not in vocab\n",
      "\\never not in vocab\n",
      "colls not in vocab\n",
      "hinder not in vocab\n",
      "cordwainer not in vocab\n",
      "pressure not in vocab\n",
      "1d not in vocab\n",
      "reid not in vocab\n",
      "desks not in vocab\n",
      "strewed not in vocab\n",
      "me.\\ not in vocab\n",
      "bateman's not in vocab\n",
      "folkes not in vocab\n",
      "tully not in vocab\n",
      "backers not in vocab\n",
      "camberwell not in vocab\n",
      "48l not in vocab\n",
      "asses not in vocab\n",
      "phillimore not in vocab\n",
      "tylor not in vocab\n",
      "soloman not in vocab\n",
      "bushey not in vocab\n",
      "dalston not in vocab\n",
      "pocket.\\ not in vocab\n",
      "\\let not in vocab\n",
      "tilling not in vocab\n",
      "gimber not in vocab\n",
      "deaton not in vocab\n",
      "coates not in vocab\n",
      "soled not in vocab\n",
      "catchpole not in vocab\n",
      "pinner not in vocab\n",
      "cromer not in vocab\n",
      "\\if not in vocab\n",
      "varley not in vocab\n",
      "youren not in vocab\n",
      "footmarks not in vocab\n",
      "ebenezer not in vocab\n",
      "ealey not in vocab\n",
      "hemmingway not in vocab\n",
      "Out of vocabulary: 31.604938271604937\n"
     ]
    }
   ],
   "source": [
    "nearest_neighbours(p3words,theft_model)"
   ]
  },
  {
   "cell_type": "code",
   "execution_count": 44,
   "metadata": {},
   "outputs": [
    {
     "data": {
      "text/plain": [
       "0.83225894546770152"
      ]
     },
     "execution_count": 44,
     "metadata": {},
     "output_type": "execute_result"
    }
   ],
   "source": [
    "theft_model.wv.similarity('man','woman')"
   ]
  },
  {
   "cell_type": "code",
   "execution_count": 45,
   "metadata": {
    "collapsed": true
   },
   "outputs": [],
   "source": [
    "def make_matrix(wordset,model,threshold=0.5):\n",
    "    \n",
    "    matrix=[]\n",
    "    \n",
    "    for (termA,_score) in wordset:\n",
    "        row=[]\n",
    "        for(termB,_score) in wordset:\n",
    "            try:\n",
    "                sim=model.wv.similarity(termA,termB)\n",
    "                if sim<threshold:\n",
    "                    sim=0\n",
    "            except:\n",
    "                sim=0\n",
    "            row.append(sim)\n",
    "            \n",
    "        matrix.append(row)\n",
    "    return matrix"
   ]
  },
  {
   "cell_type": "code",
   "execution_count": 46,
   "metadata": {
    "collapsed": true
   },
   "outputs": [],
   "source": [
    "female_matrix=make_matrix(femalewords,theft_model)"
   ]
  },
  {
   "cell_type": "code",
   "execution_count": 47,
   "metadata": {
    "collapsed": true
   },
   "outputs": [],
   "source": [
    "import csv\n",
    "\n",
    "punctdict={\"\\n\":\"_NEWLINE\",\";\":\"_SEMICOLON\",\":\":\"_COLON\",\"\\\"\":\"_QUOTE\",\"'s\":\"_GEN\",\"-\":\"_HYPHEN\",\"(\":\"_LEFTBRACKET\",\")\":\"_RIGHTBRACKET\",\",\":\"_COMMA\",\".\":\"_FULLSTOP\",\"..\":\"_DOTDOT\"}\n",
    "\n",
    "def clean(term):\n",
    "    \n",
    "    #remove punctuation which will confuse Gephi\n",
    "    cleanterm=punctdict.get(term,term)\n",
    "    return cleanterm\n",
    "\n",
    "def make_csv(wordset,model,filename):\n",
    "    matrix=make_matrix(wordset,model)\n",
    "    terms=[clean(term) for (term,score) in wordset]\n",
    "    \n",
    "    #with open(filename,'w') as csvfile:\n",
    "    #    csvwriter=csv.writer(csvfile,dialect='excel')\n",
    "    #    headings=['']+terms\n",
    "        #print(headings)\n",
    "    #    csvwriter.writerow(headings)\n",
    "    #    for term,row in zip(terms,matrix):\n",
    "    #        csvwriter.writerow([term]+row)\n",
    "     \n",
    "    with open(filename,'w') as csvfile:\n",
    "        line=\"\"\n",
    "        for term in terms:\n",
    "            line+=';'+term\n",
    "        line+='\\n'\n",
    "        \n",
    "        csvfile.write(line)\n",
    "        #print(line)\n",
    "        for term,row in zip(terms,matrix):\n",
    "            line=term\n",
    "            #print(row)\n",
    "            for item in row:\n",
    "                line+=';'+str(item)\n",
    "                \n",
    "            line+='\\n'\n",
    "            \n",
    "            csvfile.write(line)\n",
    "            #print(line) \n",
    "    "
   ]
  },
  {
   "cell_type": "code",
   "execution_count": 48,
   "metadata": {
    "collapsed": true
   },
   "outputs": [],
   "source": [
    "make_csv(femalewords,theft_model,'matrix_female.csv')"
   ]
  },
  {
   "cell_type": "code",
   "execution_count": 49,
   "metadata": {
    "collapsed": true
   },
   "outputs": [],
   "source": [
    "make_csv(malewords,theft_model,'matrix_male.csv')"
   ]
  },
  {
   "cell_type": "code",
   "execution_count": 50,
   "metadata": {
    "collapsed": true
   },
   "outputs": [],
   "source": [
    "make_csv(p1words,theft_model,'matrix_p1.csv')"
   ]
  },
  {
   "cell_type": "code",
   "execution_count": 51,
   "metadata": {
    "collapsed": true
   },
   "outputs": [],
   "source": [
    "make_csv(p2words,theft_model,'matrix_p2.csv')"
   ]
  },
  {
   "cell_type": "code",
   "execution_count": 52,
   "metadata": {
    "collapsed": true
   },
   "outputs": [],
   "source": [
    "make_csv(p3words,theft_model,'matrix_p3.csv')"
   ]
  },
  {
   "cell_type": "code",
   "execution_count": 53,
   "metadata": {},
   "outputs": [
    {
     "name": "stdout",
     "output_type": "stream",
     "text": [
      "[('him', 442.41345870034957), ('his', 247.77749750521707), ('he', 206.13168490977932), ('am', 120.27857259305301), ('horse', 119.3751563997788), ('officer', 108.64030115681004), ('mr.', 101.06793804018218), ('custody', 97.285799304172585), ('produce', 87.890490623532742), ('constable', 86.154282250474409), ('warehouse', 80.68591129094581), ('searched', 76.681281301105855), ('from', 73.52285795469777), ('by', 72.40681987038954), ('apprehended', 68.346152231433365), ('messrs.', 68.009932678737769), ('charge', 67.197441891234945), ('office', 66.954402580793769), ('sheep', 64.313009188703461), ('took', 63.204389881960196), ('clerk', 61.807390502893426), ('of', 60.210455319237667), ('watch', 60.043153234982867), ('lead', 58.189767627411406), ('pigs', 56.01888518387976), ('book', 54.584336398890741), ('yards', 54.134900868249801), ('pocket', 53.195395622472148), ('bag', 50.785337882316227), ('stable', 49.650122040041637), ('watchman', 48.160023550359398), ('hundred', 47.395880821068005), ('found', 46.201706745647812), ('breeches', 45.128015769883113), ('waistcoat', 42.785812302878249), ('mare', 42.561636127621988), ('cart', 42.255311512352222), ('post', 42.207583710821169), ('premises', 40.19300430285508), ('boat', 39.06445109179294), ('co.', 38.697256212548517), ('shopman', 38.414793559496175), ('partner', 38.090314853198009), ('waggon', 37.430398134458038), ('watchhouse', 37.133672866431944), ('company', 36.643321734692989), ('skin', 36.117439131711947), ('bottles', 36.113608095657675), ('sack', 35.294513646141326), ('pawnbroker', 34.883262628181896), ('coat', 34.398972844828251), ('prisoner', 33.653333699034704), ('timber', 33.537622050875385), ('prosecutor', 33.458408465991255), ('seals', 31.993520249572938), ('skins', 31.950820206268709), ('seized', 31.806699230136214), ('this', 30.778485847788943), ('produces', 30.714304907246717), ('upon', 29.282166012840577), ('which', 28.947117400893433), ('-', 28.686337037210251), ('ship', 28.088892878310716), ('secured', 27.595158906054962), ('stables', 27.272351997415146), ('shoulder', 27.221520543869936), ('an', 26.869741835791757), (')', 26.685794399900288), ('goods', 26.191621361338797), ('horses', 26.087693278031796), ('part', 25.606079959730856), ('quantity', 25.469275807439026), ('information', 25.399164406670309), ('wharf', 25.376186021583017), ('claimed', 24.852020472870954), ('cask', 24.802747348266063), ('hay', 24.486379252046024), ('running', 24.313122128608981), ('(', 24.279655673057363), ('others', 24.250642153976948), ('patrol', 23.970548558611519), ('bridle', 23.586899024791478), ('men', 23.545620662165987), ('pursued', 23.389496356183656), ('lad', 23.140466207521797), ('maker', 22.938195211012491), ('compter', 22.535622074337425), ('building', 22.271243684234499), ('duty', 22.234029026356389), ('to', 22.194966455944041), ('pounds', 21.986533088550544), ('wine', 21.785860484418347), ('hat', 21.39129773513136), ('writing', 21.052618794688392), ('pavement', 21.007081943954908), ('examination', 21.007081943954908), ('bank', 20.943693357780582), ('felt', 20.646376460028691), ('harness', 20.638536646692543), ('police', 20.635127406578121), ('marked', 20.603729807166452), ('iron', 20.544078497800975), ('examined', 20.481918698525604), ('bench', 20.269991349430178), ('right', 19.913156976636571), ('stock', 19.800758518295837), ('consequence', 19.748437946770707), ('stolen', 19.724643325095776), ('foreman', 19.202351793594197), ('jumped', 19.191458919542068), ('partnership', 19.1855089414492), ('stopped', 19.142739067304788), ('sacks', 18.851083567768327), ('threw', 18.786221786652575), ('apprentice', 18.201085623544333), ('fleet', 18.187981615482713), ('near', 18.116498072866058), ('directed', 18.075807156876685), ('dated', 18.058719565855974), ('high', 17.909755722393133), ('cry', 17.891101414649949), ('order', 17.85070748997196), ('side', 17.823891148848659), ('searching', 17.787105906948256), ('accompting', 17.783826817390334), ('hold', 17.758196627374886), ('received', 17.705439431826605), ('along', 17.516689358797684), ('coach', 17.344927505064433), ('doubt', 17.317216916914461), ('gateway', 17.155484873357686), ('chaise', 17.155484873357686), ('coffee', 17.005690613079533), ('that', 16.9539186417922), ('excise', 16.953083674068875), ('locks', 16.953083674068875), ('smithfield', 16.768520034425904), ('thames', 16.750873290272111), ('towards', 16.640116789350436), ('cellar', 16.625770402234515), ('ducks', 16.584538376806506), ('street', 16.547368440372139), ('counting', 16.535164898844045), ('carman', 16.535164898844045), ('twenty', 16.477264943873088), ('drew', 16.449750817361966), ('account', 16.336729604823208), ('rattle', 16.218910906614916), ('appear', 16.143618062884176), ('corn', 16.143618062884176), ('cut', 15.975660769228135), ('merchant', 15.849822491576864), ('brice', 15.847447782281774), ('tools', 15.761522855774663), ('way', 15.735384029180928), ('bow', 15.720597568915707), ('bills', 15.563165796875271), ('mark', 15.525236629302391), ('ostler', 15.478902485019407), ('corresponded', 15.478902485019407), ('acknowledged', 15.475891728386992), ('keeper', 15.463851798907843), ('notes', 15.442906833520041), ('pointed', 15.247137413024388), ('seal', 15.191129080645325), ('barge', 15.110357187757041), ('general', 14.961011784787878), ('on', 14.883349046918113), ('casks', 14.801719496086204), ('2nd', 14.801719496086204), ('wool', 14.801719496086204), ('hill', 14.801414154808555), ('informed', 14.773985074976707), ('permit', 14.741811890494674), ('chain', 14.588618500177663), ('concealed', 14.483074098569585), ('hand', 14.410978980333098), ('board', 14.406965446125426), ('quay', 14.373266593232307), ('fob', 14.373266593232307), ('sugar', 14.226910315155088), ('magistrate', 14.222898699464167), ('warrant', 14.221554216218848), ('warehouses', 13.801373775024439), ('fowls', 13.801373775024439), ('partners', 13.801373775024439), ('overtook', 13.727555767093769), ('paper', 13.627223481112772), ('there', 13.62656233204379), ('collared', 13.548389392751147), ('porter', 13.499791296766944), ('delivered', 13.489207004103925), ('england', 13.469194117896834), ('warehouseman', 13.469194117896834), ('hamper', 13.267630701445206), ('ever', 13.045583173343097), ('discovered', 12.946630596729962), ('carrier', 12.89908540418284), ('pledged', 12.766746481770767), ('we', 12.556827226864613), ('livery', 12.530540106920473), ('wholesale', 12.530540106920473), ('manufactory', 12.530540106920473), ('flour', 12.476799378152677), ('leadenhall', 12.476799378152677), ('cutting', 12.476799378152677), ('sale', 12.433344161444076), ('described', 12.39562845951), ('entry', 12.323455353381771), ('hogshead', 12.161994809658106), ('majesty', 12.161994809658106), ('deposed', 12.161994809658106), ('brewhouse', 12.161994809658106), ('city', 12.152665199811484), ('says', 12.152665199811484), ('himself', 12.074201594806478), (',', 11.93346658571943), ('regiment', 11.873730583773385), ('producing', 11.873730583773385), ('truss', 11.873730583773385), ('amount', 11.793449512395739), ('morgan', 11.793449512395739), ('employed', 11.777603960102422), ('belonging', 11.692577994750913), ('letters', 11.577503661529578), ('each', 11.543750347524359), ('evidence', 11.424904215133372), ('fenchurch', 11.424904215133372), ('aslett', 11.424904215133372), ('firm', 11.424904215133372), ('bars', 11.424904215133372), ('brushes', 11.424904215133372), ('boots', 11.357760138743149), ('king', 11.357760138743149), ('draper', 11.349677905187587), ('thirty', 11.305414419819588), ('here', 11.240744459419432), ('sixty', 11.164327897278408), ('parcel', 11.132428096352712), ('other', 11.093190516932083), ('waggoner', 11.056358917871005), ('sort', 11.03799413709927), ('stealing', 11.018988717148266), ('purpose', 11.006838161546089), ('serjeant', 10.966500544907976), ('round', 10.899933911246514), ('possession', 10.880793315294589), ('bone', 10.838339002679295), ('journeyman', 10.838339002679295)]\n"
     ]
    }
   ],
   "source": [
    "print(malewords)"
   ]
  },
  {
   "cell_type": "code",
   "execution_count": 54,
   "metadata": {
    "collapsed": true
   },
   "outputs": [],
   "source": [
    "theft_lexicon=makedict(hfperiods_theft[1])\n",
    "p1theft_lexicon=makedict(hfp1_theft[1])"
   ]
  },
  {
   "cell_type": "code",
   "execution_count": 55,
   "metadata": {
    "collapsed": true
   },
   "outputs": [],
   "source": [
    "def lookup(term,d1,d2):\n",
    "    lex1=makedict(d1[1])\n",
    "    lex2=makedict(d2[1])\n",
    "    print('{}:{},{}'.format(term,lex1[term],lex2[term]))"
   ]
  },
  {
   "cell_type": "code",
   "execution_count": 56,
   "metadata": {},
   "outputs": [
    {
     "name": "stdout",
     "output_type": "stream",
     "text": [
      "fork:15,12\n"
     ]
    }
   ],
   "source": [
    "lookup('fork',hfperiods_theft,hfp1_theft)"
   ]
  },
  {
   "cell_type": "code",
   "execution_count": 57,
   "metadata": {},
   "outputs": [
    {
     "name": "stdout",
     "output_type": "stream",
     "text": [
      "drawer:244,89\n"
     ]
    }
   ],
   "source": [
    "lookup('drawer',hfw_theft,hff_theft)"
   ]
  },
  {
   "cell_type": "code",
   "execution_count": null,
   "metadata": {
    "collapsed": true
   },
   "outputs": [],
   "source": []
  }
 ],
 "metadata": {
  "kernelspec": {
   "display_name": "Python 3",
   "language": "python",
   "name": "python3"
  },
  "language_info": {
   "codemirror_mode": {
    "name": "ipython",
    "version": 3
   },
   "file_extension": ".py",
   "mimetype": "text/x-python",
   "name": "python",
   "nbconvert_exporter": "python",
   "pygments_lexer": "ipython3",
   "version": "3.6.0"
  }
 },
 "nbformat": 4,
 "nbformat_minor": 2
}
