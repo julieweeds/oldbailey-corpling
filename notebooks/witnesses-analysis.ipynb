{
 "cells": [
  {
   "cell_type": "code",
   "execution_count": 26,
   "metadata": {
    "scrolled": false
   },
   "outputs": [
    {
     "data": {
      "text/html": [
       "<script>jQuery(function() {if (jQuery(\"body.notebook_app\").length == 0) { jQuery(\".input_area\").toggle(); jQuery(\".prompt\").toggle();}});</script>"
      ]
     },
     "metadata": {},
     "output_type": "display_data"
    },
    {
     "data": {
      "text/html": [
       "<button onclick=\"jQuery('div.input').toggle(); jQuery('.prompt').toggle();\">Toggle code</button>"
      ]
     },
     "metadata": {},
     "output_type": "display_data"
    }
   ],
   "source": [
    "from IPython.display import display\n",
    "from IPython.display import HTML\n",
    "import IPython.core.display as di # Example: di.display_html('<h3>%s:</h3>' % str, raw=True)\n",
    "\n",
    "# This line will hide code by default when the notebook is exported as HTML\n",
    "di.display_html('<script>jQuery(function() {if (jQuery(\"body.notebook_app\").length == 0) { jQuery(\".input_area\").toggle(); jQuery(\".prompt\").toggle();}});</script>', raw=True)\n",
    "\n",
    "# This line will add a button to toggle visibility of code blocks, for use with the HTML export version\n",
    "di.display_html('''<button onclick=\"jQuery('div.input').toggle(); jQuery('.prompt').toggle();\">Toggle code</button>''', raw=True)"
   ]
  },
  {
   "cell_type": "markdown",
   "metadata": {},
   "source": [
    "# Witness Analysis\n",
    "\n",
    "Analyse number and gender of witnesses with respect to gender (and offence) of defendant"
   ]
  },
  {
   "cell_type": "code",
   "execution_count": 3,
   "metadata": {
    "collapsed": true
   },
   "outputs": [],
   "source": [
    "import numpy as np\n",
    "import pandas as pd\n",
    "import matplotlib.pyplot as plt\n",
    "from collections import defaultdict\n",
    "%matplotlib inline"
   ]
  },
  {
   "cell_type": "code",
   "execution_count": 4,
   "metadata": {},
   "outputs": [
    {
     "name": "stderr",
     "output_type": "stream",
     "text": [
      "/Users/juliewe/miniconda3/lib/python3.6/site-packages/IPython/core/interactiveshell.py:2787: DtypeWarning: Columns (16) have mixed types. Specify dtype option on import or set low_memory=False.\n",
      "  if self.run_code(code, result):\n"
     ]
    }
   ],
   "source": [
    "worddatafile=\"../../voa/OBV2/obv_words_v2_28-01-2017.tsv\"\n",
    "trialdatafile=\"../../voa/OBV2/obv_defendants_trials.tsv\"\n",
    "producersdatafile=\"../../voa/OBV2/obc2_producers.tsv\"\n",
    "\n",
    "proddata=pd.DataFrame.from_csv(producersdatafile,sep='\\t')\n",
    "worddata=pd.DataFrame.from_csv(worddatafile,sep='\\t')\n",
    "trialdata=pd.DataFrame.from_csv(trialdatafile,sep='\\t')"
   ]
  },
  {
   "cell_type": "markdown",
   "metadata": {},
   "source": [
    "Here is a sample of the words data"
   ]
  },
  {
   "cell_type": "code",
   "execution_count": 5,
   "metadata": {},
   "outputs": [
    {
     "data": {
      "text/html": [
       "<div>\n",
       "<table border=\"1\" class=\"dataframe\">\n",
       "  <thead>\n",
       "    <tr style=\"text-align: right;\">\n",
       "      <th></th>\n",
       "      <th>sess_date</th>\n",
       "      <th>year</th>\n",
       "      <th>obo_trial</th>\n",
       "      <th>obo_deftid</th>\n",
       "      <th>obc_u_no</th>\n",
       "      <th>obc_event</th>\n",
       "      <th>obc_speaker</th>\n",
       "      <th>obc_sex</th>\n",
       "      <th>obc_hiscoLabel</th>\n",
       "      <th>obc_hiscoCode</th>\n",
       "      <th>obc_class</th>\n",
       "      <th>obc_role</th>\n",
       "      <th>obv_role</th>\n",
       "      <th>words</th>\n",
       "      <th>obv_words_type</th>\n",
       "      <th>words_count</th>\n",
       "      <th>defendant</th>\n",
       "    </tr>\n",
       "    <tr>\n",
       "      <th>obv2wid</th>\n",
       "      <th></th>\n",
       "      <th></th>\n",
       "      <th></th>\n",
       "      <th></th>\n",
       "      <th></th>\n",
       "      <th></th>\n",
       "      <th></th>\n",
       "      <th></th>\n",
       "      <th></th>\n",
       "      <th></th>\n",
       "      <th></th>\n",
       "      <th></th>\n",
       "      <th></th>\n",
       "      <th></th>\n",
       "      <th></th>\n",
       "      <th></th>\n",
       "      <th></th>\n",
       "    </tr>\n",
       "  </thead>\n",
       "  <tbody>\n",
       "    <tr>\n",
       "      <th>1</th>\n",
       "      <td>17800112</td>\n",
       "      <td>1780</td>\n",
       "      <td>t17800112-1</td>\n",
       "      <td>NaN</td>\n",
       "      <td>1</td>\n",
       "      <td>17800112-1</td>\n",
       "      <td>17800112-0042</td>\n",
       "      <td>m</td>\n",
       "      <td>Working Proprietor (Guest House)</td>\n",
       "      <td>51040.0</td>\n",
       "      <td>higher (1-5)</td>\n",
       "      <td>NaN</td>\n",
       "      <td>wv</td>\n",
       "      <td>I live at No. 7, in Great Suffolk-street, Char...</td>\n",
       "      <td>s</td>\n",
       "      <td>40</td>\n",
       "      <td>MARY DYER</td>\n",
       "    </tr>\n",
       "    <tr>\n",
       "      <th>2</th>\n",
       "      <td>17800112</td>\n",
       "      <td>1780</td>\n",
       "      <td>t17800112-1</td>\n",
       "      <td>NaN</td>\n",
       "      <td>2</td>\n",
       "      <td>17800112-2</td>\n",
       "      <td>17800112-?LAW</td>\n",
       "      <td>m</td>\n",
       "      <td>Lawyer</td>\n",
       "      <td>12110.0</td>\n",
       "      <td>higher (1-5)</td>\n",
       "      <td>Lawyer</td>\n",
       "      <td>lj</td>\n",
       "      <td>Was that strange woman the prisoner?</td>\n",
       "      <td>q</td>\n",
       "      <td>6</td>\n",
       "      <td>MARY DYER</td>\n",
       "    </tr>\n",
       "    <tr>\n",
       "      <th>3</th>\n",
       "      <td>17800112</td>\n",
       "      <td>1780</td>\n",
       "      <td>t17800112-1</td>\n",
       "      <td>NaN</td>\n",
       "      <td>3</td>\n",
       "      <td>17800112-3</td>\n",
       "      <td>17800112-0042</td>\n",
       "      <td>m</td>\n",
       "      <td>Working Proprietor (Guest House)</td>\n",
       "      <td>51040.0</td>\n",
       "      <td>higher (1-5)</td>\n",
       "      <td>NaN</td>\n",
       "      <td>wv</td>\n",
       "      <td>Yes; she said she only wanted a pint of purl.</td>\n",
       "      <td>a</td>\n",
       "      <td>10</td>\n",
       "      <td>MARY DYER</td>\n",
       "    </tr>\n",
       "    <tr>\n",
       "      <th>4</th>\n",
       "      <td>17800112</td>\n",
       "      <td>1780</td>\n",
       "      <td>t17800112-1</td>\n",
       "      <td>NaN</td>\n",
       "      <td>4</td>\n",
       "      <td>17800112-4</td>\n",
       "      <td>17800112-?LAW</td>\n",
       "      <td>m</td>\n",
       "      <td>Lawyer</td>\n",
       "      <td>12110.0</td>\n",
       "      <td>higher (1-5)</td>\n",
       "      <td>Lawyer</td>\n",
       "      <td>lj</td>\n",
       "      <td>Do you keep a public-house?</td>\n",
       "      <td>q</td>\n",
       "      <td>5</td>\n",
       "      <td>MARY DYER</td>\n",
       "    </tr>\n",
       "    <tr>\n",
       "      <th>5</th>\n",
       "      <td>17800112</td>\n",
       "      <td>1780</td>\n",
       "      <td>t17800112-1</td>\n",
       "      <td>NaN</td>\n",
       "      <td>5</td>\n",
       "      <td>17800112-5</td>\n",
       "      <td>17800112-0042</td>\n",
       "      <td>m</td>\n",
       "      <td>Working Proprietor (Guest House)</td>\n",
       "      <td>51040.0</td>\n",
       "      <td>higher (1-5)</td>\n",
       "      <td>NaN</td>\n",
       "      <td>wv</td>\n",
       "      <td>No, a private house. I sent for a constable, a...</td>\n",
       "      <td>a</td>\n",
       "      <td>16</td>\n",
       "      <td>MARY DYER</td>\n",
       "    </tr>\n",
       "  </tbody>\n",
       "</table>\n",
       "</div>"
      ],
      "text/plain": [
       "         sess_date  year    obo_trial obo_deftid  obc_u_no   obc_event  \\\n",
       "obv2wid                                                                  \n",
       "1         17800112  1780  t17800112-1        NaN         1  17800112-1   \n",
       "2         17800112  1780  t17800112-1        NaN         2  17800112-2   \n",
       "3         17800112  1780  t17800112-1        NaN         3  17800112-3   \n",
       "4         17800112  1780  t17800112-1        NaN         4  17800112-4   \n",
       "5         17800112  1780  t17800112-1        NaN         5  17800112-5   \n",
       "\n",
       "           obc_speaker obc_sex                    obc_hiscoLabel  \\\n",
       "obv2wid                                                            \n",
       "1        17800112-0042       m  Working Proprietor (Guest House)   \n",
       "2        17800112-?LAW       m                            Lawyer   \n",
       "3        17800112-0042       m  Working Proprietor (Guest House)   \n",
       "4        17800112-?LAW       m                            Lawyer   \n",
       "5        17800112-0042       m  Working Proprietor (Guest House)   \n",
       "\n",
       "         obc_hiscoCode     obc_class obc_role obv_role  \\\n",
       "obv2wid                                                  \n",
       "1              51040.0  higher (1-5)      NaN       wv   \n",
       "2              12110.0  higher (1-5)   Lawyer       lj   \n",
       "3              51040.0  higher (1-5)      NaN       wv   \n",
       "4              12110.0  higher (1-5)   Lawyer       lj   \n",
       "5              51040.0  higher (1-5)      NaN       wv   \n",
       "\n",
       "                                                     words obv_words_type  \\\n",
       "obv2wid                                                                     \n",
       "1        I live at No. 7, in Great Suffolk-street, Char...              s   \n",
       "2                     Was that strange woman the prisoner?              q   \n",
       "3            Yes; she said she only wanted a pint of purl.              a   \n",
       "4                              Do you keep a public-house?              q   \n",
       "5        No, a private house. I sent for a constable, a...              a   \n",
       "\n",
       "        words_count  defendant  \n",
       "obv2wid                         \n",
       "1                40  MARY DYER  \n",
       "2                 6  MARY DYER  \n",
       "3                10  MARY DYER  \n",
       "4                 5  MARY DYER  \n",
       "5                16  MARY DYER  "
      ]
     },
     "execution_count": 5,
     "metadata": {},
     "output_type": "execute_result"
    }
   ],
   "source": [
    "worddata.head()\n"
   ]
  },
  {
   "cell_type": "markdown",
   "metadata": {},
   "source": [
    "First, we find the number of witnesses in each trial - first five displayed for reference."
   ]
  },
  {
   "cell_type": "code",
   "execution_count": 6,
   "metadata": {},
   "outputs": [
    {
     "data": {
      "text/plain": [
       "obo_trial\n",
       "t17800112-1     3\n",
       "t17800112-10    7\n",
       "t17800112-11    2\n",
       "t17800112-12    2\n",
       "t17800112-13    1\n",
       "Name: obc_speaker, dtype: int64"
      ]
     },
     "execution_count": 6,
     "metadata": {},
     "output_type": "execute_result"
    }
   ],
   "source": [
    "witnessdata=worddata[worddata['obv_role']==\"wv\"]\n",
    "witnessnumbers=witnessdata.groupby('obo_trial')['obc_speaker'].nunique()\n",
    "witnessnumbers.head()"
   ]
  },
  {
   "cell_type": "markdown",
   "metadata": {},
   "source": [
    "Then we find the number of female witnesses and the number of male witnesses in each trial - first five of each displayed below for reference."
   ]
  },
  {
   "cell_type": "code",
   "execution_count": 7,
   "metadata": {},
   "outputs": [
    {
     "data": {
      "text/plain": [
       "obo_trial\n",
       "t17800112-1     1\n",
       "t17800112-10    1\n",
       "t17800112-15    1\n",
       "t17800112-16    2\n",
       "t17800112-20    3\n",
       "Name: obc_speaker, dtype: int64"
      ]
     },
     "execution_count": 7,
     "metadata": {},
     "output_type": "execute_result"
    }
   ],
   "source": [
    "femalewitnessdata=witnessdata[witnessdata['obc_sex']=='f']\n",
    "malewitnessdata=witnessdata[witnessdata['obc_sex']=='m']\n",
    "femalewitnessnumbers=femalewitnessdata.groupby('obo_trial')['obc_speaker'].nunique()\n",
    "malewitnessnumbers=malewitnessdata.groupby('obo_trial')['obc_speaker'].nunique()\n",
    "\n",
    "femalewitnessnumbers.head()"
   ]
  },
  {
   "cell_type": "markdown",
   "metadata": {},
   "source": [
    "Then we need to find the trials which are for female defendants and the trials for male defendants.  The first five female defendant trials shown below."
   ]
  },
  {
   "cell_type": "code",
   "execution_count": 8,
   "metadata": {
    "collapsed": true
   },
   "outputs": [],
   "source": [
    "speechattrialdata=trialdata[trialdata['trial_u_count']>0]\n",
    "\n",
    "femaletrials=speechattrialdata[speechattrialdata['deft_gender']=='female']['obo_trial']\n",
    "maletrials=speechattrialdata[speechattrialdata['deft_gender']=='male']['obo_trial']"
   ]
  },
  {
   "cell_type": "code",
   "execution_count": 9,
   "metadata": {},
   "outputs": [
    {
     "data": {
      "text/plain": [
       "o2dtid\n",
       "1      t17800112-1\n",
       "4      t17800112-4\n",
       "7      t17800112-7\n",
       "8      t17800112-8\n",
       "13    t17800112-15\n",
       "Name: obo_trial, dtype: object"
      ]
     },
     "execution_count": 9,
     "metadata": {},
     "output_type": "execute_result"
    }
   ],
   "source": [
    "femaletrials.head()"
   ]
  },
  {
   "cell_type": "markdown",
   "metadata": {},
   "source": [
    "Then we hypothesize that the gender of a witness is independent of the gender of the defendant.  To test this we calculate the total number of witnesses for each gender of witness and gender of defendant.  This gives us a 2x2 contingency table - the first row is for female defendants, the first column is for female witnesses."
   ]
  },
  {
   "cell_type": "code",
   "execution_count": 10,
   "metadata": {
    "collapsed": true
   },
   "outputs": [],
   "source": [
    "fwndict=femalewitnessnumbers.to_dict()\n",
    "mwndict=malewitnessnumbers.to_dict()\n",
    "XX={}\n",
    "XY={}\n",
    "YY={}\n",
    "YX={}\n",
    "Xprop={}\n",
    "Xtot={}\n",
    "Yprop={}\n",
    "Ytot={}\n",
    "\n",
    "for trial in femaletrials:\n",
    "    XX[trial]=fwndict.get(trial,0)\n",
    "    XY[trial]=mwndict.get(trial,0)\n",
    "    Xtot[trial]=XX[trial]+XY[trial]\n",
    "    if Xtot[trial]>0:\n",
    "        Xprop[trial]=XX[trial]/Xtot[trial]\n",
    "for trial in maletrials:\n",
    "    YY[trial]=mwndict.get(trial,0)\n",
    "    YX[trial]=fwndict.get(trial,0)\n",
    "    Ytot[trial]=YY[trial]+YX[trial]\n",
    "    if Ytot[trial]>0:\n",
    "        Yprop[trial]=YX[trial]/Ytot[trial]"
   ]
  },
  {
   "cell_type": "code",
   "execution_count": 11,
   "metadata": {},
   "outputs": [
    {
     "name": "stdout",
     "output_type": "stream",
     "text": [
      "[[3048, 7878], [5768, 38314]]\n"
     ]
    }
   ],
   "source": [
    "XXtot=sum(XX.values())\n",
    "XYtot=sum(XY.values())\n",
    "YXtot=sum(YX.values())\n",
    "YYtot=sum(YY.values())\n",
    "\n",
    "observed=[[XXtot,XYtot],[YXtot,YYtot]]\n",
    "print(observed)"
   ]
  },
  {
   "cell_type": "markdown",
   "metadata": {},
   "source": [
    "Assuming independency of the variables, we calculate expected values (based on row and column totals) and carry out a chi-square test.\n"
   ]
  },
  {
   "cell_type": "code",
   "execution_count": 12,
   "metadata": {},
   "outputs": [
    {
     "data": {
      "text/plain": [
       "(1426.2828152291804, 0.0, 1, array([[  1751.08376963,   9174.91623037],\n",
       "        [  7064.91623037,  37017.08376963]]))"
      ]
     },
     "execution_count": 12,
     "metadata": {},
     "output_type": "execute_result"
    }
   ],
   "source": [
    "from scipy.stats import chi2_contingency\n",
    "chi2_contingency(observed)"
   ]
  },
  {
   "cell_type": "raw",
   "metadata": {},
   "source": []
  },
  {
   "cell_type": "markdown",
   "metadata": {},
   "source": [
    "So female witnesses much more likely when defendant is female.  When the defendant is female, the probability of a female witness increases from 0.16 to 0.28.  When the defendant is male, the probability that a witness is female decreases from 0.16 to 0.13.\n",
    "\n",
    "However, the majority of female witnesses will still be talking about male defendants.  The probability the defendant is male is 0.65 for female witnesses and 0.83 for male witnesses."
   ]
  },
  {
   "cell_type": "markdown",
   "metadata": {},
   "source": [
    "Next, we will look more closely at the distribution of the proportions of female witnesses in trials for female defendants and for male defendants.  \n"
   ]
  },
  {
   "cell_type": "code",
   "execution_count": 13,
   "metadata": {},
   "outputs": [
    {
     "data": {
      "image/png": "[encoded data removed]",
      "text/plain": [
       "<matplotlib.figure.Figure at 0x110b27cf8>"
      ]
     },
     "metadata": {},
     "output_type": "display_data"
    }
   ],
   "source": [
    "\n",
    "def autolabel(rects,ax):\n",
    "    \"\"\"\n",
    "    Attach a text label above each bar displaying its height\n",
    "    \"\"\"\n",
    "    \n",
    "    for rect in rects:\n",
    "        height = rect.get_height()\n",
    "        if height>0:\n",
    "            ax.text(rect.get_x() + rect.get_width()/2., height+0.5,\n",
    "                    '%d' % int(height),\n",
    "                    ha='center', va='bottom')\n",
    "\n",
    "def bin_and_hist(adict,bdict):\n",
    "    acountdict={}\n",
    "    bcountdict={}\n",
    "    for avalue in adict.values():\n",
    "        arvalue=int(avalue*10)/10\n",
    "        acountdict[arvalue]=acountdict.get(arvalue,0)+1\n",
    "    for bvalue in bdict.values():\n",
    "        brvalue=int(bvalue*10)/10\n",
    "        bcountdict[brvalue]=bcountdict.get(brvalue,0)+1\n",
    "        \n",
    "   # print(acountdict,bcountdict)\n",
    "    \n",
    "    ind=list(acountdict.keys())\n",
    "    for key in bcountdict.keys():\n",
    "        if key not in ind:\n",
    "            ind.append(key)\n",
    "            \n",
    "    ind=sorted(ind)\n",
    "    #print(ind)\n",
    "    values1=[]\n",
    "    values2=[]\n",
    "    labels=[]\n",
    "    for i in ind:\n",
    "        values1.append(acountdict.get(i,0))\n",
    "        values2.append(bcountdict.get(i,0))\n",
    "        labels.append(\"{:1.1f}--\".format(i))\n",
    "    \n",
    "    width=0.035\n",
    "    fig, ax = plt.subplots(figsize=(10,6))\n",
    "    rects1 = ax.bar(ind, values1, width, color='r')\n",
    "    rects2 = ax.bar([i + width for i in ind], values2, width, color='y')\n",
    "    ax.set_xlabel('Proportion of Female Witnesses')\n",
    "    ax.set_ylabel('Number of Trials')\n",
    "    ax.set_title('Proportion of Female Witnesses by Gender of Defendant in the Period 1800-1820')\n",
    "    ax.set_xticks([i + width / 2 for i in ind])\n",
    "    ax.set_xticklabels(labels)\n",
    "\n",
    "    ax.legend((rects1[0], rects2[0]), ('Female Defs', 'Male Defs'))\n",
    "    \n",
    "    autolabel(rects1,ax)\n",
    "    autolabel(rects2,ax)\n",
    "    plt.show()\n",
    "    \n",
    "bin_and_hist(Xprop,Yprop)"
   ]
  },
  {
   "cell_type": "markdown",
   "metadata": {},
   "source": [
    "There are a large number of trials of both females and males where the witnesses are exclusively male.  However, this bias is strongest for male defendants.  There are more trials of women than of men where the witnesses are exclusively female (despite the fact that there are vastly mroe trials of male defendants).  This biased gender distribution of witnesses does suggest it is likely that we will find men talking more about men and women talking more about women."
   ]
  },
  {
   "cell_type": "markdown",
   "metadata": {},
   "source": [
    "##  Number of Witnesses\n",
    "Does the number of witnesses in a trial depend on the gender of defendant or witness?  "
   ]
  },
  {
   "cell_type": "code",
   "execution_count": 14,
   "metadata": {},
   "outputs": [
    {
     "data": {
      "image/png": "[encoded data removed]",
      "text/plain": [
       "<matplotlib.figure.Figure at 0x11186b048>"
      ]
     },
     "metadata": {},
     "output_type": "display_data"
    }
   ],
   "source": [
    "import math\n",
    "\n",
    "wndict=witnessnumbers.to_dict()\n",
    "Xcountdict={}\n",
    "Ycountdict={}\n",
    "\n",
    "\n",
    "for trial in femaletrials:\n",
    "    #print(trial)\n",
    "    X=wndict.get(trial,0)\n",
    "    Xcountdict[X]=Xcountdict.get(X,0)+1\n",
    "for trial in maletrials:\n",
    "    Y=wndict.get(trial,0)\n",
    "    Ycountdict[Y]=Ycountdict.get(Y,0)+1\n",
    "    \n",
    "ind=list(Xcountdict.keys())\n",
    "for key in Ycountdict.keys():\n",
    "    if key not in ind:\n",
    "        ind.append(key)\n",
    "        \n",
    "ind=sorted(ind)\n",
    "Xtot=sum(Xcountdict.values())\n",
    "Ytot=sum(Ycountdict.values())\n",
    "values1=[]\n",
    "values2=[]\n",
    "for i in ind:\n",
    "    values1.append(Xcountdict.get(i,1)/Xtot)\n",
    "    values2.append(Ycountdict.get(i,1)/Ytot)\n",
    "\n",
    "    \n",
    "fig, ax = plt.subplots(figsize=(10,6))\n",
    "rects1 = ax.plot(ind, values1, '-x', color='r')\n",
    "rects2 = ax.plot(ind, values2, '-o', color='y')\n",
    "ax.set_xlabel('Number of Witnesses')\n",
    "ax.set_ylabel('Proportion of Trials')\n",
    "ax.set_title('Distribution of Number of Witnesses by Gender of Defendant in the Period 1800-1820')\n",
    "#ax.set_xticks([i + width / 2 for i in ind])\n",
    "#ax.set_xticklabels(labels)\n",
    "\n",
    "ax.legend((rects1[0], rects2[0]), ('Female Defs', 'Male Defs'))\n",
    "ax.set_xlim(-1,80)\n",
    "ax.set_ylim(0,0.4)\n",
    "    \n",
    "plt.show()"
   ]
  },
  {
   "cell_type": "markdown",
   "metadata": {},
   "source": [
    "These distributions look very similar.  Therefore there does not appear to be a strong connection between gender of defendant and number of witnesses.  There is a slightly higher probability of 0 witnesses in male cases (and corresponding higher probabilities for 1,2 and 3 witnesses in female cases).  However, the peak at 0 witnesses looks like an anomaly and is probably due to the cases where very little has actually been recorded (i.e. there probably were witnesses but there speech was not recorded).\n",
    "\n",
    "Lets remove the trials where there is no speech at the trial.\n"
   ]
  },
  {
   "cell_type": "code",
   "execution_count": 15,
   "metadata": {
    "collapsed": true
   },
   "outputs": [],
   "source": [
    "speechattrialdata=worddata.groupby('obo_trial')['obc_event'].nunique().to_dict()\n",
    "#print(speechattrialdata)"
   ]
  },
  {
   "cell_type": "markdown",
   "metadata": {},
   "source": [
    "Repeating the chi square test on a 2x2 contingency table, we get much the same result as before."
   ]
  },
  {
   "cell_type": "code",
   "execution_count": 16,
   "metadata": {},
   "outputs": [
    {
     "name": "stdout",
     "output_type": "stream",
     "text": [
      "Observed values:\n",
      "[[3048, 7878], [5768, 38314]]\n",
      "Chi-square results:\n"
     ]
    },
    {
     "data": {
      "text/plain": [
       "(1426.2828152291804, 0.0, 1, array([[  1751.08376963,   9174.91623037],\n",
       "        [  7064.91623037,  37017.08376963]]))"
      ]
     },
     "execution_count": 16,
     "metadata": {},
     "output_type": "execute_result"
    }
   ],
   "source": [
    "#speechattrialdata=trialdata[trialdata['trial_u_count']>1]\n",
    "\n",
    "femaletrials=trialdata[trialdata['deft_gender']=='female']['obo_trial']\n",
    "maletrials=trialdata[trialdata['deft_gender']=='male']['obo_trial']\n",
    "\n",
    "fwndict=femalewitnessnumbers.to_dict()\n",
    "mwndict=malewitnessnumbers.to_dict()\n",
    "XX={}\n",
    "XY={}\n",
    "YY={}\n",
    "YX={}\n",
    "Xprop={}\n",
    "Xtot={}\n",
    "Yprop={}\n",
    "Ytot={}\n",
    "threshold=0\n",
    "nospeechattrial=[]\n",
    "for trial in femaletrials:\n",
    "    if speechattrialdata.get(trial,0)>threshold:\n",
    "        XX[trial]=fwndict.get(trial,0)\n",
    "        XY[trial]=mwndict.get(trial,0)\n",
    "        Xtot[trial]=XX[trial]+XY[trial]\n",
    "        if Xtot[trial]>0:\n",
    "            Xprop[trial]=XX[trial]/Xtot[trial]\n",
    "    else:\n",
    "        nospeechattrial.append(trial)\n",
    "for trial in maletrials:\n",
    "    if speechattrialdata.get(trial,0)>threshold:\n",
    "        YY[trial]=mwndict.get(trial,0)\n",
    "        YX[trial]=fwndict.get(trial,0)\n",
    "        Ytot[trial]=YY[trial]+YX[trial]\n",
    "        if Ytot[trial]>0:\n",
    "            Yprop[trial]=YX[trial]/Ytot[trial]\n",
    "    else:\n",
    "        nospeechattrial.append(trial)\n",
    "XXtot=sum(XX.values())\n",
    "XYtot=sum(XY.values())\n",
    "YXtot=sum(YX.values())\n",
    "YYtot=sum(YY.values())\n",
    "\n",
    "observed=[[XXtot,XYtot],[YXtot,YYtot]]\n",
    "print(\"Observed values:\")\n",
    "print(observed)\n",
    "\n",
    "print(\"Chi-square results:\")\n",
    "chi2_contingency(observed)"
   ]
  },
  {
   "cell_type": "markdown",
   "metadata": {},
   "source": [
    "We also see that the distribution of proportion of female witnesses remains the same (since we have just removed cases where there were no witnesses)."
   ]
  },
  {
   "cell_type": "code",
   "execution_count": 17,
   "metadata": {},
   "outputs": [
    {
     "data": {
      "image/png": "[encoded data removed]",
      "text/plain": [
       "<matplotlib.figure.Figure at 0x110b1ab38>"
      ]
     },
     "metadata": {},
     "output_type": "display_data"
    }
   ],
   "source": [
    "bin_and_hist(Xprop,Yprop)"
   ]
  },
  {
   "cell_type": "code",
   "execution_count": 18,
   "metadata": {},
   "outputs": [
    {
     "data": {
      "image/png": "[encoded data removed]",
      "text/plain": [
       "<matplotlib.figure.Figure at 0x10c060eb8>"
      ]
     },
     "metadata": {},
     "output_type": "display_data"
    }
   ],
   "source": [
    "Xcountdict={}\n",
    "Ycountdict={}\n",
    "\n",
    "\n",
    "for trial in femaletrials:\n",
    "    #print(trial)\n",
    "    if speechattrialdata.get(trial,0)>threshold:\n",
    "        X=wndict.get(trial,0)\n",
    "        Xcountdict[X]=Xcountdict.get(X,0)+1\n",
    "for trial in maletrials:\n",
    "    if speechattrialdata.get(trial,0)>threshold:\n",
    "        Y=wndict.get(trial,0)\n",
    "        Ycountdict[Y]=Ycountdict.get(Y,0)+1\n",
    "    \n",
    "ind=list(Xcountdict.keys())\n",
    "for key in Ycountdict.keys():\n",
    "    if key not in ind:\n",
    "        ind.append(key)\n",
    "        \n",
    "ind=sorted(ind)\n",
    "Xtot=sum(Xcountdict.values())\n",
    "Ytot=sum(Ycountdict.values())\n",
    "values1=[]\n",
    "values2=[]\n",
    "for i in ind:\n",
    "    values1.append(Xcountdict.get(i,1)/Xtot)\n",
    "    values2.append(Ycountdict.get(i,1)/Ytot)\n",
    "\n",
    "    \n",
    "fig, ax = plt.subplots(figsize=(10,6))\n",
    "rects1 = ax.plot(ind, values1, '-x', color='r')\n",
    "rects2 = ax.plot(ind, values2, '-o', color='y')\n",
    "ax.set_xlabel('Number of Witnesses')\n",
    "ax.set_ylabel('Proportion of Trials')\n",
    "ax.set_title('Distribution of Number of Witnesses by Gender of Defendant in the Period 1800-1820')\n",
    "#ax.set_xticks([i + width / 2 for i in ind])\n",
    "#ax.set_xticklabels(labels)\n",
    "\n",
    "ax.legend((rects1[0], rects2[0]), ('Female Defs', 'Male Defs'))\n",
    "ax.set_xlim(-1,80)\n",
    "ax.set_ylim(0,0.3)\n",
    "    \n",
    "plt.show()"
   ]
  },
  {
   "cell_type": "markdown",
   "metadata": {},
   "source": [
    "However, now the distribution of the number of witnesses looks much like we would expect with the anomalous peak at 0 removed."
   ]
  },
  {
   "cell_type": "code",
   "execution_count": 19,
   "metadata": {
    "collapsed": true
   },
   "outputs": [],
   "source": [
    "#print(nospeechattrial)\n"
   ]
  },
  {
   "cell_type": "code",
   "execution_count": 20,
   "metadata": {},
   "outputs": [
    {
     "data": {
      "text/html": [
       "<div>\n",
       "<table border=\"1\" class=\"dataframe\">\n",
       "  <thead>\n",
       "    <tr style=\"text-align: right;\">\n",
       "      <th></th>\n",
       "      <th>sess_date</th>\n",
       "      <th>year</th>\n",
       "      <th>obo_trial</th>\n",
       "      <th>obo_deftid</th>\n",
       "      <th>obc_u_no</th>\n",
       "      <th>obc_event</th>\n",
       "      <th>obc_speaker</th>\n",
       "      <th>obc_sex</th>\n",
       "      <th>obc_hiscoLabel</th>\n",
       "      <th>obc_hiscoCode</th>\n",
       "      <th>obc_class</th>\n",
       "      <th>obc_role</th>\n",
       "      <th>obv_role</th>\n",
       "      <th>words</th>\n",
       "      <th>obv_words_type</th>\n",
       "      <th>words_count</th>\n",
       "      <th>defendant</th>\n",
       "    </tr>\n",
       "    <tr>\n",
       "      <th>obv2wid</th>\n",
       "      <th></th>\n",
       "      <th></th>\n",
       "      <th></th>\n",
       "      <th></th>\n",
       "      <th></th>\n",
       "      <th></th>\n",
       "      <th></th>\n",
       "      <th></th>\n",
       "      <th></th>\n",
       "      <th></th>\n",
       "      <th></th>\n",
       "      <th></th>\n",
       "      <th></th>\n",
       "      <th></th>\n",
       "      <th></th>\n",
       "      <th></th>\n",
       "      <th></th>\n",
       "    </tr>\n",
       "  </thead>\n",
       "  <tbody>\n",
       "  </tbody>\n",
       "</table>\n",
       "</div>"
      ],
      "text/plain": [
       "Empty DataFrame\n",
       "Columns: [sess_date, year, obo_trial, obo_deftid, obc_u_no, obc_event, obc_speaker, obc_sex, obc_hiscoLabel, obc_hiscoCode, obc_class, obc_role, obv_role, words, obv_words_type, words_count, defendant]\n",
       "Index: []"
      ]
     },
     "execution_count": 20,
     "metadata": {},
     "output_type": "execute_result"
    }
   ],
   "source": [
    "someworddata=worddata[worddata['obo_trial'].isin(nospeechattrial)]\n",
    "someworddata.head()"
   ]
  },
  {
   "cell_type": "markdown",
   "metadata": {},
   "source": [
    "For reference, here are the first 5 trials with no speech recorded."
   ]
  },
  {
   "cell_type": "code",
   "execution_count": 21,
   "metadata": {},
   "outputs": [
    {
     "data": {
      "text/html": [
       "<div>\n",
       "<table border=\"1\" class=\"dataframe\">\n",
       "  <thead>\n",
       "    <tr style=\"text-align: right;\">\n",
       "      <th></th>\n",
       "      <th>obo_trial</th>\n",
       "      <th>obo_deftid</th>\n",
       "      <th>sess_date</th>\n",
       "      <th>year</th>\n",
       "      <th>trial_tagged</th>\n",
       "      <th>obv_def_spk</th>\n",
       "      <th>speech</th>\n",
       "      <th>trial_u_count</th>\n",
       "      <th>trial_speech_wc</th>\n",
       "      <th>trial_total_wc</th>\n",
       "      <th>...</th>\n",
       "      <th>deft_surname</th>\n",
       "      <th>deft_gender</th>\n",
       "      <th>deft_age</th>\n",
       "      <th>deft_occupation</th>\n",
       "      <th>deft_offcat</th>\n",
       "      <th>deft_offsub</th>\n",
       "      <th>deft_vercat</th>\n",
       "      <th>deft_versub</th>\n",
       "      <th>deft_puncat</th>\n",
       "      <th>deft_punsub</th>\n",
       "    </tr>\n",
       "    <tr>\n",
       "      <th>o2dtid</th>\n",
       "      <th></th>\n",
       "      <th></th>\n",
       "      <th></th>\n",
       "      <th></th>\n",
       "      <th></th>\n",
       "      <th></th>\n",
       "      <th></th>\n",
       "      <th></th>\n",
       "      <th></th>\n",
       "      <th></th>\n",
       "      <th></th>\n",
       "      <th></th>\n",
       "      <th></th>\n",
       "      <th></th>\n",
       "      <th></th>\n",
       "      <th></th>\n",
       "      <th></th>\n",
       "      <th></th>\n",
       "      <th></th>\n",
       "      <th></th>\n",
       "      <th></th>\n",
       "    </tr>\n",
       "  </thead>\n",
       "  <tbody>\n",
       "    <tr>\n",
       "      <th>40</th>\n",
       "      <td>t17800223-13</td>\n",
       "      <td>t17800223-13-defend191</td>\n",
       "      <td>17800223</td>\n",
       "      <td>1780</td>\n",
       "      <td>0</td>\n",
       "      <td>NaN</td>\n",
       "      <td>no_speech</td>\n",
       "      <td>NaN</td>\n",
       "      <td>NaN</td>\n",
       "      <td>206</td>\n",
       "      <td>...</td>\n",
       "      <td>POWELL</td>\n",
       "      <td>male</td>\n",
       "      <td>NaN</td>\n",
       "      <td>NaN</td>\n",
       "      <td>theft</td>\n",
       "      <td>pocketpicking</td>\n",
       "      <td>notGuilty</td>\n",
       "      <td>NaN</td>\n",
       "      <td>NaN</td>\n",
       "      <td>NaN</td>\n",
       "    </tr>\n",
       "    <tr>\n",
       "      <th>56</th>\n",
       "      <td>t17800223-32</td>\n",
       "      <td>t17800223-32-defend379</td>\n",
       "      <td>17800223</td>\n",
       "      <td>1780</td>\n",
       "      <td>0</td>\n",
       "      <td>NaN</td>\n",
       "      <td>no_speech</td>\n",
       "      <td>NaN</td>\n",
       "      <td>NaN</td>\n",
       "      <td>43</td>\n",
       "      <td>...</td>\n",
       "      <td>DAVISON</td>\n",
       "      <td>female</td>\n",
       "      <td>NaN</td>\n",
       "      <td>NaN</td>\n",
       "      <td>theft</td>\n",
       "      <td>grandLarceny</td>\n",
       "      <td>notGuilty</td>\n",
       "      <td>fault</td>\n",
       "      <td>NaN</td>\n",
       "      <td>NaN</td>\n",
       "    </tr>\n",
       "    <tr>\n",
       "      <th>66</th>\n",
       "      <td>t17800223-46</td>\n",
       "      <td>t17800223-46-defend529</td>\n",
       "      <td>17800223</td>\n",
       "      <td>1780</td>\n",
       "      <td>0</td>\n",
       "      <td>NaN</td>\n",
       "      <td>no_speech</td>\n",
       "      <td>NaN</td>\n",
       "      <td>NaN</td>\n",
       "      <td>56</td>\n",
       "      <td>...</td>\n",
       "      <td>STAMFORD</td>\n",
       "      <td>male</td>\n",
       "      <td>NaN</td>\n",
       "      <td>NaN</td>\n",
       "      <td>theft</td>\n",
       "      <td>grandLarceny</td>\n",
       "      <td>notGuilty</td>\n",
       "      <td>noProsecutor</td>\n",
       "      <td>NaN</td>\n",
       "      <td>NaN</td>\n",
       "    </tr>\n",
       "    <tr>\n",
       "      <th>77</th>\n",
       "      <td>t17800405-5</td>\n",
       "      <td>t17800405-5-defend88</td>\n",
       "      <td>17800405</td>\n",
       "      <td>1780</td>\n",
       "      <td>0</td>\n",
       "      <td>NaN</td>\n",
       "      <td>no_speech</td>\n",
       "      <td>NaN</td>\n",
       "      <td>NaN</td>\n",
       "      <td>54</td>\n",
       "      <td>...</td>\n",
       "      <td>STEWARD</td>\n",
       "      <td>female</td>\n",
       "      <td>NaN</td>\n",
       "      <td>NaN</td>\n",
       "      <td>theft</td>\n",
       "      <td>grandLarceny</td>\n",
       "      <td>notGuilty</td>\n",
       "      <td>NaN</td>\n",
       "      <td>NaN</td>\n",
       "      <td>NaN</td>\n",
       "    </tr>\n",
       "    <tr>\n",
       "      <th>101</th>\n",
       "      <td>t17800405-34</td>\n",
       "      <td>t17800405-34-defend456</td>\n",
       "      <td>17800405</td>\n",
       "      <td>1780</td>\n",
       "      <td>0</td>\n",
       "      <td>NaN</td>\n",
       "      <td>no_speech</td>\n",
       "      <td>NaN</td>\n",
       "      <td>NaN</td>\n",
       "      <td>49</td>\n",
       "      <td>...</td>\n",
       "      <td>M'CLOCKLAN</td>\n",
       "      <td>female</td>\n",
       "      <td>NaN</td>\n",
       "      <td>NaN</td>\n",
       "      <td>theft</td>\n",
       "      <td>grandLarceny</td>\n",
       "      <td>notGuilty</td>\n",
       "      <td>noProsecutor</td>\n",
       "      <td>NaN</td>\n",
       "      <td>NaN</td>\n",
       "    </tr>\n",
       "  </tbody>\n",
       "</table>\n",
       "<p>5 rows × 27 columns</p>\n",
       "</div>"
      ],
      "text/plain": [
       "           obo_trial              obo_deftid  sess_date  year  trial_tagged  \\\n",
       "o2dtid                                                                        \n",
       "40      t17800223-13  t17800223-13-defend191   17800223  1780             0   \n",
       "56      t17800223-32  t17800223-32-defend379   17800223  1780             0   \n",
       "66      t17800223-46  t17800223-46-defend529   17800223  1780             0   \n",
       "77       t17800405-5    t17800405-5-defend88   17800405  1780             0   \n",
       "101     t17800405-34  t17800405-34-defend456   17800405  1780             0   \n",
       "\n",
       "        obv_def_spk     speech  trial_u_count  trial_speech_wc  \\\n",
       "o2dtid                                                           \n",
       "40              NaN  no_speech            NaN              NaN   \n",
       "56              NaN  no_speech            NaN              NaN   \n",
       "66              NaN  no_speech            NaN              NaN   \n",
       "77              NaN  no_speech            NaN              NaN   \n",
       "101             NaN  no_speech            NaN              NaN   \n",
       "\n",
       "        trial_total_wc     ...       deft_surname  deft_gender  deft_age  \\\n",
       "o2dtid                     ...                                             \n",
       "40                 206     ...             POWELL         male       NaN   \n",
       "56                  43     ...            DAVISON       female       NaN   \n",
       "66                  56     ...           STAMFORD         male       NaN   \n",
       "77                  54     ...            STEWARD       female       NaN   \n",
       "101                 49     ...         M'CLOCKLAN       female       NaN   \n",
       "\n",
       "        deft_occupation  deft_offcat    deft_offsub deft_vercat   deft_versub  \\\n",
       "o2dtid                                                                          \n",
       "40                  NaN        theft  pocketpicking   notGuilty           NaN   \n",
       "56                  NaN        theft   grandLarceny   notGuilty         fault   \n",
       "66                  NaN        theft   grandLarceny   notGuilty  noProsecutor   \n",
       "77                  NaN        theft   grandLarceny   notGuilty           NaN   \n",
       "101                 NaN        theft   grandLarceny   notGuilty  noProsecutor   \n",
       "\n",
       "       deft_puncat  deft_punsub  \n",
       "o2dtid                           \n",
       "40             NaN          NaN  \n",
       "56             NaN          NaN  \n",
       "66             NaN          NaN  \n",
       "77             NaN          NaN  \n",
       "101            NaN          NaN  \n",
       "\n",
       "[5 rows x 27 columns]"
      ]
     },
     "execution_count": 21,
     "metadata": {},
     "output_type": "execute_result"
    }
   ],
   "source": [
    "nospeechtrialdata=trialdata[trialdata['obo_trial'].isin(nospeechattrial)]\n",
    "nospeechtrialdata.head()"
   ]
  },
  {
   "cell_type": "markdown",
   "metadata": {},
   "source": [
    "Removing the trials with no speech, we see that we remove all of the cases where there are no witnesses.\n",
    "The distribution of number of witnesses is very similar for males and females (with a slightly higher probability of a smaller number of witnesses in female cases).\n"
   ]
  },
  {
   "cell_type": "markdown",
   "metadata": {},
   "source": [
    "Finally, lets look at the distribution of the number of witnesses given the gender of a witness.  If there are 8 witnesses in a trial and 3 of them are female then we record this as 3 occurrences of 8 witnesses when a witness is female (and 5 occurrences of 8 witnesses when a witness is male).  Hence, we have the probability of the number of witnesses in a trial given the gender of a particular witness."
   ]
  },
  {
   "cell_type": "code",
   "execution_count": 22,
   "metadata": {},
   "outputs": [
    {
     "data": {
      "image/png": "[encoded data removed]",
      "text/plain": [
       "<matplotlib.figure.Figure at 0x111c70908>"
      ]
     },
     "metadata": {},
     "output_type": "display_data"
    }
   ],
   "source": [
    "fwitcountdict={}\n",
    "mwitcountdict={}\n",
    "\n",
    "for trial in fwndict.keys():\n",
    "    if trial in speechattrialdata:\n",
    "        witnesses=wndict[trial]\n",
    "        femalewitnesses=fwndict[trial]\n",
    "        fwitcountdict[witnesses]=fwitcountdict.get(witnesses,0)+femalewitnesses\n",
    "\n",
    "for trial in mwndict.keys():\n",
    "    if trial in speechattrialdata:\n",
    "        witnesses=wndict[trial]\n",
    "        malewitnesses=mwndict[trial]\n",
    "        mwitcountdict[witnesses]=mwitcountdict.get(witnesses,0)+malewitnesses\n",
    "        \n",
    "ind=list(fwitcountdict.keys())\n",
    "for key in mwitcountdict.keys():\n",
    "    if key not in ind:\n",
    "        ind.append(key)\n",
    "        \n",
    "ind=sorted(ind)\n",
    "Xtot=sum(fwitcountdict.values())\n",
    "Ytot=sum(mwitcountdict.values())\n",
    "values1=[]\n",
    "values2=[]\n",
    "for i in ind:\n",
    "    values1.append(fwitcountdict.get(i,1)/Xtot)\n",
    "    values2.append(mwitcountdict.get(i,1)/Ytot)\n",
    "\n",
    "    \n",
    "fig, ax = plt.subplots(figsize=(10,6))\n",
    "rects1 = ax.plot(ind, values1, '-x', color='r')\n",
    "rects2 = ax.plot(ind, values2, '-o', color='y')\n",
    "ax.set_xlabel('Number of Witnesses')\n",
    "#ax.set_ylabel('Proportion of Trials')\n",
    "ax.set_title('Distribution of Number of Witnesses by Gender of Witness in the Period 1800-1820')\n",
    "#ax.set_xticks([i + width / 2 for i in ind])\n",
    "#ax.set_xticklabels(labels)\n",
    "\n",
    "ax.legend((rects1[0], rects2[0]), ('Female Witnesses', 'Male Witnesses'))\n",
    "ax.set_xlim(-1,80)\n",
    "ax.set_ylim(0,0.25)\n",
    "    \n",
    "plt.show()"
   ]
  },
  {
   "cell_type": "markdown",
   "metadata": {},
   "source": [
    "Gender of witness does not appear to have an impact on the number of witnesses i.e., female and male witnesses appear equally likely to appear in cases with different numbers of witnesses."
   ]
  }
 ],
 "metadata": {
  "kernelspec": {
   "display_name": "Python 3",
   "language": "python",
   "name": "python3"
  },
  "language_info": {
   "codemirror_mode": {
    "name": "ipython",
    "version": 3
   },
   "file_extension": ".py",
   "mimetype": "text/x-python",
   "name": "python",
   "nbconvert_exporter": "python",
   "pygments_lexer": "ipython3",
   "version": "3.6.0"
  }
 },
 "nbformat": 4,
 "nbformat_minor": 2
}
