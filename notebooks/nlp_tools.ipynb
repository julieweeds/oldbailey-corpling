{
 "cells": [
  {
   "cell_type": "markdown",
   "metadata": {},
   "source": [
    "# Corpus Analysis for Old Bailey Data\n",
    "\n",
    "First import necessary packages - spacy is for nlp analysis, pandas and matplotlib for data analysis and visdaulisation"
   ]
  },
  {
   "cell_type": "code",
   "execution_count": 1,
   "metadata": {
    "collapsed": true
   },
   "outputs": [],
   "source": [
    "import spacy\n",
    "import pandas as pd\n",
    "import matplotlib as plt\n",
    "%matplotlib inline\n",
    "import time\n",
    "nlp=spacy.load('en')\n",
    "from collections import defaultdict\n",
    "import operator,math\n",
    "from gensim.models import Word2Vec"
   ]
  },
  {
   "cell_type": "markdown",
   "metadata": {},
   "source": [
    "The corpus class loads in, stores and performs basic nlp analysis on a corpus.  The data structures generated during basic analysis can be accessed for further analysis and visualisation."
   ]
  },
  {
   "cell_type": "code",
   "execution_count": 2,
   "metadata": {
    "collapsed": true
   },
   "outputs": [],
   "source": [
    "class corpus:\n",
    "    \n",
    "    def __init__(self,ipfiles,nlpmodel,prop=10):\n",
    "        #default mode is to load in 10%.  Set prop = 100 to load in whole corpus\n",
    "        self.sourcefiles=ipfiles\n",
    "        self.nlp=nlpmodel\n",
    "        self.prop=prop\n",
    "        self.name=\"\"\n",
    "        self.docs=[]\n",
    "        self.worddict=defaultdict(int)\n",
    "        self.noundict=defaultdict(int)\n",
    "        self.verbdict=defaultdict(int)\n",
    "        self.adjdict=defaultdict(int)\n",
    "        self.advdict=defaultdict(int)\n",
    "        self.wordlengths=defaultdict(int)\n",
    "        self.sentencelengths=defaultdict(int)\n",
    "        self.doclengths=defaultdict(int)\n",
    "        self.sentences=[]\n",
    "\n",
    "        self.wordtotal=0\n",
    "        self.nountotal=0\n",
    "        self.verbtotal=0\n",
    "        self.adjtotal=0\n",
    "        self.advtotal=0\n",
    "        \n",
    "        self.initialise()\n",
    "        self.basic_analyse_all()\n",
    "        \n",
    "    def initialise(self):\n",
    "        print(\"Loading sourcefiles\")\n",
    "        for ipf in self.sourcefiles:\n",
    "            with open(ipf) as input:\n",
    "                self.name+=\"_\"+ipf\n",
    "                for line in input:\n",
    "                    self.docs.append(line)\n",
    "                \n",
    "       \n",
    "    \n",
    "    def basic_analyse_all(self):\n",
    "            \n",
    "        print(\"Running basic analysis\")\n",
    "        todo=len(self.docs)\n",
    "        tenpercent=todo//10\n",
    "        #print(\"Ten percent is {}\".format(tenpercent))\n",
    "        self.count=0        \n",
    "        for doc in self.docs:\n",
    "            self.basic_analyse_single(doc)\n",
    "            if self.count%tenpercent==0:\n",
    "                done=round(self.count*100/todo)\n",
    "                print(\"Completed {} docs ({}% complete)\".format(str(self.count),str(done)))\n",
    "                if done >= self.prop:\n",
    "                    break\n",
    "                \n",
    "        print(\"Number of documents is {}\".format(self.count))\n",
    "        print(\"Distribution of document lengths is {}\".format(str(self.doclengths)))\n",
    "        print(\"Distribution of sentence lengths is {}\".format(str(self.sentencelengths)))\n",
    "        print(\"Distribution of word lengths is {}\".format(str(self.wordlengths)))\n",
    "        #print(\"Number of docs with 1 sentence is {}\".format(self.doclengths[1]))\n",
    "        \n",
    "    def basic_analyse_single(self,doc):\n",
    "        \n",
    "        self.count+=1\n",
    "        nlpdoc=nlp(doc)\n",
    "        nosents=0\n",
    "        for sent in nlpdoc.sents:\n",
    "            sent_text=[]\n",
    "            slength=len(sent)\n",
    "            #if slength>500:\n",
    "            #    print(sent)\n",
    "            self.sentencelengths[slength]+=1\n",
    "            nosents+=1\n",
    "            for token in sent:\n",
    "                \n",
    "                wordlength=len(token)\n",
    "                self.wordlengths[wordlength]+=1\n",
    "                self.wordtotal+=1\n",
    "                \n",
    "                if not token.is_stop and not token.is_oov and not token.pos_==\"PUNCT\":\n",
    "                    self.worddict[token.lemma_]+=1\n",
    "                    sent_text.append(token.lemma_)\n",
    "                    if token.pos_ ==\"NOUN\":\n",
    "                        self.noundict[token.lemma_]+=1\n",
    "                        self.nountotal+=1\n",
    "                    elif token.pos_==\"VERB\":\n",
    "                        self.verbdict[token.lemma_]+=1\n",
    "                        self.verbtotal+=1\n",
    "                    elif token.pos_==\"ADJ\":\n",
    "                        self.adjdict[token.lemma_]+=1\n",
    "                        self.adjtotal+=1\n",
    "                    elif token.pos_==\"ADV\":\n",
    "                        self.advdict[token.lemma_]+=1\n",
    "                        self.advtotal+=1\n",
    "                \n",
    "            self.sentences.append(sent_text)\n",
    "        #print(\"Number of sentences is {}\".format(nosents))\n",
    "        self.doclengths[nosents]+=1\n",
    "        \n",
    "    def get_word_distribution(self,wordtype):\n",
    "        \n",
    "        if wordtype==\"NOUN\":\n",
    "            return(self.noundict,self.nountotal)\n",
    "        elif wordtype==\"VERB\":\n",
    "            return(self.verbdict,self.verbtotal)\n",
    "        elif wordtype==\"ADJ\":\n",
    "            return(self.adjdict,self.adjtotal)\n",
    "        elif wordtype==\"ADV\":\n",
    "            return(self.advdict,self.advtotal)\n",
    "        else:\n",
    "            return(self.worddict,self.wordtotal)\n",
    "\n",
    "    def get_sentences(self):\n",
    "        for sent in self.sentences:\n",
    "            yield sent\n",
    "            \n",
    "            \n",
    "\n"
   ]
  },
  {
   "cell_type": "markdown",
   "metadata": {},
   "source": [
    "Construct the corpus object for female witnesses"
   ]
  },
  {
   "cell_type": "code",
   "execution_count": 3,
   "metadata": {},
   "outputs": [
    {
     "name": "stdout",
     "output_type": "stream",
     "text": [
      "Loading sourcefiles\n",
      "Running basic analysis\n",
      "Completed 2371 docs (10% complete)\n",
      "Completed 4742 docs (20% complete)\n",
      "Completed 7113 docs (30% complete)\n",
      "Completed 9484 docs (40% complete)\n",
      "Completed 11855 docs (50% complete)\n",
      "Completed 14226 docs (60% complete)\n",
      "Completed 16597 docs (70% complete)\n",
      "Completed 18968 docs (80% complete)\n",
      "Completed 21339 docs (90% complete)\n",
      "Completed 23710 docs (100% complete)\n",
      "Number of documents is 23710\n",
      "Distribution of document lengths is defaultdict(<class 'int'>, {5: 403, 2: 4161, 1: 16270, 8: 102, 12: 24, 3: 1459, 4: 706, 9: 72, 6: 217, 7: 147, 17: 9, 10: 36, 16: 9, 14: 12, 13: 21, 21: 3, 20: 3, 23: 1, 11: 34, 22: 5, 19: 3, 15: 8, 25: 1, 18: 2, 44: 1, 27: 1})\n",
      "Distribution of sentence lengths is defaultdict(<class 'int'>, {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})\n",
      "Distribution of word lengths is defaultdict(<class 'int'>, {1: 397281, 2: 283520, 7: 72788, 3: 406454, 6: 96116, 4: 283020, 8: 51911, 5: 150208, 9: 21831, 11: 4879, 10: 10533, 12: 2001, 13: 615, 14: 112, 16: 6, 15: 29, 18: 1, 17: 6, 19: 2})\n",
      "Time taken: 102.93865513801575s\n"
     ]
    }
   ],
   "source": [
    "inputfiles=['corpus_f_wv']\n",
    "start=time.time()\n",
    "female_witness_corpus=corpus(inputfiles,spacy.load('en'),prop=100)\n",
    "end=time.time()\n",
    "print(\"Time taken: {}s\".format(end-start))"
   ]
  },
  {
   "cell_type": "markdown",
   "metadata": {},
   "source": [
    "Build corpus object for male witnesses"
   ]
  },
  {
   "cell_type": "code",
   "execution_count": 4,
   "metadata": {},
   "outputs": [
    {
     "name": "stdout",
     "output_type": "stream",
     "text": [
      "Loading sourcefiles\n",
      "Running basic analysis\n",
      "Completed 10763 docs (10% complete)\n",
      "Completed 21526 docs (20% complete)\n",
      "Completed 32289 docs (30% complete)\n",
      "Completed 43052 docs (40% complete)\n",
      "Completed 53815 docs (50% complete)\n",
      "Completed 64578 docs (60% complete)\n",
      "Completed 75341 docs (70% complete)\n",
      "Completed 86104 docs (80% complete)\n",
      "Completed 96867 docs (90% complete)\n",
      "Completed 107630 docs (100% complete)\n",
      "Number of documents is 107630\n",
      "Distribution of document lengths is defaultdict(<class 'int'>, {2: 19173, 1: 72977, 4: 3287, 12: 124, 6: 1077, 3: 6706, 8: 507, 13: 94, 9: 355, 5: 1806, 7: 721, 10: 220, 14: 76, 11: 183, 15: 64, 16: 44, 25: 14, 19: 31, 22: 14, 18: 39, 20: 16, 29: 5, 26: 5, 17: 24, 23: 14, 27: 5, 21: 10, 30: 4, 28: 6, 44: 1, 32: 2, 24: 6, 42: 1, 35: 2, 45: 1, 31: 2, 80: 1, 38: 1, 198: 1, 49: 1, 65: 1, 43: 2, 48: 1, 34: 1, 66: 1, 83: 1, 73: 1, 47: 2})\n",
      "Distribution of sentence lengths is defaultdict(<class 'int'>, {17: 4068, 36: 1450, 13: 5154, 6: 5623, 15: 4603, 3: 7948, 7: 6584, 8: 6040, 63: 607, 48: 903, 10: 5897, 9: 6131, 30: 1898, 21: 3036, 39: 1231, 12: 5623, 32: 1665, 86: 370, 19: 3563, 22: 2900, 11: 5583, 18: 3759, 59: 630, 16: 4566, 4: 3612, 68: 481, 53: 712, 29: 1990, 5: 6857, 27: 2144, 24: 2388, 23: 2717, 28: 2089, 2: 2058, 14: 4999, 38: 1304, 20: 3276, 31: 1758, 42: 1123, 25: 2409, 26: 2263, 92: 330, 33: 1563, 34: 1564, 69: 515, 67: 500, 140: 146, 166: 82, 54: 736, 35: 1480, 108: 231, 37: 1336, 105: 255, 65: 540, 176: 86, 64: 514, 52: 791, 47: 912, 74: 509, 40: 1213, 77: 405, 73: 441, 72: 443, 50: 845, 44: 1081, 66: 499, 60: 589, 49: 805, 58: 638, 101: 243, 139: 129, 122: 202, 41: 1157, 57: 681, 55: 762, 51: 816, 82: 393, 87: 346, 45: 1039, 46: 961, 142: 133, 43: 1099, 149: 115, 102: 248, 129: 187, 116: 200, 88: 309, 103: 252, 79: 365, 104: 255, 155: 106, 113: 196, 131: 185, 121: 164, 89: 333, 203: 59, 220: 40, 70: 486, 62: 604, 75: 446, 56: 747, 71: 435, 123: 168, 1: 576, 76: 369, 98: 245, 61: 623, 84: 344, 106: 231, 96: 276, 83: 337, 78: 396, 94: 321, 119: 201, 161: 109, 233: 37, 81: 372, 184: 78, 135: 142, 100: 264, 148: 119, 127: 155, 124: 162, 90: 308, 91: 287, 97: 267, 109: 224, 80: 358, 141: 116, 112: 210, 138: 124, 196: 61, 99: 262, 147: 103, 218: 56, 107: 237, 133: 169, 143: 149, 110: 230, 132: 153, 117: 226, 118: 194, 173: 92, 277: 31, 95: 304, 128: 166, 114: 222, 111: 229, 154: 103, 172: 83, 125: 173, 130: 161, 120: 207, 276: 25, 160: 106, 186: 71, 150: 122, 85: 342, 192: 75, 200: 61, 245: 50, 235: 44, 151: 134, 181: 78, 157: 123, 211: 60, 137: 126, 254: 31, 272: 32, 198: 66, 258: 30, 250: 34, 313: 22, 230: 52, 209: 52, 187: 72, 126: 167, 180: 78, 134: 154, 415: 13, 189: 66, 341: 16, 259: 39, 213: 58, 207: 56, 247: 55, 301: 27, 298: 19, 270: 22, 282: 39, 239: 39, 188: 80, 93: 301, 167: 108, 422: 12, 165: 95, 164: 102, 163: 97, 352: 14, 175: 74, 152: 120, 283: 22, 416: 7, 314: 22, 162: 126, 260: 40, 328: 23, 229: 49, 242: 40, 190: 64, 182: 92, 115: 189, 159: 105, 311: 21, 753: 2, 144: 143, 268: 30, 153: 119, 316: 14, 326: 14, 275: 34, 248: 38, 183: 74, 227: 40, 179: 78, 221: 65, 234: 36, 169: 105, 202: 64, 145: 143, 193: 70, 177: 79, 191: 67, 364: 18, 208: 60, 225: 46, 158: 109, 199: 51, 401: 12, 201: 52, 240: 45, 335: 20, 194: 61, 228: 44, 398: 12, 393: 12, 224: 61, 581: 5, 171: 81, 309: 18, 205: 56, 195: 84, 214: 60, 657: 1, 223: 52, 324: 15, 197: 65, 304: 30, 146: 112, 481: 5, 473: 6, 168: 104, 246: 45, 557: 5, 241: 41, 265: 32, 386: 14, 273: 28, 488: 3, 294: 20, 212: 43, 288: 20, 185: 68, 178: 75, 252: 34, 359: 9, 170: 82, 299: 22, 461: 6, 219: 45, 136: 149, 356: 18, 418: 7, 215: 49, 928: 1, 244: 41, 263: 15, 574: 1, 368: 19, 523: 2, 434: 10, 442: 8, 289: 25, 859: 2, 236: 47, 238: 36, 524: 5, 371: 13, 361: 11, 600: 2, 465: 5, 237: 39, 278: 24, 340: 18, 300: 21, 280: 19, 334: 14, 370: 12, 590: 5, 292: 17, 262: 28, 156: 88, 269: 27, 464: 6, 351: 17, 216: 37, 243: 39, 391: 5, 217: 55, 310: 16, 222: 46, 232: 38, 501: 4, 226: 41, 327: 17, 722: 1, 651: 3, 389: 6, 462: 8, 853: 2, 634: 3, 331: 17, 286: 22, 343: 14, 315: 13, 571: 3, 653: 2, 319: 8, 553: 4, 290: 23, 710: 2, 476: 4, 297: 28, 305: 13, 302: 15, 257: 29, 412: 7, 498: 2, 318: 17, 174: 78, 388: 7, 570: 2, 256: 35, 251: 53, 345: 16, 264: 35, 363: 9, 332: 15, 378: 12, 438: 3, 303: 21, 440: 8, 274: 19, 348: 8, 559: 3, 253: 31, 646: 4, 249: 33, 306: 20, 353: 6, 296: 18, 402: 8, 838: 1, 284: 29, 444: 7, 291: 18, 329: 22, 1052: 1, 956: 1, 337: 10, 231: 41, 204: 75, 535: 3, 287: 18, 295: 23, 307: 19, 279: 25, 266: 28, 338: 14, 320: 11, 474: 2, 390: 10, 377: 10, 579: 1, 564: 4, 383: 10, 339: 19, 322: 20, 654: 2, 285: 26, 781: 1, 347: 13, 508: 5, 433: 7, 426: 10, 529: 4, 449: 7, 484: 2, 1394: 2, 408: 7, 847: 2, 325: 17, 531: 1, 317: 22, 366: 12, 497: 1, 649: 2, 588: 2, 336: 16, 350: 15, 425: 4, 308: 9, 812: 2, 499: 3, 382: 8, 271: 27, 455: 3, 367: 11, 660: 3, 355: 16, 267: 37, 410: 3, 520: 7, 373: 10, 403: 11, 608: 2, 323: 20, 696: 1, 419: 11, 330: 13, 404: 3, 255: 25, 281: 18, 423: 10, 261: 29, 374: 10, 376: 16, 210: 47, 406: 6, 365: 17, 479: 3, 333: 12, 362: 13, 483: 3, 506: 4, 500: 5, 435: 11, 206: 52, 460: 6, 1068: 1, 381: 7, 394: 10, 492: 4, 489: 3, 396: 10, 630: 2, 342: 10, 427: 5, 414: 10, 293: 20, 536: 4, 417: 9, 450: 6, 321: 19, 372: 10, 448: 5, 357: 10, 437: 4, 1018: 1, 384: 10, 346: 7, 349: 11, 379: 11, 312: 14, 431: 6, 678: 1, 447: 8, 602: 2, 502: 7, 691: 2, 467: 8, 519: 4, 452: 9, 354: 13, 380: 8, 430: 7, 480: 4, 878: 1, 866: 2, 688: 1, 760: 2, 405: 8, 436: 4, 779: 1, 369: 12, 819: 3, 375: 14, 545: 2, 715: 1, 599: 1, 759: 1, 517: 3, 731: 1, 526: 5, 463: 6, 755: 3, 756: 1, 758: 1, 409: 7, 360: 9, 491: 4, 469: 3, 615: 2, 1027: 2, 446: 3, 471: 2, 521: 6, 840: 1, 454: 6, 424: 7, 518: 5, 470: 5, 411: 9, 397: 10, 358: 13, 541: 2, 451: 5, 666: 1, 472: 6, 344: 13, 684: 3, 899: 2, 860: 1, 516: 6, 407: 6, 490: 3, 399: 10, 543: 3, 604: 4, 560: 4, 459: 3, 504: 5, 528: 4, 577: 3, 456: 4, 554: 3, 466: 4, 468: 6, 429: 8, 453: 5, 582: 5, 509: 5, 421: 7, 445: 6, 658: 4, 872: 1, 457: 4, 482: 6, 392: 8, 507: 7, 387: 9, 432: 7, 718: 2, 413: 5, 578: 2, 797: 1, 606: 2, 512: 4, 596: 1, 733: 2, 640: 1, 511: 3, 542: 1, 587: 3, 1330: 1, 647: 1, 703: 1, 458: 4, 385: 5, 486: 10, 897: 1, 664: 2, 547: 1, 494: 3, 729: 1, 505: 4, 566: 2, 751: 1, 395: 8, 1145: 1, 477: 1, 818: 1, 496: 5, 589: 2, 700: 2, 530: 5, 624: 2, 744: 1, 591: 1, 565: 3, 717: 2, 792: 2, 677: 1, 598: 4, 669: 2, 616: 1, 750: 1, 439: 4, 1227: 1, 773: 1, 704: 1, 593: 2, 786: 1, 575: 4, 478: 5, 680: 1, 801: 2, 721: 2, 641: 2, 485: 1, 620: 1, 663: 2, 597: 4, 540: 2, 549: 3, 572: 4, 514: 2, 903: 1, 687: 2, 1122: 2, 659: 1, 749: 1, 544: 2, 674: 4, 629: 2, 443: 4, 428: 5, 538: 2, 569: 3, 716: 1, 1059: 1, 867: 1, 585: 2, 586: 2, 771: 2, 695: 1, 822: 1, 727: 1, 879: 3, 1159: 1, 625: 1, 594: 1, 1525: 1, 1322: 1, 1167: 1, 475: 6, 420: 6, 738: 1, 613: 2, 816: 1, 400: 9, 650: 1, 728: 1, 548: 4, 639: 3, 962: 1, 692: 1, 580: 3, 592: 3, 495: 3, 503: 3, 676: 3, 1235: 1, 1075: 1, 1338: 1, 1025: 1, 757: 1, 953: 1, 736: 2, 947: 1, 1230: 1, 882: 1, 823: 1, 573: 2, 513: 2, 904: 1, 1518: 1, 994: 1, 1644: 1, 607: 1, 493: 6, 765: 1, 510: 5, 1040: 1, 849: 1, 534: 2, 843: 1, 601: 2, 637: 2, 685: 2, 576: 2, 552: 3, 909: 1, 626: 2, 675: 2, 612: 3, 741: 1, 525: 2, 441: 1, 551: 2, 1107: 1, 1072: 1, 791: 1, 784: 2, 761: 3, 857: 1, 609: 2, 935: 1, 1513: 1, 726: 2, 1030: 1, 623: 1, 652: 1, 701: 2, 1242: 2, 884: 1, 656: 1, 562: 2, 537: 3, 777: 2, 868: 1, 766: 1, 724: 1, 936: 1, 487: 1, 1005: 2, 1527: 1, 702: 1, 800: 2, 824: 1, 876: 1, 648: 1, 802: 2, 796: 1, 886: 1, 533: 2, 1528: 1, 1184: 1, 762: 1, 1173: 1, 1009: 1, 1067: 1, 714: 1, 567: 1, 618: 2, 1250: 1, 672: 1, 924: 1, 539: 2, 619: 1, 811: 1, 743: 1, 694: 1, 992: 1, 617: 1, 774: 1, 1440: 1, 902: 1, 850: 1, 1055: 1, 2006: 1, 1470: 1, 1304: 1, 711: 1, 1575: 1, 854: 1, 1451: 1, 780: 1, 888: 1, 708: 2, 839: 1, 610: 1, 1088: 1, 996: 1, 1017: 2, 730: 1, 841: 1, 747: 1, 745: 1, 583: 1, 686: 1, 1317: 1, 1356: 1, 550: 2, 546: 1, 679: 1, 1029: 1, 939: 1, 561: 2, 707: 1, 891: 1, 929: 1, 908: 1, 950: 1, 1871: 1, 1940: 1, 914: 1, 1668: 1, 667: 1, 795: 1, 852: 1, 690: 1, 809: 1, 568: 1, 825: 1, 831: 1, 595: 1, 631: 2, 603: 1, 1686: 1, 772: 1, 2780: 1, 661: 1, 1337: 1, 633: 1, 693: 1, 532: 1, 1519: 1, 1086: 1, 975: 1, 673: 1, 1152: 1, 1011: 1, 638: 1, 563: 1})\n",
      "Distribution of word lengths is defaultdict(<class 'int'>, {1: 1795982, 4: 1229743, 2: 1317333, 5: 690152, 7: 348863, 6: 433541, 3: 1749526, 8: 262930, 12: 15161, 9: 123943, 11: 34247, 10: 66891, 13: 4356, 15: 304, 14: 1036, 16: 78, 19: 10, 17: 33, 21: 2, 22: 1, 18: 16, 20: 6})\n",
      "Time taken: 472.29338908195496s\n"
     ]
    }
   ],
   "source": [
    "inputfiles=['corpus_m_wv']\n",
    "start=time.time()\n",
    "male_witness_corpus=corpus(inputfiles,spacy.load('en'),prop=100)\n",
    "end=time.time()\n",
    "print(\"Time taken: {}s\".format(end-start))"
   ]
  },
  {
   "cell_type": "markdown",
   "metadata": {},
   "source": [
    "## Testing SpaCy\n",
    "In this section, we play with some of the spacy features on a single document."
   ]
  },
  {
   "cell_type": "code",
   "execution_count": 5,
   "metadata": {},
   "outputs": [
    {
     "name": "stdout",
     "output_type": "stream",
     "text": [
      "I am servant to Mr. Elwell. I was down in the kitchen; my mistress called me up and sent me for some vinegar; I went for the vinegar. I found the door open and I left it open. The door generally stands open at that hour of the day; it was between two and three o'clock. When I came back I left the vinegar in the parlour and took the meat down stairs; when I came down into the kitchen I saw somebody lying down; I asked who the devil was there to frighten me!\n",
      "\n"
     ]
    }
   ],
   "source": [
    "mycorpus=female_witness_corpus\n",
    "adoc=mycorpus.docs[0]\n",
    "print(adoc)"
   ]
  },
  {
   "cell_type": "code",
   "execution_count": 6,
   "metadata": {
    "collapsed": true
   },
   "outputs": [],
   "source": [
    "doc1=nlp(adoc)"
   ]
  },
  {
   "cell_type": "code",
   "execution_count": 7,
   "metadata": {},
   "outputs": [
    {
     "name": "stdout",
     "output_type": "stream",
     "text": [
      "I\n",
      "am\n",
      "servant\n",
      "to\n",
      "Mr.\n",
      "Elwell\n",
      ".\n",
      "I\n",
      "was\n",
      "down\n",
      "in\n",
      "the\n",
      "kitchen\n",
      ";\n",
      "my\n",
      "mistress\n",
      "called\n",
      "me\n",
      "up\n",
      "and\n",
      "sent\n",
      "me\n",
      "for\n",
      "some\n",
      "vinegar\n",
      ";\n",
      "I\n",
      "went\n",
      "for\n",
      "the\n",
      "vinegar\n",
      ".\n",
      "I\n",
      "found\n",
      "the\n",
      "door\n",
      "open\n",
      "and\n",
      "I\n",
      "left\n",
      "it\n",
      "open\n",
      ".\n",
      "The\n",
      "door\n",
      "generally\n",
      "stands\n",
      "open\n",
      "at\n",
      "that\n",
      "hour\n",
      "of\n",
      "the\n",
      "day\n",
      ";\n",
      "it\n",
      "was\n",
      "between\n",
      "two\n",
      "and\n",
      "three\n",
      "o'clock\n",
      ".\n",
      "When\n",
      "I\n",
      "came\n",
      "back\n",
      "I\n",
      "left\n",
      "the\n",
      "vinegar\n",
      "in\n",
      "the\n",
      "parlour\n",
      "and\n",
      "took\n",
      "the\n",
      "meat\n",
      "down\n",
      "stairs\n",
      ";\n",
      "when\n",
      "I\n",
      "came\n",
      "down\n",
      "into\n",
      "the\n",
      "kitchen\n",
      "I\n",
      "saw\n",
      "somebody\n",
      "lying\n",
      "down\n",
      ";\n",
      "I\n",
      "asked\n",
      "who\n",
      "the\n",
      "devil\n",
      "was\n",
      "there\n",
      "to\n",
      "frighten\n",
      "me\n",
      "!\n",
      "\n",
      "\n",
      "Number of tokens is 106\n"
     ]
    }
   ],
   "source": [
    "for token in doc1:\n",
    "    print(token)\n",
    "    \n",
    "print(\"Number of tokens is {}\".format(len(doc1)))"
   ]
  },
  {
   "cell_type": "code",
   "execution_count": 8,
   "metadata": {},
   "outputs": [
    {
     "name": "stdout",
     "output_type": "stream",
     "text": [
      "I am servant to Mr. Elwell.\n",
      "7\n",
      "I was down in the kitchen; my mistress called me up and sent me for some vinegar; I went for the vinegar.\n",
      "25\n",
      "I found the door open and I left it open.\n",
      "11\n",
      "The door generally stands open at that hour of the day; it was between two and three o'clock.\n",
      "20\n",
      "When I came back I left the vinegar in the parlour and took the meat down stairs; when I came down into the kitchen I saw somebody lying down; I asked who the devil was there to frighten me!\n",
      "\n",
      "43\n",
      "Number of sentences is 5\n"
     ]
    }
   ],
   "source": [
    "nosents=0\n",
    "\n",
    "for sent in doc1.sents:\n",
    "    print(sent)\n",
    "    print(len(sent))\n",
    "    nosents+=1\n",
    "    \n",
    "print(\"Number of sentences is {}\".format(nosents))\n"
   ]
  },
  {
   "cell_type": "code",
   "execution_count": 9,
   "metadata": {},
   "outputs": [
    {
     "name": "stdout",
     "output_type": "stream",
     "text": [
      "id\ttext\t\tlemma\t\tpos\tstop\toov\tner\tdep\thead\n",
      "0\tI\t\t-PRON-\t\tPRON\tTrue\tFalse\t\tnsubj\t1\n",
      "1\tam\t\tbe\t\tVERB\tTrue\tFalse\t\tROOT\t1\n",
      "2\tservant\t\tservant\t\tNOUN\tFalse\tFalse\t\tattr\t1\n",
      "3\tto\t\tto\t\tADP\tTrue\tFalse\t\tprep\t2\n",
      "4\tMr.\t\tmr.\t\tPROPN\tFalse\tFalse\t\tcompound\t5\n",
      "5\tElwell\t\telwell\t\tPROPN\tFalse\tFalse\tPERSON\tpobj\t3\n",
      "6\t.\t\t.\t\tPUNCT\tFalse\tFalse\t\tpunct\t1\n",
      "7\tI\t\t-PRON-\t\tPRON\tTrue\tFalse\t\tnsubj\t8\n",
      "8\twas\t\tbe\t\tVERB\tTrue\tFalse\t\tccomp\t16\n",
      "9\tdown\t\tdown\t\tADV\tTrue\tFalse\t\tadvmod\t8\n",
      "10\tin\t\tin\t\tADP\tTrue\tFalse\t\tprep\t9\n",
      "11\tthe\t\tthe\t\tDET\tTrue\tFalse\t\tdet\t12\n",
      "12\tkitchen\t\tkitchen\t\tNOUN\tFalse\tFalse\t\tpobj\t10\n",
      "13\t;\t\t;\t\tPUNCT\tFalse\tFalse\t\tpunct\t16\n",
      "14\tmy\t\t-PRON-\t\tADJ\tTrue\tFalse\t\tposs\t15\n",
      "15\tmistress\tmistress\tNOUN\tFalse\tFalse\t\tnsubj\t16\n",
      "16\tcalled\t\tcall\t\tVERB\tFalse\tFalse\t\tccomp\t27\n",
      "17\tme\t\t-PRON-\t\tPRON\tTrue\tFalse\t\tdobj\t16\n",
      "18\tup\t\tup\t\tPART\tTrue\tFalse\t\tprt\t16\n",
      "19\tand\t\tand\t\tCCONJ\tTrue\tFalse\t\tcc\t16\n",
      "20\tsent\t\tsend\t\tVERB\tFalse\tFalse\t\tconj\t16\n",
      "21\tme\t\t-PRON-\t\tPRON\tTrue\tFalse\t\tdobj\t20\n",
      "22\tfor\t\tfor\t\tADP\tTrue\tFalse\t\tprep\t20\n",
      "23\tsome\t\tsome\t\tDET\tTrue\tFalse\t\tdet\t24\n",
      "24\tvinegar\t\tvinegar\t\tNOUN\tFalse\tFalse\t\tpobj\t22\n",
      "25\t;\t\t;\t\tPUNCT\tFalse\tFalse\t\tpunct\t27\n",
      "26\tI\t\t-PRON-\t\tPRON\tTrue\tFalse\t\tnsubj\t27\n",
      "27\twent\t\tgo\t\tVERB\tFalse\tFalse\t\tROOT\t27\n",
      "28\tfor\t\tfor\t\tADP\tTrue\tFalse\t\tprep\t27\n",
      "29\tthe\t\tthe\t\tDET\tTrue\tFalse\t\tdet\t30\n",
      "30\tvinegar\t\tvinegar\t\tNOUN\tFalse\tFalse\t\tpobj\t28\n",
      "31\t.\t\t.\t\tPUNCT\tFalse\tFalse\t\tpunct\t27\n",
      "32\tI\t\t-PRON-\t\tPRON\tTrue\tFalse\t\tnsubj\t33\n",
      "33\tfound\t\tfind\t\tVERB\tFalse\tFalse\t\tROOT\t33\n",
      "34\tthe\t\tthe\t\tDET\tTrue\tFalse\t\tdet\t35\n",
      "35\tdoor\t\tdoor\t\tNOUN\tFalse\tFalse\t\tnsubj\t36\n",
      "36\topen\t\topen\t\tADJ\tFalse\tFalse\t\tccomp\t33\n",
      "37\tand\t\tand\t\tCCONJ\tTrue\tFalse\t\tcc\t36\n",
      "38\tI\t\t-PRON-\t\tPRON\tTrue\tFalse\t\tnsubj\t39\n",
      "39\tleft\t\tleave\t\tVERB\tFalse\tFalse\t\tconj\t36\n",
      "40\tit\t\t-PRON-\t\tPRON\tTrue\tFalse\t\tdobj\t39\n",
      "41\topen\t\topen\t\tADJ\tFalse\tFalse\t\toprd\t39\n",
      "42\t.\t\t.\t\tPUNCT\tFalse\tFalse\t\tpunct\t33\n",
      "43\tThe\t\tthe\t\tDET\tTrue\tFalse\t\tdet\t44\n",
      "44\tdoor\t\tdoor\t\tNOUN\tFalse\tFalse\t\tnsubj\t46\n",
      "45\tgenerally\tgenerally\tADV\tFalse\tFalse\t\tadvmod\t46\n",
      "46\tstands\t\tstand\t\tVERB\tFalse\tFalse\t\tccomp\t56\n",
      "47\topen\t\topen\t\tADJ\tFalse\tFalse\t\toprd\t46\n",
      "48\tat\t\tat\t\tADP\tTrue\tFalse\t\tprep\t47\n",
      "49\tthat\t\tthat\t\tDET\tTrue\tFalse\tTIME\tdet\t50\n",
      "50\thour\t\thour\t\tNOUN\tFalse\tFalse\tTIME\tpobj\t48\n",
      "51\tof\t\tof\t\tADP\tTrue\tFalse\t\tprep\t50\n",
      "52\tthe\t\tthe\t\tDET\tTrue\tFalse\t\tdet\t53\n",
      "53\tday\t\tday\t\tNOUN\tFalse\tFalse\t\tpobj\t51\n",
      "54\t;\t\t;\t\tPUNCT\tFalse\tFalse\t\tpunct\t56\n",
      "55\tit\t\t-PRON-\t\tPRON\tTrue\tFalse\t\tnsubj\t56\n",
      "56\twas\t\tbe\t\tVERB\tTrue\tFalse\t\tROOT\t56\n",
      "57\tbetween\t\tbetween\t\tADP\tTrue\tFalse\t\tprep\t56\n",
      "58\ttwo\t\ttwo\t\tNUM\tTrue\tFalse\tCARDINAL\tnummod\t61\n",
      "59\tand\t\tand\t\tCCONJ\tTrue\tFalse\t\tcc\t58\n",
      "60\tthree\t\tthree\t\tNUM\tTrue\tFalse\t\tconj\t58\n",
      "61\to'clock\t\to'clock\t\tNOUN\tFalse\tTrue\t\tpobj\t57\n",
      "62\t.\t\t.\t\tPUNCT\tFalse\tFalse\t\tpunct\t56\n",
      "63\tWhen\t\twhen\t\tADV\tTrue\tFalse\t\tadvmod\t65\n",
      "64\tI\t\t-PRON-\t\tPRON\tTrue\tFalse\t\tnsubj\t65\n",
      "65\tcame\t\tcome\t\tVERB\tFalse\tFalse\t\tadvcl\t68\n",
      "66\tback\t\tback\t\tADV\tTrue\tFalse\t\tadvmod\t65\n",
      "67\tI\t\t-PRON-\t\tPRON\tTrue\tFalse\t\tnsubj\t68\n",
      "68\tleft\t\tleave\t\tVERB\tFalse\tFalse\t\tccomp\t95\n",
      "69\tthe\t\tthe\t\tDET\tTrue\tFalse\t\tdet\t70\n",
      "70\tvinegar\t\tvinegar\t\tNOUN\tFalse\tFalse\t\tdobj\t68\n",
      "71\tin\t\tin\t\tADP\tTrue\tFalse\t\tprep\t70\n",
      "72\tthe\t\tthe\t\tDET\tTrue\tFalse\t\tdet\t73\n",
      "73\tparlour\t\tparlour\t\tNOUN\tFalse\tTrue\t\tpobj\t71\n",
      "74\tand\t\tand\t\tCCONJ\tTrue\tFalse\t\tcc\t68\n",
      "75\ttook\t\ttake\t\tVERB\tFalse\tFalse\t\tconj\t68\n",
      "76\tthe\t\tthe\t\tDET\tTrue\tFalse\t\tdet\t77\n",
      "77\tmeat\t\tmeat\t\tNOUN\tFalse\tFalse\t\tdobj\t75\n",
      "78\tdown\t\tdown\t\tADP\tTrue\tFalse\t\tprep\t77\n",
      "79\tstairs\t\tstair\t\tNOUN\tFalse\tFalse\t\tpobj\t78\n",
      "80\t;\t\t;\t\tPUNCT\tFalse\tFalse\t\tpunct\t68\n",
      "81\twhen\t\twhen\t\tADV\tTrue\tFalse\t\tadvmod\t83\n",
      "82\tI\t\t-PRON-\t\tPRON\tTrue\tFalse\t\tnsubj\t83\n",
      "83\tcame\t\tcome\t\tVERB\tFalse\tFalse\t\tadvcl\t68\n",
      "84\tdown\t\tdown\t\tPART\tTrue\tFalse\t\tprt\t83\n",
      "85\tinto\t\tinto\t\tADP\tTrue\tFalse\t\tprep\t83\n",
      "86\tthe\t\tthe\t\tDET\tTrue\tFalse\t\tdet\t87\n",
      "87\tkitchen\t\tkitchen\t\tNOUN\tFalse\tFalse\t\tpobj\t85\n",
      "88\tI\t\t-PRON-\t\tPRON\tTrue\tFalse\t\tnsubj\t89\n",
      "89\tsaw\t\tsee\t\tVERB\tFalse\tFalse\t\trelcl\t87\n",
      "90\tsomebody\tsomebody\tNOUN\tFalse\tFalse\t\tnsubj\t91\n",
      "91\tlying\t\tlie\t\tVERB\tFalse\tFalse\t\tadvcl\t89\n",
      "92\tdown\t\tdown\t\tADV\tTrue\tFalse\t\tprt\t91\n",
      "93\t;\t\t;\t\tPUNCT\tFalse\tFalse\t\tpunct\t95\n",
      "94\tI\t\t-PRON-\t\tPRON\tTrue\tFalse\t\tnsubj\t95\n",
      "95\tasked\t\task\t\tVERB\tFalse\tFalse\t\tROOT\t95\n",
      "96\twho\t\twho\t\tNOUN\tTrue\tFalse\t\tattr\t99\n",
      "97\tthe\t\tthe\t\tDET\tTrue\tFalse\t\tdet\t98\n",
      "98\tdevil\t\tdevil\t\tNOUN\tFalse\tFalse\t\tnsubj\t99\n",
      "99\twas\t\tbe\t\tVERB\tTrue\tFalse\t\tccomp\t95\n",
      "100\tthere\t\tthere\t\tADV\tTrue\tFalse\t\tadvmod\t99\n",
      "101\tto\t\tto\t\tPART\tTrue\tFalse\t\taux\t102\n",
      "102\tfrighten\tfrighten\tVERB\tFalse\tFalse\t\txcomp\t99\n",
      "103\tme\t\t-PRON-\t\tPRON\tTrue\tFalse\t\tdobj\t102\n",
      "104\t!\t\t!\t\tPUNCT\tFalse\tFalse\t\tpunct\t95\n",
      "105\t\n",
      "\t\t\n",
      "\t\tSPACE\tFalse\tFalse\t\t\t104\n"
     ]
    }
   ],
   "source": [
    "print(\"{}\\t{}\\t\\t{}\\t\\t{}\\t{}\\t{}\\t{}\\t{}\\t{}\".format(\"id\",\"text\",\"lemma\",\"pos\",\"stop\",\"oov\",\"ner\",\"dep\",\"head\"))\n",
    "for token in doc1: \n",
    "    if len(token.text)<8:\n",
    "        print(\"{}\\t{}\\t\\t{}\\t\\t{}\\t{}\\t{}\\t{}\\t{}\\t{}\".format(token.i,token.text,token.lemma_,token.pos_,token.is_stop,token.is_oov,token.ent_type_,token.dep_,token.head.i))\n",
    "    else:\n",
    "        print(\"{}\\t{}\\t{}\\t{}\\t{}\\t{}\\t{}\\t{}\\t{}\".format(token.i,token.text,token.lemma_,token.pos_,token.is_stop,token.is_oov,token.ent_type_,token.dep_,token.head.i))\n",
    "    "
   ]
  },
  {
   "cell_type": "markdown",
   "metadata": {},
   "source": [
    "## Summary Stats\n",
    "\n",
    "Computation of summary statistics from a frequency table (e.g., corpus.sentencelengths, corpus.doclengths or corpus.wordlengths"
   ]
  },
  {
   "cell_type": "code",
   "execution_count": 10,
   "metadata": {},
   "outputs": [
    {
     "name": "stdout",
     "output_type": "stream",
     "text": [
      "Mean is 1.6840151834668915 and sd is 1.6147339540909058\n"
     ]
    },
    {
     "data": {
      "text/plain": [
       "(1.6840151834668915, 1.6147339540909058)"
      ]
     },
     "execution_count": 10,
     "metadata": {},
     "output_type": "execute_result"
    }
   ],
   "source": [
    "import math\n",
    "\n",
    "def summarise(freqtable_dict):\n",
    "    \n",
    "    sumf=0\n",
    "    sumxf=0\n",
    "    sumxxf=0\n",
    "    for key in freqtable_dict.keys():\n",
    "        sumf+=freqtable_dict[key]\n",
    "        sumxf+=freqtable_dict[key]*key\n",
    "        sumxxf+=freqtable_dict[key]*key*key\n",
    "        \n",
    "    mean=sumxf/sumf\n",
    "    var = sumxxf/sumf-mean*mean\n",
    "    sd=math.sqrt(var)\n",
    "    \n",
    "    print(\"Mean is {} and sd is {}\".format(str(mean),str(sd)))\n",
    "    return(mean,sd)\n",
    "    \n",
    "summarise(mycorpus.doclengths)"
   ]
  },
  {
   "cell_type": "markdown",
   "metadata": {},
   "source": [
    "## Visualisation\n",
    "\n",
    "Visualising the frequency tables.\n",
    "The distributions are very skewed (and have a very long upper tail)  The squash function bins together data items in the tail for easier visalisation of the m,ain part of the distribution"
   ]
  },
  {
   "cell_type": "code",
   "execution_count": 11,
   "metadata": {
    "collapsed": true
   },
   "outputs": [],
   "source": [
    "def squash(afreqdict,m,sd):\n",
    "    \n",
    "    bmax=0\n",
    "    threshold=math.ceil(m+sd)\n",
    "    \n",
    "    count=0\n",
    "    bfreqdict=defaultdict(int)\n",
    "    print(\"Threshold for inclusion in bar chart is {}\".format(threshold))\n",
    "    for (key,value) in afreqdict.items():\n",
    "        #print(key)\n",
    "        #print(type(key))\n",
    "        if key>threshold:\n",
    "            count+=value\n",
    "        else:\n",
    "            bfreqdict[key]=value\n",
    "            \n",
    "        if key > bmax:\n",
    "            bmax=key\n",
    "    #print(count)\n",
    "    label=threshold\n",
    "    bfreqdict[label]=count\n",
    "    return bfreqdict\n",
    "\n"
   ]
  },
  {
   "cell_type": "code",
   "execution_count": 12,
   "metadata": {},
   "outputs": [
    {
     "name": "stdout",
     "output_type": "stream",
     "text": [
      "Mean is 1.6840151834668915 and sd is 1.6147339540909058\n",
      "Threshold for inclusion in bar chart is 4\n"
     ]
    },
    {
     "data": {
      "image/png": "[encoded data removed]",
      "text/plain": [
       "<matplotlib.figure.Figure at 0x1d127ecf8>"
      ]
     },
     "metadata": {},
     "output_type": "display_data"
    }
   ],
   "source": [
    "def visualise(afreqdict,heading='',makesquash=True):\n",
    "\n",
    "    (m,sd)=summarise(afreqdict)\n",
    "    if makesquash:\n",
    "        bfreqdict=squash(afreqdict,m,sd)\n",
    "    else:\n",
    "        bfreqdict=afreqdict\n",
    "    docsdata = pd.DataFrame.from_dict(bfreqdict,orient='index')\n",
    "    docsdata.sort_index(inplace=True)\n",
    "    docsdata.plot.bar(title='Distribution of number of '+heading,legend=False,figsize=(12,6))\n",
    "    return docsdata\n",
    "\n",
    "docsdata=visualise(female_witness_corpus.doclengths,heading='Sentences (Female witnesses)')"
   ]
  },
  {
   "cell_type": "code",
   "execution_count": 13,
   "metadata": {},
   "outputs": [
    {
     "name": "stdout",
     "output_type": "stream",
     "text": [
      "Mean is 1.7404255319148936 and sd is 1.9682465085952527\n",
      "Threshold for inclusion in bar chart is 4\n"
     ]
    },
    {
     "data": {
      "image/png": "[encoded data removed]",
      "text/plain": [
       "<matplotlib.figure.Figure at 0x1d12ad4e0>"
      ]
     },
     "metadata": {},
     "output_type": "display_data"
    }
   ],
   "source": [
    "maledocsdata=visualise(male_witness_corpus.doclengths,heading='Sentences (Male witnesses)')"
   ]
  },
  {
   "cell_type": "code",
   "execution_count": 14,
   "metadata": {},
   "outputs": [
    {
     "name": "stdout",
     "output_type": "stream",
     "text": [
      "Mean is 44.61312863153677 and sd is 73.38798033146928\n",
      "Threshold for inclusion in bar chart is 119\n"
     ]
    },
    {
     "data": {
      "image/png": "[encoded data removed]",
      "text/plain": [
       "<matplotlib.figure.Figure at 0x1d1592a90>"
      ]
     },
     "metadata": {},
     "output_type": "display_data"
    }
   ],
   "source": [
    "sentencedata=visualise(female_witness_corpus.sentencelengths,heading='Words in Sentences (Female Witnesses)')"
   ]
  },
  {
   "cell_type": "code",
   "execution_count": 15,
   "metadata": {},
   "outputs": [
    {
     "name": "stdout",
     "output_type": "stream",
     "text": [
      "Mean is 43.10307385144297 and sd is 71.0115834553726\n",
      "Threshold for inclusion in bar chart is 115\n"
     ]
    },
    {
     "data": {
      "image/png": "[encoded data removed]",
      "text/plain": [
       "<matplotlib.figure.Figure at 0x1d1a8ae48>"
      ]
     },
     "metadata": {},
     "output_type": "display_data"
    }
   ],
   "source": [
    "malesentencedata=visualise(male_witness_corpus.sentencelengths,heading='Words in Sentences (Male Witnesses)')"
   ]
  },
  {
   "cell_type": "code",
   "execution_count": 16,
   "metadata": {},
   "outputs": [
    {
     "name": "stdout",
     "output_type": "stream",
     "text": [
      "Mean is 3.344749069927632 and sd is 2.0832447179591598\n"
     ]
    },
    {
     "data": {
      "image/png": "[encoded data removed]",
      "text/plain": [
       "<matplotlib.figure.Figure at 0x1cfaa7b38>"
      ]
     },
     "metadata": {},
     "output_type": "display_data"
    }
   ],
   "source": [
    "wordlengthdata=visualise(female_witness_corpus.wordlengths,heading=\"Characters in Words (Female Witnesses)\",makesquash=False)"
   ]
  },
  {
   "cell_type": "code",
   "execution_count": 17,
   "metadata": {},
   "outputs": [
    {
     "name": "stdout",
     "output_type": "stream",
     "text": [
      "Mean is 3.420407141107291 and sd is 2.195359979745621\n"
     ]
    },
    {
     "data": {
      "image/png": "[encoded data removed]",
      "text/plain": [
       "<matplotlib.figure.Figure at 0x1d0252c50>"
      ]
     },
     "metadata": {},
     "output_type": "display_data"
    }
   ],
   "source": [
    "malewordlengthdata=visualise(male_witness_corpus.wordlengths,heading=\"Characters in Words (Male Witnesses)\",makesquash=False)"
   ]
  },
  {
   "cell_type": "markdown",
   "metadata": {
    "collapsed": true
   },
   "source": [
    "## Popular Words\n",
    "\n",
    "Find words (possibly of given part of speech) which are most common in a given corpus.  Then find the ones which are 'most surprising' given a second comparative corpus."
   ]
  },
  {
   "cell_type": "code",
   "execution_count": 74,
   "metadata": {},
   "outputs": [
    {
     "name": "stdout",
     "output_type": "stream",
     "text": [
      "Most common ADJs in _corpus_f_wv:[('bad', 1765), ('little', 1486), ('good', 1341), ('open', 1091), ('sure', 1051), ('half', 901), ('young', 844), ('past', 697), ('great', 675), ('old', 650)]\n"
     ]
    }
   ],
   "source": [
    "#import operator\n",
    "\n",
    "def find_most_common_words(corpus1,wordtype,n=10):\n",
    "\n",
    "    (dist1,_)=corpus1.get_word_distribution(wordtype)\n",
    "    dc_sort = sorted(dist1.items(),key = operator.itemgetter(1),reverse = True)\n",
    "    return dc_sort[0:n]\n",
    "\n",
    "corpus=female_witness_corpus\n",
    "wordtype=\"ADJ\"\n",
    "print(\"Most common {}s in {}:{}\".format(wordtype,corpus.name,find_most_common_words(corpus,wordtype)))\n"
   ]
  },
  {
   "cell_type": "code",
   "execution_count": 75,
   "metadata": {},
   "outputs": [
    {
     "name": "stdout",
     "output_type": "stream",
     "text": [
      "Most common ADJs in _corpus_m_wv:[('good', 5306), ('bad', 4477), ('little', 4112), ('great', 3360), ('sure', 3011), ('public', 2868), ('half', 2667), ('open', 2659), ('past', 2507), ('right', 2392)]\n"
     ]
    }
   ],
   "source": [
    "corpus=male_witness_corpus\n",
    "print(\"Most common {}s in {}:{}\".format(wordtype,corpus.name,find_most_common_words(corpus,wordtype)))\n"
   ]
  },
  {
   "cell_type": "code",
   "execution_count": 24,
   "metadata": {},
   "outputs": [
    {
     "name": "stdout",
     "output_type": "stream",
     "text": [
      "[('husband', 3527), ('room', 4397), ('door', 4587), ('house', 6315), ('wife', 2979), ('matron', 28), ('child', 1938), ('bed', 2504), ('mother', 1621), ('widow', 451)]\n"
     ]
    }
   ],
   "source": [
    "def find_surprising_words(corpus1,corpus2,wordtype,n=10,shift=0.25):\n",
    "    #will find words which are surprisingly frequent in dist1 given dist2\n",
    "    \n",
    "    \n",
    "    (dist1,total1)=corpus1.get_word_distribution(wordtype)\n",
    "    (dist2,total2)=corpus2.get_word_distribution(wordtype)\n",
    "    \n",
    "    candidates={}\n",
    "   \n",
    "    \n",
    "    for(key,value) in dist1.items():\n",
    "        if value>0:\n",
    "            p1=value/total1\n",
    "            p2=(dist2[key]+0.1)/(total2+0.1)\n",
    "            #p2=(dist2[key]+value)/(total2+total1)\n",
    "            \n",
    "            llr=math.log(p1/p2)\n",
    "        \n",
    "            if llr>0:\n",
    "                \n",
    "                llr=(1-shift)*llr+math.log(p1)\n",
    "                candidates[key]=llr\n",
    "\n",
    "       \n",
    "    dc_sort=sorted(candidates.items(),key=operator.itemgetter(1),reverse=True)\n",
    "    freqs=[(key,dist1[key]) for (key,_) in dc_sort[0:n]]\n",
    "    \n",
    "    return freqs\n",
    "   \n",
    "surpriseme=find_surprising_words(female_witness_corpus,male_witness_corpus,wordtype)\n",
    "print(surpriseme)"
   ]
  },
  {
   "cell_type": "code",
   "execution_count": 25,
   "metadata": {},
   "outputs": [
    {
     "name": "stdout",
     "output_type": "stream",
     "text": [
      "[('prisoner', 68550), ('street', 19378), ('man', 19539), ('beat', 201), ('clerk', 3022), ('fracture', 169), ('watch', 7862), ('book', 5971), ('money', 10839), ('director', 147)]\n"
     ]
    }
   ],
   "source": [
    "surprising_male=find_surprising_words(male_witness_corpus,female_witness_corpus,wordtype)\n",
    "print(surprising_male)"
   ]
  },
  {
   "cell_type": "markdown",
   "metadata": {
    "collapsed": true
   },
   "source": [
    "## How are words used by Different Speakers\n",
    "Use gensim to build distributional representations of words"
   ]
  },
  {
   "cell_type": "code",
   "execution_count": 67,
   "metadata": {},
   "outputs": [],
   "source": [
    "#from gensim.models import Word2Vec\n",
    "\n",
    "#parameters\n",
    "size=300\n",
    "min_count=100\n",
    "window=1\n",
    "sg=1 #1=use skip-gram, otherwise=cbow"
   ]
  },
  {
   "cell_type": "markdown",
   "metadata": {},
   "source": [
    "Build Word2Vec model for female_witness_corpus using parameters above"
   ]
  },
  {
   "cell_type": "code",
   "execution_count": 68,
   "metadata": {},
   "outputs": [
    {
     "name": "stdout",
     "output_type": "stream",
     "text": [
      "Word2Vec model built with example vocabulary:\n",
      "['servant', 'mr.', 'kitchen', 'mistress', 'call', 'send', 'go', 'find', 'door', 'open']\n",
      "Time taken: 1.891150951385498s\n"
     ]
    }
   ],
   "source": [
    "start=time.time()\n",
    "female_witness_model=Word2Vec(female_witness_corpus.sentences,min_count=min_count,window=window,size=size,sg=sg,workers=4)\n",
    "vocab=list(female_witness_model.wv.vocab.keys())\n",
    "print(\"Word2Vec model built with example vocabulary:\")\n",
    "print(str(vocab[0:10]))\n",
    "end=time.time()\n",
    "print(\"Time taken: {}s\".format(str(end-start)))"
   ]
  },
  {
   "cell_type": "markdown",
   "metadata": {},
   "source": [
    "Use model to find neighbours etc."
   ]
  },
  {
   "cell_type": "code",
   "execution_count": 73,
   "metadata": {},
   "outputs": [
    {
     "data": {
      "text/plain": [
       "[('apartment', 0.6452941298484802),\n",
       " ('premise', 0.6039730906486511),\n",
       " ('female', 0.5802584290504456),\n",
       " ('ship', 0.5479851961135864),\n",
       " ('company', 0.5351234674453735),\n",
       " ('market', 0.534112274646759),\n",
       " ('room', 0.5338873267173767),\n",
       " ('school', 0.5279601812362671),\n",
       " ('opposite', 0.5241776704788208),\n",
       " ('stranger', 0.5216376781463623)]"
      ]
     },
     "execution_count": 73,
     "metadata": {},
     "output_type": "execute_result"
    }
   ],
   "source": [
    "female_witness_model.wv.most_similar(\"house\")"
   ]
  },
  {
   "cell_type": "markdown",
   "metadata": {},
   "source": [
    "Build Word2Vec model for male_witness_corpus"
   ]
  },
  {
   "cell_type": "code",
   "execution_count": 70,
   "metadata": {},
   "outputs": [
    {
     "name": "stdout",
     "output_type": "stream",
     "text": [
      "Word2Vec model built with example vocabulary:\n",
      "['live', '7', 'great', 'street', 'charing', 'cross', '15th', 'december', 'go', 'kitchen']\n",
      "Time take: 21.833372116088867s\n"
     ]
    }
   ],
   "source": [
    "start=time.time()\n",
    "male_witness_model=Word2Vec(male_witness_corpus.sentences,min_count=min_count,size=size,sg=sg,workers=4)\n",
    "vocab=list(male_witness_model.wv.vocab.keys())\n",
    "print(\"Word2Vec model built with example vocabulary:\")\n",
    "print(str(vocab[0:10]))\n",
    "end=time.time()\n",
    "print(\"Time take: {}s\".format(str(end-start)))"
   ]
  },
  {
   "cell_type": "markdown",
   "metadata": {},
   "source": [
    "Use model to find neighbours etc."
   ]
  },
  {
   "cell_type": "code",
   "execution_count": 72,
   "metadata": {},
   "outputs": [
    {
     "data": {
      "text/plain": [
       "[('horses', 0.45756158232688904),\n",
       " ('poplar', 0.4559163749217987),\n",
       " ('apartment', 0.45361706614494324),\n",
       " ('housekeeper', 0.4450669288635254),\n",
       " ('luke', 0.4419458210468292),\n",
       " ('grosvenor', 0.42150017619132996),\n",
       " ('eagle', 0.41411030292510986),\n",
       " ('dwell', 0.41180920600891113),\n",
       " ('prince', 0.4091590344905853),\n",
       " ('arms', 0.4063318371772766)]"
      ]
     },
     "execution_count": 72,
     "metadata": {},
     "output_type": "execute_result"
    }
   ],
   "source": [
    "male_witness_model.wv.most_similar(\"house\")"
   ]
  },
  {
   "cell_type": "code",
   "execution_count": null,
   "metadata": {
    "collapsed": true
   },
   "outputs": [],
   "source": []
  }
 ],
 "metadata": {
  "kernelspec": {
   "display_name": "Python 3",
   "language": "python",
   "name": "python3"
  },
  "language_info": {
   "codemirror_mode": {
    "name": "ipython",
    "version": 3
   },
   "file_extension": ".py",
   "mimetype": "text/x-python",
   "name": "python",
   "nbconvert_exporter": "python",
   "pygments_lexer": "ipython3",
   "version": "3.6.0"
  }
 },
 "nbformat": 4,
 "nbformat_minor": 2
}
